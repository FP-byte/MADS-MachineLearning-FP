{
 "cells": [
  {
   "attachments": {},
   "cell_type": "markdown",
   "metadata": {},
   "source": [
    "First:\n",
    "- go to the terminal\n",
    "- go to the `4_tuning_networks` folder, use `cd` to get there, or `z` to get there faster.\n",
    "- if you are planning on closing the laptop to let this run by itself, start a tmux session by giving the command `tmux`. You can name the session with `ctrl+b $`, leave the tmux with `ctrl+b` d, access it again with `tmux a -t 0` or replace the 0 with the name you gave it. See [tmux](https://github.com/tmux/tmux/wiki/Getting-Started) for more info.\n",
    "- Activate the `.venv`, and run `python hypertune.py`\n",
    "- In the hypertune.py file, a tune_dir is specified: `models/ray`. We will check the contents of that folder after the hypertune finished. You can also use tensorboard to check the results. \n",
    "- this will take some time. I clocked 1901 seconds (30 minutes) on the VM"
   ]
  },
  {
   "attachments": {},
   "cell_type": "markdown",
   "metadata": {},
   "source": [
    " 0.0992908 |           119 |            3 |     26 |         576.744  |    0 |   0.942187"
   ]
  },
  {
   "cell_type": "code",
   "execution_count": 28,
   "metadata": {},
   "outputs": [
    {
     "data": {
      "text/plain": [
       "[WindowsPath('C:/Users/Francesca/Documents/osint/code_repo/AI/MADS-MachineLearning-FP/dev/notebooks/4_tuning_networks/models/ray/tune_different_models_2024-12-13_19-35-19'),\n",
       " WindowsPath('C:/Users/Francesca/Documents/osint/code_repo/AI/MADS-MachineLearning-FP/dev/notebooks/4_tuning_networks/models/ray/tune_different_models_2024-12-13_20-27-53'),\n",
       " WindowsPath('C:/Users/Francesca/Documents/osint/code_repo/AI/MADS-MachineLearning-FP/dev/notebooks/4_tuning_networks/models/ray/tune_different_models_2024-12-13_20-30-39'),\n",
       " WindowsPath('C:/Users/Francesca/Documents/osint/code_repo/AI/MADS-MachineLearning-FP/dev/notebooks/4_tuning_networks/models/ray/tune_different_models_2024-12-13_20-37-11'),\n",
       " WindowsPath('C:/Users/Francesca/Documents/osint/code_repo/AI/MADS-MachineLearning-FP/dev/notebooks/4_tuning_networks/models/ray/tune_different_models_2024-12-14_20-50-31'),\n",
       " WindowsPath('C:/Users/Francesca/Documents/osint/code_repo/AI/MADS-MachineLearning-FP/dev/notebooks/4_tuning_networks/models/ray/tune_different_models_2024-12-14_20-53-13'),\n",
       " WindowsPath('C:/Users/Francesca/Documents/osint/code_repo/AI/MADS-MachineLearning-FP/dev/notebooks/4_tuning_networks/models/ray/tune_different_models_2024-12-14_20-59-43'),\n",
       " WindowsPath('C:/Users/Francesca/Documents/osint/code_repo/AI/MADS-MachineLearning-FP/dev/notebooks/4_tuning_networks/models/ray/tune_different_models_2024-12-14_21-25-38'),\n",
       " WindowsPath('C:/Users/Francesca/Documents/osint/code_repo/AI/MADS-MachineLearning-FP/dev/notebooks/4_tuning_networks/models/ray/tune_different_models_2024-12-14_21-29-49'),\n",
       " WindowsPath('C:/Users/Francesca/Documents/osint/code_repo/AI/MADS-MachineLearning-FP/dev/notebooks/4_tuning_networks/models/ray/tune_model_2024-12-13_09-08-23'),\n",
       " WindowsPath('C:/Users/Francesca/Documents/osint/code_repo/AI/MADS-MachineLearning-FP/dev/notebooks/4_tuning_networks/models/ray/tune_model_2024-12-13_09-17-57'),\n",
       " WindowsPath('C:/Users/Francesca/Documents/osint/code_repo/AI/MADS-MachineLearning-FP/dev/notebooks/4_tuning_networks/models/ray/tune_two_models_2024-12-10_20-34-21'),\n",
       " WindowsPath('C:/Users/Francesca/Documents/osint/code_repo/AI/MADS-MachineLearning-FP/dev/notebooks/4_tuning_networks/models/ray/tune_two_models_2024-12-10_20-40-19'),\n",
       " WindowsPath('C:/Users/Francesca/Documents/osint/code_repo/AI/MADS-MachineLearning-FP/dev/notebooks/4_tuning_networks/models/ray/tune_two_models_2024-12-10_20-41-01'),\n",
       " WindowsPath('C:/Users/Francesca/Documents/osint/code_repo/AI/MADS-MachineLearning-FP/dev/notebooks/4_tuning_networks/models/ray/tune_two_models_2024-12-10_20-49-06'),\n",
       " WindowsPath('C:/Users/Francesca/Documents/osint/code_repo/AI/MADS-MachineLearning-FP/dev/notebooks/4_tuning_networks/models/ray/tune_two_models_2024-12-12_20-49-19'),\n",
       " WindowsPath('C:/Users/Francesca/Documents/osint/code_repo/AI/MADS-MachineLearning-FP/dev/notebooks/4_tuning_networks/models/ray/tune_two_models_2024-12-12_20-51-43')]"
      ]
     },
     "execution_count": 28,
     "metadata": {},
     "output_type": "execute_result"
    }
   ],
   "source": [
    "from pathlib import Path\n",
    "tune_dir = Path(\"models/ray\").resolve()\n",
    "tune_dir.exists()\n",
    "tunelogs = [d for d in tune_dir.iterdir()]\n",
    "tunelogs.sort()\n",
    "tunelogs"
   ]
  },
  {
   "cell_type": "code",
   "execution_count": 29,
   "metadata": {},
   "outputs": [
    {
     "data": {
      "text/plain": [
       "WindowsPath('C:/Users/Francesca/Documents/osint/code_repo/AI/MADS-MachineLearning-FP/dev/notebooks/4_tuning_networks/models/ray/tune_two_models_2024-12-12_20-51-43')"
      ]
     },
     "execution_count": 29,
     "metadata": {},
     "output_type": "execute_result"
    }
   ],
   "source": [
    "tunelogs = [d for d in tune_dir.iterdir()]\n",
    "tunelogs.sort()\n",
    "latest = tunelogs[-1]\n",
    "latest"
   ]
  },
  {
   "cell_type": "code",
   "execution_count": 30,
   "metadata": {},
   "outputs": [
    {
     "data": {
      "text/plain": [
       "'tune_two_models_2024-12-12_20-51-43'"
      ]
     },
     "execution_count": 30,
     "metadata": {},
     "output_type": "execute_result"
    }
   ],
   "source": [
    "Path(latest).name"
   ]
  },
  {
   "cell_type": "code",
   "execution_count": 31,
   "metadata": {},
   "outputs": [
    {
     "name": "stderr",
     "output_type": "stream",
     "text": [
      "2024-12-15 11:19:32,356\tINFO worker.py:1652 -- Calling ray.init() again after it has already been called.\n"
     ]
    }
   ],
   "source": [
    "from ray.tune import ExperimentAnalysis\n",
    "import ray\n",
    "ray.init(ignore_reinit_error=True)\n",
    "\n",
    "\n",
    "analysis = ExperimentAnalysis(latest)\n"
   ]
  },
  {
   "attachments": {},
   "cell_type": "markdown",
   "metadata": {},
   "source": [
    "So, we find some info:"
   ]
  },
  {
   "cell_type": "code",
   "execution_count": 32,
   "metadata": {},
   "outputs": [
    {
     "data": {
      "text/plain": [
       "Index(['valid_loss', 'train_loss', 'accuracy', 'timestamp',\n",
       "       'checkpoint_dir_name', 'done', 'training_iteration', 'date',\n",
       "       'time_this_iter_s', 'time_total_s', 'pid', 'hostname', 'node_ip',\n",
       "       'time_since_restore', 'iterations_since_restore', 'experiment_tag',\n",
       "       'config/input_size', 'config/output_size', 'config/dropout',\n",
       "       'config/hidden_size', 'config/num_layers', 'config/epochs',\n",
       "       'config/tune_dir', 'config/choice'],\n",
       "      dtype='object')"
      ]
     },
     "execution_count": 32,
     "metadata": {},
     "output_type": "execute_result"
    }
   ],
   "source": [
    "analysis.results_df.columns\n"
   ]
  },
  {
   "cell_type": "code",
   "execution_count": 34,
   "metadata": {},
   "outputs": [
    {
     "data": {
      "text/html": [
       "<div>\n",
       "<style scoped>\n",
       "    .dataframe tbody tr th:only-of-type {\n",
       "        vertical-align: middle;\n",
       "    }\n",
       "\n",
       "    .dataframe tbody tr th {\n",
       "        vertical-align: top;\n",
       "    }\n",
       "\n",
       "    .dataframe thead th {\n",
       "        text-align: right;\n",
       "    }\n",
       "</style>\n",
       "<table border=\"1\" class=\"dataframe\">\n",
       "  <thead>\n",
       "    <tr style=\"text-align: right;\">\n",
       "      <th></th>\n",
       "      <th>valid_loss</th>\n",
       "      <th>train_loss</th>\n",
       "      <th>accuracy</th>\n",
       "      <th>timestamp</th>\n",
       "      <th>checkpoint_dir_name</th>\n",
       "      <th>done</th>\n",
       "      <th>training_iteration</th>\n",
       "      <th>trial_id</th>\n",
       "      <th>date</th>\n",
       "      <th>time_this_iter_s</th>\n",
       "      <th>...</th>\n",
       "      <th>iterations_since_restore</th>\n",
       "      <th>config/input_size</th>\n",
       "      <th>config/output_size</th>\n",
       "      <th>config/dropout</th>\n",
       "      <th>config/hidden_size</th>\n",
       "      <th>config/num_layers</th>\n",
       "      <th>config/epochs</th>\n",
       "      <th>config/tune_dir</th>\n",
       "      <th>config/choice</th>\n",
       "      <th>logdir</th>\n",
       "    </tr>\n",
       "  </thead>\n",
       "  <tbody>\n",
       "    <tr>\n",
       "      <th>0</th>\n",
       "      <td>0.072705</td>\n",
       "      <td>0.096459</td>\n",
       "      <td>0.987500</td>\n",
       "      <td>1734036213</td>\n",
       "      <td>None</td>\n",
       "      <td>True</td>\n",
       "      <td>5</td>\n",
       "      <td>82dd5_00015</td>\n",
       "      <td>2024-12-12_21-43-33</td>\n",
       "      <td>420.663996</td>\n",
       "      <td>...</td>\n",
       "      <td>5</td>\n",
       "      <td>3</td>\n",
       "      <td>20</td>\n",
       "      <td>0.1</td>\n",
       "      <td>855</td>\n",
       "      <td>4</td>\n",
       "      <td>5</td>\n",
       "      <td>C:\\Users\\Francesca\\Documents\\osint\\code_repo\\A...</td>\n",
       "      <td>1</td>\n",
       "      <td>82dd5_00015</td>\n",
       "    </tr>\n",
       "    <tr>\n",
       "      <th>1</th>\n",
       "      <td>0.127791</td>\n",
       "      <td>0.094127</td>\n",
       "      <td>0.965625</td>\n",
       "      <td>1734034176</td>\n",
       "      <td>None</td>\n",
       "      <td>True</td>\n",
       "      <td>5</td>\n",
       "      <td>82dd5_00002</td>\n",
       "      <td>2024-12-12_21-09-36</td>\n",
       "      <td>217.507021</td>\n",
       "      <td>...</td>\n",
       "      <td>5</td>\n",
       "      <td>3</td>\n",
       "      <td>20</td>\n",
       "      <td>0.1</td>\n",
       "      <td>456</td>\n",
       "      <td>4</td>\n",
       "      <td>5</td>\n",
       "      <td>C:\\Users\\Francesca\\Documents\\osint\\code_repo\\A...</td>\n",
       "      <td>1</td>\n",
       "      <td>82dd5_00002</td>\n",
       "    </tr>\n",
       "    <tr>\n",
       "      <th>2</th>\n",
       "      <td>0.108675</td>\n",
       "      <td>0.107138</td>\n",
       "      <td>0.976562</td>\n",
       "      <td>1734035962</td>\n",
       "      <td>None</td>\n",
       "      <td>True</td>\n",
       "      <td>5</td>\n",
       "      <td>82dd5_00000</td>\n",
       "      <td>2024-12-12_21-39-22</td>\n",
       "      <td>457.044585</td>\n",
       "      <td>...</td>\n",
       "      <td>5</td>\n",
       "      <td>3</td>\n",
       "      <td>20</td>\n",
       "      <td>0.1</td>\n",
       "      <td>806</td>\n",
       "      <td>4</td>\n",
       "      <td>5</td>\n",
       "      <td>C:\\Users\\Francesca\\Documents\\osint\\code_repo\\A...</td>\n",
       "      <td>1</td>\n",
       "      <td>82dd5_00000</td>\n",
       "    </tr>\n",
       "    <tr>\n",
       "      <th>3</th>\n",
       "      <td>0.076691</td>\n",
       "      <td>0.098495</td>\n",
       "      <td>0.981250</td>\n",
       "      <td>1734036302</td>\n",
       "      <td>None</td>\n",
       "      <td>True</td>\n",
       "      <td>5</td>\n",
       "      <td>82dd5_00006</td>\n",
       "      <td>2024-12-12_21-45-02</td>\n",
       "      <td>400.883196</td>\n",
       "      <td>...</td>\n",
       "      <td>5</td>\n",
       "      <td>3</td>\n",
       "      <td>20</td>\n",
       "      <td>0.1</td>\n",
       "      <td>889</td>\n",
       "      <td>4</td>\n",
       "      <td>5</td>\n",
       "      <td>C:\\Users\\Francesca\\Documents\\osint\\code_repo\\A...</td>\n",
       "      <td>1</td>\n",
       "      <td>82dd5_00006</td>\n",
       "    </tr>\n",
       "    <tr>\n",
       "      <th>4</th>\n",
       "      <td>1.380434</td>\n",
       "      <td>1.479869</td>\n",
       "      <td>0.409375</td>\n",
       "      <td>1734036603</td>\n",
       "      <td>None</td>\n",
       "      <td>True</td>\n",
       "      <td>5</td>\n",
       "      <td>82dd5_00009</td>\n",
       "      <td>2024-12-12_21-50-03</td>\n",
       "      <td>295.790601</td>\n",
       "      <td>...</td>\n",
       "      <td>5</td>\n",
       "      <td>3</td>\n",
       "      <td>20</td>\n",
       "      <td>0.1</td>\n",
       "      <td>994</td>\n",
       "      <td>4</td>\n",
       "      <td>5</td>\n",
       "      <td>C:\\Users\\Francesca\\Documents\\osint\\code_repo\\A...</td>\n",
       "      <td>0</td>\n",
       "      <td>82dd5_00009</td>\n",
       "    </tr>\n",
       "    <tr>\n",
       "      <th>5</th>\n",
       "      <td>1.236674</td>\n",
       "      <td>1.346505</td>\n",
       "      <td>0.504687</td>\n",
       "      <td>1734034421</td>\n",
       "      <td>None</td>\n",
       "      <td>True</td>\n",
       "      <td>5</td>\n",
       "      <td>82dd5_00004</td>\n",
       "      <td>2024-12-12_21-13-41</td>\n",
       "      <td>234.443259</td>\n",
       "      <td>...</td>\n",
       "      <td>5</td>\n",
       "      <td>3</td>\n",
       "      <td>20</td>\n",
       "      <td>0.1</td>\n",
       "      <td>454</td>\n",
       "      <td>4</td>\n",
       "      <td>5</td>\n",
       "      <td>C:\\Users\\Francesca\\Documents\\osint\\code_repo\\A...</td>\n",
       "      <td>0</td>\n",
       "      <td>82dd5_00004</td>\n",
       "    </tr>\n",
       "    <tr>\n",
       "      <th>6</th>\n",
       "      <td>1.706408</td>\n",
       "      <td>1.791243</td>\n",
       "      <td>0.315625</td>\n",
       "      <td>1734036027</td>\n",
       "      <td>None</td>\n",
       "      <td>True</td>\n",
       "      <td>5</td>\n",
       "      <td>82dd5_00017</td>\n",
       "      <td>2024-12-12_21-40-27</td>\n",
       "      <td>294.894838</td>\n",
       "      <td>...</td>\n",
       "      <td>5</td>\n",
       "      <td>3</td>\n",
       "      <td>20</td>\n",
       "      <td>0.1</td>\n",
       "      <td>647</td>\n",
       "      <td>4</td>\n",
       "      <td>5</td>\n",
       "      <td>C:\\Users\\Francesca\\Documents\\osint\\code_repo\\A...</td>\n",
       "      <td>0</td>\n",
       "      <td>82dd5_00017</td>\n",
       "    </tr>\n",
       "    <tr>\n",
       "      <th>7</th>\n",
       "      <td>0.021072</td>\n",
       "      <td>0.085059</td>\n",
       "      <td>0.993750</td>\n",
       "      <td>1734036276</td>\n",
       "      <td>None</td>\n",
       "      <td>True</td>\n",
       "      <td>5</td>\n",
       "      <td>82dd5_00012</td>\n",
       "      <td>2024-12-12_21-44-36</td>\n",
       "      <td>425.714766</td>\n",
       "      <td>...</td>\n",
       "      <td>5</td>\n",
       "      <td>3</td>\n",
       "      <td>20</td>\n",
       "      <td>0.1</td>\n",
       "      <td>886</td>\n",
       "      <td>4</td>\n",
       "      <td>5</td>\n",
       "      <td>C:\\Users\\Francesca\\Documents\\osint\\code_repo\\A...</td>\n",
       "      <td>1</td>\n",
       "      <td>82dd5_00012</td>\n",
       "    </tr>\n",
       "    <tr>\n",
       "      <th>8</th>\n",
       "      <td>0.061361</td>\n",
       "      <td>0.069046</td>\n",
       "      <td>0.984375</td>\n",
       "      <td>1734036325</td>\n",
       "      <td>None</td>\n",
       "      <td>True</td>\n",
       "      <td>5</td>\n",
       "      <td>82dd5_00016</td>\n",
       "      <td>2024-12-12_21-45-25</td>\n",
       "      <td>272.053889</td>\n",
       "      <td>...</td>\n",
       "      <td>5</td>\n",
       "      <td>3</td>\n",
       "      <td>20</td>\n",
       "      <td>0.1</td>\n",
       "      <td>775</td>\n",
       "      <td>4</td>\n",
       "      <td>5</td>\n",
       "      <td>C:\\Users\\Francesca\\Documents\\osint\\code_repo\\A...</td>\n",
       "      <td>1</td>\n",
       "      <td>82dd5_00016</td>\n",
       "    </tr>\n",
       "    <tr>\n",
       "      <th>9</th>\n",
       "      <td>0.100090</td>\n",
       "      <td>0.065478</td>\n",
       "      <td>0.970312</td>\n",
       "      <td>1734035567</td>\n",
       "      <td>None</td>\n",
       "      <td>True</td>\n",
       "      <td>5</td>\n",
       "      <td>82dd5_00008</td>\n",
       "      <td>2024-12-12_21-32-47</td>\n",
       "      <td>440.798274</td>\n",
       "      <td>...</td>\n",
       "      <td>5</td>\n",
       "      <td>3</td>\n",
       "      <td>20</td>\n",
       "      <td>0.1</td>\n",
       "      <td>740</td>\n",
       "      <td>4</td>\n",
       "      <td>5</td>\n",
       "      <td>C:\\Users\\Francesca\\Documents\\osint\\code_repo\\A...</td>\n",
       "      <td>1</td>\n",
       "      <td>82dd5_00008</td>\n",
       "    </tr>\n",
       "    <tr>\n",
       "      <th>10</th>\n",
       "      <td>0.115029</td>\n",
       "      <td>0.093714</td>\n",
       "      <td>0.976562</td>\n",
       "      <td>1734034022</td>\n",
       "      <td>None</td>\n",
       "      <td>True</td>\n",
       "      <td>5</td>\n",
       "      <td>82dd5_00011</td>\n",
       "      <td>2024-12-12_21-07-02</td>\n",
       "      <td>197.382262</td>\n",
       "      <td>...</td>\n",
       "      <td>5</td>\n",
       "      <td>3</td>\n",
       "      <td>20</td>\n",
       "      <td>0.1</td>\n",
       "      <td>404</td>\n",
       "      <td>4</td>\n",
       "      <td>5</td>\n",
       "      <td>C:\\Users\\Francesca\\Documents\\osint\\code_repo\\A...</td>\n",
       "      <td>1</td>\n",
       "      <td>82dd5_00011</td>\n",
       "    </tr>\n",
       "    <tr>\n",
       "      <th>11</th>\n",
       "      <td>1.653214</td>\n",
       "      <td>1.750745</td>\n",
       "      <td>0.304688</td>\n",
       "      <td>1734035709</td>\n",
       "      <td>None</td>\n",
       "      <td>True</td>\n",
       "      <td>5</td>\n",
       "      <td>82dd5_00005</td>\n",
       "      <td>2024-12-12_21-35-09</td>\n",
       "      <td>441.495787</td>\n",
       "      <td>...</td>\n",
       "      <td>5</td>\n",
       "      <td>3</td>\n",
       "      <td>20</td>\n",
       "      <td>0.1</td>\n",
       "      <td>731</td>\n",
       "      <td>4</td>\n",
       "      <td>5</td>\n",
       "      <td>C:\\Users\\Francesca\\Documents\\osint\\code_repo\\A...</td>\n",
       "      <td>0</td>\n",
       "      <td>82dd5_00005</td>\n",
       "    </tr>\n",
       "    <tr>\n",
       "      <th>12</th>\n",
       "      <td>0.051837</td>\n",
       "      <td>0.087893</td>\n",
       "      <td>0.984375</td>\n",
       "      <td>1734036564</td>\n",
       "      <td>None</td>\n",
       "      <td>True</td>\n",
       "      <td>5</td>\n",
       "      <td>82dd5_00001</td>\n",
       "      <td>2024-12-12_21-49-24</td>\n",
       "      <td>270.882122</td>\n",
       "      <td>...</td>\n",
       "      <td>5</td>\n",
       "      <td>3</td>\n",
       "      <td>20</td>\n",
       "      <td>0.1</td>\n",
       "      <td>1017</td>\n",
       "      <td>4</td>\n",
       "      <td>5</td>\n",
       "      <td>C:\\Users\\Francesca\\Documents\\osint\\code_repo\\A...</td>\n",
       "      <td>1</td>\n",
       "      <td>82dd5_00001</td>\n",
       "    </tr>\n",
       "    <tr>\n",
       "      <th>13</th>\n",
       "      <td>0.043511</td>\n",
       "      <td>0.075038</td>\n",
       "      <td>0.990625</td>\n",
       "      <td>1734036282</td>\n",
       "      <td>None</td>\n",
       "      <td>True</td>\n",
       "      <td>5</td>\n",
       "      <td>82dd5_00003</td>\n",
       "      <td>2024-12-12_21-44-42</td>\n",
       "      <td>408.368351</td>\n",
       "      <td>...</td>\n",
       "      <td>5</td>\n",
       "      <td>3</td>\n",
       "      <td>20</td>\n",
       "      <td>0.1</td>\n",
       "      <td>875</td>\n",
       "      <td>4</td>\n",
       "      <td>5</td>\n",
       "      <td>C:\\Users\\Francesca\\Documents\\osint\\code_repo\\A...</td>\n",
       "      <td>1</td>\n",
       "      <td>82dd5_00003</td>\n",
       "    </tr>\n",
       "    <tr>\n",
       "      <th>14</th>\n",
       "      <td>0.278281</td>\n",
       "      <td>0.071125</td>\n",
       "      <td>0.946875</td>\n",
       "      <td>1734034524</td>\n",
       "      <td>None</td>\n",
       "      <td>True</td>\n",
       "      <td>5</td>\n",
       "      <td>82dd5_00010</td>\n",
       "      <td>2024-12-12_21-15-24</td>\n",
       "      <td>266.258764</td>\n",
       "      <td>...</td>\n",
       "      <td>5</td>\n",
       "      <td>3</td>\n",
       "      <td>20</td>\n",
       "      <td>0.1</td>\n",
       "      <td>528</td>\n",
       "      <td>4</td>\n",
       "      <td>5</td>\n",
       "      <td>C:\\Users\\Francesca\\Documents\\osint\\code_repo\\A...</td>\n",
       "      <td>1</td>\n",
       "      <td>82dd5_00010</td>\n",
       "    </tr>\n",
       "    <tr>\n",
       "      <th>15</th>\n",
       "      <td>1.506520</td>\n",
       "      <td>1.616565</td>\n",
       "      <td>0.314063</td>\n",
       "      <td>1734035965</td>\n",
       "      <td>None</td>\n",
       "      <td>True</td>\n",
       "      <td>5</td>\n",
       "      <td>82dd5_00007</td>\n",
       "      <td>2024-12-12_21-39-25</td>\n",
       "      <td>468.020806</td>\n",
       "      <td>...</td>\n",
       "      <td>5</td>\n",
       "      <td>3</td>\n",
       "      <td>20</td>\n",
       "      <td>0.1</td>\n",
       "      <td>796</td>\n",
       "      <td>4</td>\n",
       "      <td>5</td>\n",
       "      <td>C:\\Users\\Francesca\\Documents\\osint\\code_repo\\A...</td>\n",
       "      <td>0</td>\n",
       "      <td>82dd5_00007</td>\n",
       "    </tr>\n",
       "    <tr>\n",
       "      <th>16</th>\n",
       "      <td>0.095069</td>\n",
       "      <td>0.089058</td>\n",
       "      <td>0.973437</td>\n",
       "      <td>1734034510</td>\n",
       "      <td>None</td>\n",
       "      <td>True</td>\n",
       "      <td>5</td>\n",
       "      <td>82dd5_00013</td>\n",
       "      <td>2024-12-12_21-15-10</td>\n",
       "      <td>269.534415</td>\n",
       "      <td>...</td>\n",
       "      <td>5</td>\n",
       "      <td>3</td>\n",
       "      <td>20</td>\n",
       "      <td>0.1</td>\n",
       "      <td>507</td>\n",
       "      <td>4</td>\n",
       "      <td>5</td>\n",
       "      <td>C:\\Users\\Francesca\\Documents\\osint\\code_repo\\A...</td>\n",
       "      <td>1</td>\n",
       "      <td>82dd5_00013</td>\n",
       "    </tr>\n",
       "    <tr>\n",
       "      <th>17</th>\n",
       "      <td>2.224097</td>\n",
       "      <td>2.260556</td>\n",
       "      <td>0.148438</td>\n",
       "      <td>1734036673</td>\n",
       "      <td>None</td>\n",
       "      <td>True</td>\n",
       "      <td>5</td>\n",
       "      <td>82dd5_00014</td>\n",
       "      <td>2024-12-12_21-51-13</td>\n",
       "      <td>280.572428</td>\n",
       "      <td>...</td>\n",
       "      <td>5</td>\n",
       "      <td>3</td>\n",
       "      <td>20</td>\n",
       "      <td>0.1</td>\n",
       "      <td>1023</td>\n",
       "      <td>4</td>\n",
       "      <td>5</td>\n",
       "      <td>C:\\Users\\Francesca\\Documents\\osint\\code_repo\\A...</td>\n",
       "      <td>0</td>\n",
       "      <td>82dd5_00014</td>\n",
       "    </tr>\n",
       "  </tbody>\n",
       "</table>\n",
       "<p>18 rows × 25 columns</p>\n",
       "</div>"
      ],
      "text/plain": [
       "    valid_loss  train_loss  accuracy   timestamp checkpoint_dir_name  done  \\\n",
       "0     0.072705    0.096459  0.987500  1734036213                None  True   \n",
       "1     0.127791    0.094127  0.965625  1734034176                None  True   \n",
       "2     0.108675    0.107138  0.976562  1734035962                None  True   \n",
       "3     0.076691    0.098495  0.981250  1734036302                None  True   \n",
       "4     1.380434    1.479869  0.409375  1734036603                None  True   \n",
       "5     1.236674    1.346505  0.504687  1734034421                None  True   \n",
       "6     1.706408    1.791243  0.315625  1734036027                None  True   \n",
       "7     0.021072    0.085059  0.993750  1734036276                None  True   \n",
       "8     0.061361    0.069046  0.984375  1734036325                None  True   \n",
       "9     0.100090    0.065478  0.970312  1734035567                None  True   \n",
       "10    0.115029    0.093714  0.976562  1734034022                None  True   \n",
       "11    1.653214    1.750745  0.304688  1734035709                None  True   \n",
       "12    0.051837    0.087893  0.984375  1734036564                None  True   \n",
       "13    0.043511    0.075038  0.990625  1734036282                None  True   \n",
       "14    0.278281    0.071125  0.946875  1734034524                None  True   \n",
       "15    1.506520    1.616565  0.314063  1734035965                None  True   \n",
       "16    0.095069    0.089058  0.973437  1734034510                None  True   \n",
       "17    2.224097    2.260556  0.148438  1734036673                None  True   \n",
       "\n",
       "    training_iteration     trial_id                 date  time_this_iter_s  \\\n",
       "0                    5  82dd5_00015  2024-12-12_21-43-33        420.663996   \n",
       "1                    5  82dd5_00002  2024-12-12_21-09-36        217.507021   \n",
       "2                    5  82dd5_00000  2024-12-12_21-39-22        457.044585   \n",
       "3                    5  82dd5_00006  2024-12-12_21-45-02        400.883196   \n",
       "4                    5  82dd5_00009  2024-12-12_21-50-03        295.790601   \n",
       "5                    5  82dd5_00004  2024-12-12_21-13-41        234.443259   \n",
       "6                    5  82dd5_00017  2024-12-12_21-40-27        294.894838   \n",
       "7                    5  82dd5_00012  2024-12-12_21-44-36        425.714766   \n",
       "8                    5  82dd5_00016  2024-12-12_21-45-25        272.053889   \n",
       "9                    5  82dd5_00008  2024-12-12_21-32-47        440.798274   \n",
       "10                   5  82dd5_00011  2024-12-12_21-07-02        197.382262   \n",
       "11                   5  82dd5_00005  2024-12-12_21-35-09        441.495787   \n",
       "12                   5  82dd5_00001  2024-12-12_21-49-24        270.882122   \n",
       "13                   5  82dd5_00003  2024-12-12_21-44-42        408.368351   \n",
       "14                   5  82dd5_00010  2024-12-12_21-15-24        266.258764   \n",
       "15                   5  82dd5_00007  2024-12-12_21-39-25        468.020806   \n",
       "16                   5  82dd5_00013  2024-12-12_21-15-10        269.534415   \n",
       "17                   5  82dd5_00014  2024-12-12_21-51-13        280.572428   \n",
       "\n",
       "    ...  iterations_since_restore  config/input_size config/output_size  \\\n",
       "0   ...                         5                  3                 20   \n",
       "1   ...                         5                  3                 20   \n",
       "2   ...                         5                  3                 20   \n",
       "3   ...                         5                  3                 20   \n",
       "4   ...                         5                  3                 20   \n",
       "5   ...                         5                  3                 20   \n",
       "6   ...                         5                  3                 20   \n",
       "7   ...                         5                  3                 20   \n",
       "8   ...                         5                  3                 20   \n",
       "9   ...                         5                  3                 20   \n",
       "10  ...                         5                  3                 20   \n",
       "11  ...                         5                  3                 20   \n",
       "12  ...                         5                  3                 20   \n",
       "13  ...                         5                  3                 20   \n",
       "14  ...                         5                  3                 20   \n",
       "15  ...                         5                  3                 20   \n",
       "16  ...                         5                  3                 20   \n",
       "17  ...                         5                  3                 20   \n",
       "\n",
       "   config/dropout  config/hidden_size  config/num_layers  config/epochs  \\\n",
       "0             0.1                 855                  4              5   \n",
       "1             0.1                 456                  4              5   \n",
       "2             0.1                 806                  4              5   \n",
       "3             0.1                 889                  4              5   \n",
       "4             0.1                 994                  4              5   \n",
       "5             0.1                 454                  4              5   \n",
       "6             0.1                 647                  4              5   \n",
       "7             0.1                 886                  4              5   \n",
       "8             0.1                 775                  4              5   \n",
       "9             0.1                 740                  4              5   \n",
       "10            0.1                 404                  4              5   \n",
       "11            0.1                 731                  4              5   \n",
       "12            0.1                1017                  4              5   \n",
       "13            0.1                 875                  4              5   \n",
       "14            0.1                 528                  4              5   \n",
       "15            0.1                 796                  4              5   \n",
       "16            0.1                 507                  4              5   \n",
       "17            0.1                1023                  4              5   \n",
       "\n",
       "                                      config/tune_dir  config/choice  \\\n",
       "0   C:\\Users\\Francesca\\Documents\\osint\\code_repo\\A...              1   \n",
       "1   C:\\Users\\Francesca\\Documents\\osint\\code_repo\\A...              1   \n",
       "2   C:\\Users\\Francesca\\Documents\\osint\\code_repo\\A...              1   \n",
       "3   C:\\Users\\Francesca\\Documents\\osint\\code_repo\\A...              1   \n",
       "4   C:\\Users\\Francesca\\Documents\\osint\\code_repo\\A...              0   \n",
       "5   C:\\Users\\Francesca\\Documents\\osint\\code_repo\\A...              0   \n",
       "6   C:\\Users\\Francesca\\Documents\\osint\\code_repo\\A...              0   \n",
       "7   C:\\Users\\Francesca\\Documents\\osint\\code_repo\\A...              1   \n",
       "8   C:\\Users\\Francesca\\Documents\\osint\\code_repo\\A...              1   \n",
       "9   C:\\Users\\Francesca\\Documents\\osint\\code_repo\\A...              1   \n",
       "10  C:\\Users\\Francesca\\Documents\\osint\\code_repo\\A...              1   \n",
       "11  C:\\Users\\Francesca\\Documents\\osint\\code_repo\\A...              0   \n",
       "12  C:\\Users\\Francesca\\Documents\\osint\\code_repo\\A...              1   \n",
       "13  C:\\Users\\Francesca\\Documents\\osint\\code_repo\\A...              1   \n",
       "14  C:\\Users\\Francesca\\Documents\\osint\\code_repo\\A...              1   \n",
       "15  C:\\Users\\Francesca\\Documents\\osint\\code_repo\\A...              0   \n",
       "16  C:\\Users\\Francesca\\Documents\\osint\\code_repo\\A...              1   \n",
       "17  C:\\Users\\Francesca\\Documents\\osint\\code_repo\\A...              0   \n",
       "\n",
       "         logdir  \n",
       "0   82dd5_00015  \n",
       "1   82dd5_00002  \n",
       "2   82dd5_00000  \n",
       "3   82dd5_00006  \n",
       "4   82dd5_00009  \n",
       "5   82dd5_00004  \n",
       "6   82dd5_00017  \n",
       "7   82dd5_00012  \n",
       "8   82dd5_00016  \n",
       "9   82dd5_00008  \n",
       "10  82dd5_00011  \n",
       "11  82dd5_00005  \n",
       "12  82dd5_00001  \n",
       "13  82dd5_00003  \n",
       "14  82dd5_00010  \n",
       "15  82dd5_00007  \n",
       "16  82dd5_00013  \n",
       "17  82dd5_00014  \n",
       "\n",
       "[18 rows x 25 columns]"
      ]
     },
     "execution_count": 34,
     "metadata": {},
     "output_type": "execute_result"
    }
   ],
   "source": [
    "analysis.dataframe()"
   ]
  },
  {
   "attachments": {},
   "cell_type": "markdown",
   "metadata": {},
   "source": [
    "Let's focus on the parameters we wanted to tune."
   ]
  },
  {
   "cell_type": "code",
   "execution_count": 22,
   "metadata": {},
   "outputs": [],
   "source": [
    "import plotly.express as px\n",
    "\n",
    "plot = analysis.results_df\n",
    "select = [\"accuracy\", \"config/hidden_size\", \"config/dropout\", \"config/choice\"]\n",
    "p = plot[select].reset_index().dropna()\n"
   ]
  },
  {
   "attachments": {},
   "cell_type": "markdown",
   "metadata": {},
   "source": [
    "Let's sort by accuracy"
   ]
  },
  {
   "cell_type": "code",
   "execution_count": 23,
   "metadata": {},
   "outputs": [],
   "source": [
    "p.sort_values(\"accuracy\", inplace=True)"
   ]
  },
  {
   "attachments": {},
   "cell_type": "markdown",
   "metadata": {},
   "source": [
    "Make a parallel plot"
   ]
  },
  {
   "cell_type": "code",
   "execution_count": 24,
   "metadata": {},
   "outputs": [
    {
     "data": {
      "application/vnd.plotly.v1+json": {
       "config": {
        "plotlyServerURL": "https://plot.ly"
       },
       "data": [
        {
         "dimensions": [
          {
           "label": "accuracy",
           "values": [
            0.1484375,
            0.3046875,
            0.3140625059604645,
            0.31562501192092896,
            0.40937501192092896,
            0.504687488079071,
            0.9468749761581421,
            0.965624988079071,
            0.9703124761581421,
            0.973437488079071,
            0.9765625,
            0.9765625,
            0.981249988079071,
            0.984375,
            0.984375,
            0.987500011920929,
            0.9906250238418579,
            0.9937499761581421
           ]
          },
          {
           "label": "config/hidden_size",
           "values": [
            855,
            456,
            806,
            889,
            994,
            454,
            647,
            886,
            775,
            740,
            404,
            731,
            1017,
            875,
            528,
            796,
            507,
            1023
           ]
          },
          {
           "label": "config/dropout",
           "values": [
            0.1,
            0.1,
            0.1,
            0.1,
            0.1,
            0.1,
            0.1,
            0.1,
            0.1,
            0.1,
            0.1,
            0.1,
            0.1,
            0.1,
            0.1,
            0.1,
            0.1,
            0.1
           ]
          },
          {
           "label": "config/choice",
           "values": [
            1,
            1,
            1,
            1,
            0,
            0,
            0,
            1,
            1,
            1,
            1,
            0,
            1,
            1,
            1,
            0,
            1,
            0
           ]
          }
         ],
         "domain": {
          "x": [
           0,
           1
          ],
          "y": [
           0,
           1
          ]
         },
         "line": {
          "color": [
           0.1484375,
           0.3046875,
           0.3140625059604645,
           0.31562501192092896,
           0.40937501192092896,
           0.504687488079071,
           0.9468749761581421,
           0.965624988079071,
           0.9703124761581421,
           0.973437488079071,
           0.9765625,
           0.9765625,
           0.981249988079071,
           0.984375,
           0.984375,
           0.987500011920929,
           0.9906250238418579,
           0.9937499761581421
          ],
          "coloraxis": "coloraxis"
         },
         "name": "",
         "type": "parcoords"
        }
       ],
       "layout": {
        "autosize": true,
        "coloraxis": {
         "colorbar": {
          "title": {
           "text": "accuracy"
          }
         },
         "colorscale": [
          [
           0,
           "#0d0887"
          ],
          [
           0.1111111111111111,
           "#46039f"
          ],
          [
           0.2222222222222222,
           "#7201a8"
          ],
          [
           0.3333333333333333,
           "#9c179e"
          ],
          [
           0.4444444444444444,
           "#bd3786"
          ],
          [
           0.5555555555555556,
           "#d8576b"
          ],
          [
           0.6666666666666666,
           "#ed7953"
          ],
          [
           0.7777777777777778,
           "#fb9f3a"
          ],
          [
           0.8888888888888888,
           "#fdca26"
          ],
          [
           1,
           "#f0f921"
          ]
         ]
        },
        "legend": {
         "tracegroupgap": 0
        },
        "margin": {
         "t": 60
        },
        "template": {
         "data": {
          "bar": [
           {
            "error_x": {
             "color": "#2a3f5f"
            },
            "error_y": {
             "color": "#2a3f5f"
            },
            "marker": {
             "line": {
              "color": "#E5ECF6",
              "width": 0.5
             },
             "pattern": {
              "fillmode": "overlay",
              "size": 10,
              "solidity": 0.2
             }
            },
            "type": "bar"
           }
          ],
          "barpolar": [
           {
            "marker": {
             "line": {
              "color": "#E5ECF6",
              "width": 0.5
             },
             "pattern": {
              "fillmode": "overlay",
              "size": 10,
              "solidity": 0.2
             }
            },
            "type": "barpolar"
           }
          ],
          "carpet": [
           {
            "aaxis": {
             "endlinecolor": "#2a3f5f",
             "gridcolor": "white",
             "linecolor": "white",
             "minorgridcolor": "white",
             "startlinecolor": "#2a3f5f"
            },
            "baxis": {
             "endlinecolor": "#2a3f5f",
             "gridcolor": "white",
             "linecolor": "white",
             "minorgridcolor": "white",
             "startlinecolor": "#2a3f5f"
            },
            "type": "carpet"
           }
          ],
          "choropleth": [
           {
            "colorbar": {
             "outlinewidth": 0,
             "ticks": ""
            },
            "type": "choropleth"
           }
          ],
          "contour": [
           {
            "colorbar": {
             "outlinewidth": 0,
             "ticks": ""
            },
            "colorscale": [
             [
              0,
              "#0d0887"
             ],
             [
              0.1111111111111111,
              "#46039f"
             ],
             [
              0.2222222222222222,
              "#7201a8"
             ],
             [
              0.3333333333333333,
              "#9c179e"
             ],
             [
              0.4444444444444444,
              "#bd3786"
             ],
             [
              0.5555555555555556,
              "#d8576b"
             ],
             [
              0.6666666666666666,
              "#ed7953"
             ],
             [
              0.7777777777777778,
              "#fb9f3a"
             ],
             [
              0.8888888888888888,
              "#fdca26"
             ],
             [
              1,
              "#f0f921"
             ]
            ],
            "type": "contour"
           }
          ],
          "contourcarpet": [
           {
            "colorbar": {
             "outlinewidth": 0,
             "ticks": ""
            },
            "type": "contourcarpet"
           }
          ],
          "heatmap": [
           {
            "colorbar": {
             "outlinewidth": 0,
             "ticks": ""
            },
            "colorscale": [
             [
              0,
              "#0d0887"
             ],
             [
              0.1111111111111111,
              "#46039f"
             ],
             [
              0.2222222222222222,
              "#7201a8"
             ],
             [
              0.3333333333333333,
              "#9c179e"
             ],
             [
              0.4444444444444444,
              "#bd3786"
             ],
             [
              0.5555555555555556,
              "#d8576b"
             ],
             [
              0.6666666666666666,
              "#ed7953"
             ],
             [
              0.7777777777777778,
              "#fb9f3a"
             ],
             [
              0.8888888888888888,
              "#fdca26"
             ],
             [
              1,
              "#f0f921"
             ]
            ],
            "type": "heatmap"
           }
          ],
          "heatmapgl": [
           {
            "colorbar": {
             "outlinewidth": 0,
             "ticks": ""
            },
            "colorscale": [
             [
              0,
              "#0d0887"
             ],
             [
              0.1111111111111111,
              "#46039f"
             ],
             [
              0.2222222222222222,
              "#7201a8"
             ],
             [
              0.3333333333333333,
              "#9c179e"
             ],
             [
              0.4444444444444444,
              "#bd3786"
             ],
             [
              0.5555555555555556,
              "#d8576b"
             ],
             [
              0.6666666666666666,
              "#ed7953"
             ],
             [
              0.7777777777777778,
              "#fb9f3a"
             ],
             [
              0.8888888888888888,
              "#fdca26"
             ],
             [
              1,
              "#f0f921"
             ]
            ],
            "type": "heatmapgl"
           }
          ],
          "histogram": [
           {
            "marker": {
             "pattern": {
              "fillmode": "overlay",
              "size": 10,
              "solidity": 0.2
             }
            },
            "type": "histogram"
           }
          ],
          "histogram2d": [
           {
            "colorbar": {
             "outlinewidth": 0,
             "ticks": ""
            },
            "colorscale": [
             [
              0,
              "#0d0887"
             ],
             [
              0.1111111111111111,
              "#46039f"
             ],
             [
              0.2222222222222222,
              "#7201a8"
             ],
             [
              0.3333333333333333,
              "#9c179e"
             ],
             [
              0.4444444444444444,
              "#bd3786"
             ],
             [
              0.5555555555555556,
              "#d8576b"
             ],
             [
              0.6666666666666666,
              "#ed7953"
             ],
             [
              0.7777777777777778,
              "#fb9f3a"
             ],
             [
              0.8888888888888888,
              "#fdca26"
             ],
             [
              1,
              "#f0f921"
             ]
            ],
            "type": "histogram2d"
           }
          ],
          "histogram2dcontour": [
           {
            "colorbar": {
             "outlinewidth": 0,
             "ticks": ""
            },
            "colorscale": [
             [
              0,
              "#0d0887"
             ],
             [
              0.1111111111111111,
              "#46039f"
             ],
             [
              0.2222222222222222,
              "#7201a8"
             ],
             [
              0.3333333333333333,
              "#9c179e"
             ],
             [
              0.4444444444444444,
              "#bd3786"
             ],
             [
              0.5555555555555556,
              "#d8576b"
             ],
             [
              0.6666666666666666,
              "#ed7953"
             ],
             [
              0.7777777777777778,
              "#fb9f3a"
             ],
             [
              0.8888888888888888,
              "#fdca26"
             ],
             [
              1,
              "#f0f921"
             ]
            ],
            "type": "histogram2dcontour"
           }
          ],
          "mesh3d": [
           {
            "colorbar": {
             "outlinewidth": 0,
             "ticks": ""
            },
            "type": "mesh3d"
           }
          ],
          "parcoords": [
           {
            "line": {
             "colorbar": {
              "outlinewidth": 0,
              "ticks": ""
             }
            },
            "type": "parcoords"
           }
          ],
          "pie": [
           {
            "automargin": true,
            "type": "pie"
           }
          ],
          "scatter": [
           {
            "fillpattern": {
             "fillmode": "overlay",
             "size": 10,
             "solidity": 0.2
            },
            "type": "scatter"
           }
          ],
          "scatter3d": [
           {
            "line": {
             "colorbar": {
              "outlinewidth": 0,
              "ticks": ""
             }
            },
            "marker": {
             "colorbar": {
              "outlinewidth": 0,
              "ticks": ""
             }
            },
            "type": "scatter3d"
           }
          ],
          "scattercarpet": [
           {
            "marker": {
             "colorbar": {
              "outlinewidth": 0,
              "ticks": ""
             }
            },
            "type": "scattercarpet"
           }
          ],
          "scattergeo": [
           {
            "marker": {
             "colorbar": {
              "outlinewidth": 0,
              "ticks": ""
             }
            },
            "type": "scattergeo"
           }
          ],
          "scattergl": [
           {
            "marker": {
             "colorbar": {
              "outlinewidth": 0,
              "ticks": ""
             }
            },
            "type": "scattergl"
           }
          ],
          "scattermapbox": [
           {
            "marker": {
             "colorbar": {
              "outlinewidth": 0,
              "ticks": ""
             }
            },
            "type": "scattermapbox"
           }
          ],
          "scatterpolar": [
           {
            "marker": {
             "colorbar": {
              "outlinewidth": 0,
              "ticks": ""
             }
            },
            "type": "scatterpolar"
           }
          ],
          "scatterpolargl": [
           {
            "marker": {
             "colorbar": {
              "outlinewidth": 0,
              "ticks": ""
             }
            },
            "type": "scatterpolargl"
           }
          ],
          "scatterternary": [
           {
            "marker": {
             "colorbar": {
              "outlinewidth": 0,
              "ticks": ""
             }
            },
            "type": "scatterternary"
           }
          ],
          "surface": [
           {
            "colorbar": {
             "outlinewidth": 0,
             "ticks": ""
            },
            "colorscale": [
             [
              0,
              "#0d0887"
             ],
             [
              0.1111111111111111,
              "#46039f"
             ],
             [
              0.2222222222222222,
              "#7201a8"
             ],
             [
              0.3333333333333333,
              "#9c179e"
             ],
             [
              0.4444444444444444,
              "#bd3786"
             ],
             [
              0.5555555555555556,
              "#d8576b"
             ],
             [
              0.6666666666666666,
              "#ed7953"
             ],
             [
              0.7777777777777778,
              "#fb9f3a"
             ],
             [
              0.8888888888888888,
              "#fdca26"
             ],
             [
              1,
              "#f0f921"
             ]
            ],
            "type": "surface"
           }
          ],
          "table": [
           {
            "cells": {
             "fill": {
              "color": "#EBF0F8"
             },
             "line": {
              "color": "white"
             }
            },
            "header": {
             "fill": {
              "color": "#C8D4E3"
             },
             "line": {
              "color": "white"
             }
            },
            "type": "table"
           }
          ]
         },
         "layout": {
          "annotationdefaults": {
           "arrowcolor": "#2a3f5f",
           "arrowhead": 0,
           "arrowwidth": 1
          },
          "autotypenumbers": "strict",
          "coloraxis": {
           "colorbar": {
            "outlinewidth": 0,
            "ticks": ""
           }
          },
          "colorscale": {
           "diverging": [
            [
             0,
             "#8e0152"
            ],
            [
             0.1,
             "#c51b7d"
            ],
            [
             0.2,
             "#de77ae"
            ],
            [
             0.3,
             "#f1b6da"
            ],
            [
             0.4,
             "#fde0ef"
            ],
            [
             0.5,
             "#f7f7f7"
            ],
            [
             0.6,
             "#e6f5d0"
            ],
            [
             0.7,
             "#b8e186"
            ],
            [
             0.8,
             "#7fbc41"
            ],
            [
             0.9,
             "#4d9221"
            ],
            [
             1,
             "#276419"
            ]
           ],
           "sequential": [
            [
             0,
             "#0d0887"
            ],
            [
             0.1111111111111111,
             "#46039f"
            ],
            [
             0.2222222222222222,
             "#7201a8"
            ],
            [
             0.3333333333333333,
             "#9c179e"
            ],
            [
             0.4444444444444444,
             "#bd3786"
            ],
            [
             0.5555555555555556,
             "#d8576b"
            ],
            [
             0.6666666666666666,
             "#ed7953"
            ],
            [
             0.7777777777777778,
             "#fb9f3a"
            ],
            [
             0.8888888888888888,
             "#fdca26"
            ],
            [
             1,
             "#f0f921"
            ]
           ],
           "sequentialminus": [
            [
             0,
             "#0d0887"
            ],
            [
             0.1111111111111111,
             "#46039f"
            ],
            [
             0.2222222222222222,
             "#7201a8"
            ],
            [
             0.3333333333333333,
             "#9c179e"
            ],
            [
             0.4444444444444444,
             "#bd3786"
            ],
            [
             0.5555555555555556,
             "#d8576b"
            ],
            [
             0.6666666666666666,
             "#ed7953"
            ],
            [
             0.7777777777777778,
             "#fb9f3a"
            ],
            [
             0.8888888888888888,
             "#fdca26"
            ],
            [
             1,
             "#f0f921"
            ]
           ]
          },
          "colorway": [
           "#636efa",
           "#EF553B",
           "#00cc96",
           "#ab63fa",
           "#FFA15A",
           "#19d3f3",
           "#FF6692",
           "#B6E880",
           "#FF97FF",
           "#FECB52"
          ],
          "font": {
           "color": "#2a3f5f"
          },
          "geo": {
           "bgcolor": "white",
           "lakecolor": "white",
           "landcolor": "#E5ECF6",
           "showlakes": true,
           "showland": true,
           "subunitcolor": "white"
          },
          "hoverlabel": {
           "align": "left"
          },
          "hovermode": "closest",
          "mapbox": {
           "style": "light"
          },
          "paper_bgcolor": "white",
          "plot_bgcolor": "#E5ECF6",
          "polar": {
           "angularaxis": {
            "gridcolor": "white",
            "linecolor": "white",
            "ticks": ""
           },
           "bgcolor": "#E5ECF6",
           "radialaxis": {
            "gridcolor": "white",
            "linecolor": "white",
            "ticks": ""
           }
          },
          "scene": {
           "xaxis": {
            "backgroundcolor": "#E5ECF6",
            "gridcolor": "white",
            "gridwidth": 2,
            "linecolor": "white",
            "showbackground": true,
            "ticks": "",
            "zerolinecolor": "white"
           },
           "yaxis": {
            "backgroundcolor": "#E5ECF6",
            "gridcolor": "white",
            "gridwidth": 2,
            "linecolor": "white",
            "showbackground": true,
            "ticks": "",
            "zerolinecolor": "white"
           },
           "zaxis": {
            "backgroundcolor": "#E5ECF6",
            "gridcolor": "white",
            "gridwidth": 2,
            "linecolor": "white",
            "showbackground": true,
            "ticks": "",
            "zerolinecolor": "white"
           }
          },
          "shapedefaults": {
           "line": {
            "color": "#2a3f5f"
           }
          },
          "ternary": {
           "aaxis": {
            "gridcolor": "white",
            "linecolor": "white",
            "ticks": ""
           },
           "baxis": {
            "gridcolor": "white",
            "linecolor": "white",
            "ticks": ""
           },
           "bgcolor": "#E5ECF6",
           "caxis": {
            "gridcolor": "white",
            "linecolor": "white",
            "ticks": ""
           }
          },
          "title": {
           "x": 0.05
          },
          "xaxis": {
           "automargin": true,
           "gridcolor": "white",
           "linecolor": "white",
           "ticks": "",
           "title": {
            "standoff": 15
           },
           "zerolinecolor": "white",
           "zerolinewidth": 2
          },
          "yaxis": {
           "automargin": true,
           "gridcolor": "white",
           "linecolor": "white",
           "ticks": "",
           "title": {
            "standoff": 15
           },
           "zerolinecolor": "white",
           "zerolinewidth": 2
          }
         }
        }
       }
      },
      "image/png": "[encoded data removed]",
      "text/html": [
       "<div>                            <div id=\"9bda09f6-8858-4f02-adc9-07ccbaee425e\" class=\"plotly-graph-div\" style=\"height:525px; width:100%;\"></div>            <script type=\"text/javascript\">                require([\"plotly\"], function(Plotly) {                    window.PLOTLYENV=window.PLOTLYENV || {};                                    if (document.getElementById(\"9bda09f6-8858-4f02-adc9-07ccbaee425e\")) {                    Plotly.newPlot(                        \"9bda09f6-8858-4f02-adc9-07ccbaee425e\",                        [{\"dimensions\":[{\"label\":\"accuracy\",\"values\":[0.1484375,0.3046875,0.3140625059604645,0.31562501192092896,0.40937501192092896,0.504687488079071,0.9468749761581421,0.965624988079071,0.9703124761581421,0.973437488079071,0.9765625,0.9765625,0.981249988079071,0.984375,0.984375,0.987500011920929,0.9906250238418579,0.9937499761581421]},{\"label\":\"config\\u002fhidden_size\",\"values\":[855,456,806,889,994,454,647,886,775,740,404,731,1017,875,528,796,507,1023]},{\"label\":\"config\\u002fdropout\",\"values\":[0.1,0.1,0.1,0.1,0.1,0.1,0.1,0.1,0.1,0.1,0.1,0.1,0.1,0.1,0.1,0.1,0.1,0.1]},{\"label\":\"config\\u002fchoice\",\"values\":[1,1,1,1,0,0,0,1,1,1,1,0,1,1,1,0,1,0]}],\"domain\":{\"x\":[0.0,1.0],\"y\":[0.0,1.0]},\"line\":{\"color\":[0.1484375,0.3046875,0.3140625059604645,0.31562501192092896,0.40937501192092896,0.504687488079071,0.9468749761581421,0.965624988079071,0.9703124761581421,0.973437488079071,0.9765625,0.9765625,0.981249988079071,0.984375,0.984375,0.987500011920929,0.9906250238418579,0.9937499761581421],\"coloraxis\":\"coloraxis\"},\"name\":\"\",\"type\":\"parcoords\"}],                        {\"template\":{\"data\":{\"histogram2dcontour\":[{\"type\":\"histogram2dcontour\",\"colorbar\":{\"outlinewidth\":0,\"ticks\":\"\"},\"colorscale\":[[0.0,\"#0d0887\"],[0.1111111111111111,\"#46039f\"],[0.2222222222222222,\"#7201a8\"],[0.3333333333333333,\"#9c179e\"],[0.4444444444444444,\"#bd3786\"],[0.5555555555555556,\"#d8576b\"],[0.6666666666666666,\"#ed7953\"],[0.7777777777777778,\"#fb9f3a\"],[0.8888888888888888,\"#fdca26\"],[1.0,\"#f0f921\"]]}],\"choropleth\":[{\"type\":\"choropleth\",\"colorbar\":{\"outlinewidth\":0,\"ticks\":\"\"}}],\"histogram2d\":[{\"type\":\"histogram2d\",\"colorbar\":{\"outlinewidth\":0,\"ticks\":\"\"},\"colorscale\":[[0.0,\"#0d0887\"],[0.1111111111111111,\"#46039f\"],[0.2222222222222222,\"#7201a8\"],[0.3333333333333333,\"#9c179e\"],[0.4444444444444444,\"#bd3786\"],[0.5555555555555556,\"#d8576b\"],[0.6666666666666666,\"#ed7953\"],[0.7777777777777778,\"#fb9f3a\"],[0.8888888888888888,\"#fdca26\"],[1.0,\"#f0f921\"]]}],\"heatmap\":[{\"type\":\"heatmap\",\"colorbar\":{\"outlinewidth\":0,\"ticks\":\"\"},\"colorscale\":[[0.0,\"#0d0887\"],[0.1111111111111111,\"#46039f\"],[0.2222222222222222,\"#7201a8\"],[0.3333333333333333,\"#9c179e\"],[0.4444444444444444,\"#bd3786\"],[0.5555555555555556,\"#d8576b\"],[0.6666666666666666,\"#ed7953\"],[0.7777777777777778,\"#fb9f3a\"],[0.8888888888888888,\"#fdca26\"],[1.0,\"#f0f921\"]]}],\"heatmapgl\":[{\"type\":\"heatmapgl\",\"colorbar\":{\"outlinewidth\":0,\"ticks\":\"\"},\"colorscale\":[[0.0,\"#0d0887\"],[0.1111111111111111,\"#46039f\"],[0.2222222222222222,\"#7201a8\"],[0.3333333333333333,\"#9c179e\"],[0.4444444444444444,\"#bd3786\"],[0.5555555555555556,\"#d8576b\"],[0.6666666666666666,\"#ed7953\"],[0.7777777777777778,\"#fb9f3a\"],[0.8888888888888888,\"#fdca26\"],[1.0,\"#f0f921\"]]}],\"contourcarpet\":[{\"type\":\"contourcarpet\",\"colorbar\":{\"outlinewidth\":0,\"ticks\":\"\"}}],\"contour\":[{\"type\":\"contour\",\"colorbar\":{\"outlinewidth\":0,\"ticks\":\"\"},\"colorscale\":[[0.0,\"#0d0887\"],[0.1111111111111111,\"#46039f\"],[0.2222222222222222,\"#7201a8\"],[0.3333333333333333,\"#9c179e\"],[0.4444444444444444,\"#bd3786\"],[0.5555555555555556,\"#d8576b\"],[0.6666666666666666,\"#ed7953\"],[0.7777777777777778,\"#fb9f3a\"],[0.8888888888888888,\"#fdca26\"],[1.0,\"#f0f921\"]]}],\"surface\":[{\"type\":\"surface\",\"colorbar\":{\"outlinewidth\":0,\"ticks\":\"\"},\"colorscale\":[[0.0,\"#0d0887\"],[0.1111111111111111,\"#46039f\"],[0.2222222222222222,\"#7201a8\"],[0.3333333333333333,\"#9c179e\"],[0.4444444444444444,\"#bd3786\"],[0.5555555555555556,\"#d8576b\"],[0.6666666666666666,\"#ed7953\"],[0.7777777777777778,\"#fb9f3a\"],[0.8888888888888888,\"#fdca26\"],[1.0,\"#f0f921\"]]}],\"mesh3d\":[{\"type\":\"mesh3d\",\"colorbar\":{\"outlinewidth\":0,\"ticks\":\"\"}}],\"scatter\":[{\"fillpattern\":{\"fillmode\":\"overlay\",\"size\":10,\"solidity\":0.2},\"type\":\"scatter\"}],\"parcoords\":[{\"type\":\"parcoords\",\"line\":{\"colorbar\":{\"outlinewidth\":0,\"ticks\":\"\"}}}],\"scatterpolargl\":[{\"type\":\"scatterpolargl\",\"marker\":{\"colorbar\":{\"outlinewidth\":0,\"ticks\":\"\"}}}],\"bar\":[{\"error_x\":{\"color\":\"#2a3f5f\"},\"error_y\":{\"color\":\"#2a3f5f\"},\"marker\":{\"line\":{\"color\":\"#E5ECF6\",\"width\":0.5},\"pattern\":{\"fillmode\":\"overlay\",\"size\":10,\"solidity\":0.2}},\"type\":\"bar\"}],\"scattergeo\":[{\"type\":\"scattergeo\",\"marker\":{\"colorbar\":{\"outlinewidth\":0,\"ticks\":\"\"}}}],\"scatterpolar\":[{\"type\":\"scatterpolar\",\"marker\":{\"colorbar\":{\"outlinewidth\":0,\"ticks\":\"\"}}}],\"histogram\":[{\"marker\":{\"pattern\":{\"fillmode\":\"overlay\",\"size\":10,\"solidity\":0.2}},\"type\":\"histogram\"}],\"scattergl\":[{\"type\":\"scattergl\",\"marker\":{\"colorbar\":{\"outlinewidth\":0,\"ticks\":\"\"}}}],\"scatter3d\":[{\"type\":\"scatter3d\",\"line\":{\"colorbar\":{\"outlinewidth\":0,\"ticks\":\"\"}},\"marker\":{\"colorbar\":{\"outlinewidth\":0,\"ticks\":\"\"}}}],\"scattermapbox\":[{\"type\":\"scattermapbox\",\"marker\":{\"colorbar\":{\"outlinewidth\":0,\"ticks\":\"\"}}}],\"scatterternary\":[{\"type\":\"scatterternary\",\"marker\":{\"colorbar\":{\"outlinewidth\":0,\"ticks\":\"\"}}}],\"scattercarpet\":[{\"type\":\"scattercarpet\",\"marker\":{\"colorbar\":{\"outlinewidth\":0,\"ticks\":\"\"}}}],\"carpet\":[{\"aaxis\":{\"endlinecolor\":\"#2a3f5f\",\"gridcolor\":\"white\",\"linecolor\":\"white\",\"minorgridcolor\":\"white\",\"startlinecolor\":\"#2a3f5f\"},\"baxis\":{\"endlinecolor\":\"#2a3f5f\",\"gridcolor\":\"white\",\"linecolor\":\"white\",\"minorgridcolor\":\"white\",\"startlinecolor\":\"#2a3f5f\"},\"type\":\"carpet\"}],\"table\":[{\"cells\":{\"fill\":{\"color\":\"#EBF0F8\"},\"line\":{\"color\":\"white\"}},\"header\":{\"fill\":{\"color\":\"#C8D4E3\"},\"line\":{\"color\":\"white\"}},\"type\":\"table\"}],\"barpolar\":[{\"marker\":{\"line\":{\"color\":\"#E5ECF6\",\"width\":0.5},\"pattern\":{\"fillmode\":\"overlay\",\"size\":10,\"solidity\":0.2}},\"type\":\"barpolar\"}],\"pie\":[{\"automargin\":true,\"type\":\"pie\"}]},\"layout\":{\"autotypenumbers\":\"strict\",\"colorway\":[\"#636efa\",\"#EF553B\",\"#00cc96\",\"#ab63fa\",\"#FFA15A\",\"#19d3f3\",\"#FF6692\",\"#B6E880\",\"#FF97FF\",\"#FECB52\"],\"font\":{\"color\":\"#2a3f5f\"},\"hovermode\":\"closest\",\"hoverlabel\":{\"align\":\"left\"},\"paper_bgcolor\":\"white\",\"plot_bgcolor\":\"#E5ECF6\",\"polar\":{\"bgcolor\":\"#E5ECF6\",\"angularaxis\":{\"gridcolor\":\"white\",\"linecolor\":\"white\",\"ticks\":\"\"},\"radialaxis\":{\"gridcolor\":\"white\",\"linecolor\":\"white\",\"ticks\":\"\"}},\"ternary\":{\"bgcolor\":\"#E5ECF6\",\"aaxis\":{\"gridcolor\":\"white\",\"linecolor\":\"white\",\"ticks\":\"\"},\"baxis\":{\"gridcolor\":\"white\",\"linecolor\":\"white\",\"ticks\":\"\"},\"caxis\":{\"gridcolor\":\"white\",\"linecolor\":\"white\",\"ticks\":\"\"}},\"coloraxis\":{\"colorbar\":{\"outlinewidth\":0,\"ticks\":\"\"}},\"colorscale\":{\"sequential\":[[0.0,\"#0d0887\"],[0.1111111111111111,\"#46039f\"],[0.2222222222222222,\"#7201a8\"],[0.3333333333333333,\"#9c179e\"],[0.4444444444444444,\"#bd3786\"],[0.5555555555555556,\"#d8576b\"],[0.6666666666666666,\"#ed7953\"],[0.7777777777777778,\"#fb9f3a\"],[0.8888888888888888,\"#fdca26\"],[1.0,\"#f0f921\"]],\"sequentialminus\":[[0.0,\"#0d0887\"],[0.1111111111111111,\"#46039f\"],[0.2222222222222222,\"#7201a8\"],[0.3333333333333333,\"#9c179e\"],[0.4444444444444444,\"#bd3786\"],[0.5555555555555556,\"#d8576b\"],[0.6666666666666666,\"#ed7953\"],[0.7777777777777778,\"#fb9f3a\"],[0.8888888888888888,\"#fdca26\"],[1.0,\"#f0f921\"]],\"diverging\":[[0,\"#8e0152\"],[0.1,\"#c51b7d\"],[0.2,\"#de77ae\"],[0.3,\"#f1b6da\"],[0.4,\"#fde0ef\"],[0.5,\"#f7f7f7\"],[0.6,\"#e6f5d0\"],[0.7,\"#b8e186\"],[0.8,\"#7fbc41\"],[0.9,\"#4d9221\"],[1,\"#276419\"]]},\"xaxis\":{\"gridcolor\":\"white\",\"linecolor\":\"white\",\"ticks\":\"\",\"title\":{\"standoff\":15},\"zerolinecolor\":\"white\",\"automargin\":true,\"zerolinewidth\":2},\"yaxis\":{\"gridcolor\":\"white\",\"linecolor\":\"white\",\"ticks\":\"\",\"title\":{\"standoff\":15},\"zerolinecolor\":\"white\",\"automargin\":true,\"zerolinewidth\":2},\"scene\":{\"xaxis\":{\"backgroundcolor\":\"#E5ECF6\",\"gridcolor\":\"white\",\"linecolor\":\"white\",\"showbackground\":true,\"ticks\":\"\",\"zerolinecolor\":\"white\",\"gridwidth\":2},\"yaxis\":{\"backgroundcolor\":\"#E5ECF6\",\"gridcolor\":\"white\",\"linecolor\":\"white\",\"showbackground\":true,\"ticks\":\"\",\"zerolinecolor\":\"white\",\"gridwidth\":2},\"zaxis\":{\"backgroundcolor\":\"#E5ECF6\",\"gridcolor\":\"white\",\"linecolor\":\"white\",\"showbackground\":true,\"ticks\":\"\",\"zerolinecolor\":\"white\",\"gridwidth\":2}},\"shapedefaults\":{\"line\":{\"color\":\"#2a3f5f\"}},\"annotationdefaults\":{\"arrowcolor\":\"#2a3f5f\",\"arrowhead\":0,\"arrowwidth\":1},\"geo\":{\"bgcolor\":\"white\",\"landcolor\":\"#E5ECF6\",\"subunitcolor\":\"white\",\"showland\":true,\"showlakes\":true,\"lakecolor\":\"white\"},\"title\":{\"x\":0.05},\"mapbox\":{\"style\":\"light\"}}},\"coloraxis\":{\"colorbar\":{\"title\":{\"text\":\"accuracy\"}},\"colorscale\":[[0.0,\"#0d0887\"],[0.1111111111111111,\"#46039f\"],[0.2222222222222222,\"#7201a8\"],[0.3333333333333333,\"#9c179e\"],[0.4444444444444444,\"#bd3786\"],[0.5555555555555556,\"#d8576b\"],[0.6666666666666666,\"#ed7953\"],[0.7777777777777778,\"#fb9f3a\"],[0.8888888888888888,\"#fdca26\"],[1.0,\"#f0f921\"]]},\"legend\":{\"tracegroupgap\":0},\"margin\":{\"t\":60}},                        {\"responsive\": true}                    ).then(function(){\n",
       "                            \n",
       "var gd = document.getElementById('9bda09f6-8858-4f02-adc9-07ccbaee425e');\n",
       "var x = new MutationObserver(function (mutations, observer) {{\n",
       "        var display = window.getComputedStyle(gd).display;\n",
       "        if (!display || display === 'none') {{\n",
       "            console.log([gd, 'removed!']);\n",
       "            Plotly.purge(gd);\n",
       "            observer.disconnect();\n",
       "        }}\n",
       "}});\n",
       "\n",
       "// Listen for the removal of the full notebook cells\n",
       "var notebookContainer = gd.closest('#notebook-container');\n",
       "if (notebookContainer) {{\n",
       "    x.observe(notebookContainer, {childList: true});\n",
       "}}\n",
       "\n",
       "// Listen for the clearing of the current output cell\n",
       "var outputEl = gd.closest('.output');\n",
       "if (outputEl) {{\n",
       "    x.observe(outputEl, {childList: true});\n",
       "}}\n",
       "\n",
       "                        })                };                });            </script>        </div>"
      ]
     },
     "metadata": {},
     "output_type": "display_data"
    }
   ],
   "source": [
    "px.parallel_coordinates(p, color=\"accuracy\")\n"
   ]
  },
  {
   "cell_type": "code",
   "execution_count": 21,
   "metadata": {},
   "outputs": [
    {
     "data": {
      "text/plain": [
       "<Axes: xlabel='config/hidden_size', ylabel='config/num_layers'>"
      ]
     },
     "execution_count": 21,
     "metadata": {},
     "output_type": "execute_result"
    },
    {
     "data": {
      "image/png": "[encoded data removed]",
      "text/plain": [
       "<Figure size 640x480 with 1 Axes>"
      ]
     },
     "metadata": {},
     "output_type": "display_data"
    }
   ],
   "source": [
    "import seaborn as sns\n",
    "\n",
    "sns.scatterplot(data=p, x=\"config/hidden_size\", y=\"config/num_layers\", hue=\"accuracy\", palette=\"coolwarm\")"
   ]
  },
  {
   "cell_type": "code",
   "execution_count": 13,
   "metadata": {},
   "outputs": [
    {
     "name": "stderr",
     "output_type": "stream",
     "text": [
      "C:\\Users\\Francesca\\AppData\\Local\\Temp\\ipykernel_1968\\81415808.py:4: UserWarning:\n",
      "\n",
      "KDE cannot be estimated (0 variance or perfect covariance). Pass `warn_singular=False` to disable this warning.\n",
      "\n"
     ]
    },
    {
     "data": {
      "text/plain": [
       "<matplotlib.legend.Legend at 0x1bfff205f90>"
      ]
     },
     "execution_count": 13,
     "metadata": {},
     "output_type": "execute_result"
    },
    {
     "data": {
      "image/png": "[encoded data removed]",
      "text/plain": [
       "<Figure size 640x480 with 1 Axes>"
      ]
     },
     "metadata": {},
     "output_type": "display_data"
    }
   ],
   "source": [
    "import matplotlib.pyplot as plt\n",
    "cmap = sns.cubehelix_palette(as_cmap=True)\n",
    "sns.scatterplot(data=p, x=\"config/hidden_size\", y=\"config/num_layers\", hue=\"accuracy\", palette=\"coolwarm\")\n",
    "sns.kdeplot(data=p, x=\"config/hidden_size\", y=\"config/num_layers\", cmap=cmap)\n",
    "plt.legend(loc='center left', bbox_to_anchor=(1, 0.5), ncol=1)"
   ]
  },
  {
   "attachments": {},
   "cell_type": "markdown",
   "metadata": {},
   "source": [
    "Get the best trial"
   ]
  },
  {
   "cell_type": "code",
   "execution_count": 17,
   "metadata": {},
   "outputs": [
    {
     "name": "stderr",
     "output_type": "stream",
     "text": [
      "2024-12-15 11:10:19,020\tWARNING experiment_analysis.py:558 -- Could not find best trial. Did you pass the correct `metric` parameter?\n"
     ]
    }
   ],
   "source": [
    "analysis.get_best_trial(metric=\"test_loss\", mode=\"min\")\n"
   ]
  },
  {
   "attachments": {},
   "cell_type": "markdown",
   "metadata": {},
   "source": [
    "The top ten"
   ]
  },
  {
   "cell_type": "code",
   "execution_count": 15,
   "metadata": {},
   "outputs": [
    {
     "data": {
      "text/html": [
       "<div>\n",
       "<style scoped>\n",
       "    .dataframe tbody tr th:only-of-type {\n",
       "        vertical-align: middle;\n",
       "    }\n",
       "\n",
       "    .dataframe tbody tr th {\n",
       "        vertical-align: top;\n",
       "    }\n",
       "\n",
       "    .dataframe thead th {\n",
       "        text-align: right;\n",
       "    }\n",
       "</style>\n",
       "<table border=\"1\" class=\"dataframe\">\n",
       "  <thead>\n",
       "    <tr style=\"text-align: right;\">\n",
       "      <th></th>\n",
       "      <th>trial_id</th>\n",
       "      <th>accuracy</th>\n",
       "      <th>config/hidden_size</th>\n",
       "      <th>config/dropout</th>\n",
       "      <th>config/num_layers</th>\n",
       "    </tr>\n",
       "  </thead>\n",
       "  <tbody>\n",
       "    <tr>\n",
       "      <th>9</th>\n",
       "      <td>82dd5_00008</td>\n",
       "      <td>0.970312</td>\n",
       "      <td>740</td>\n",
       "      <td>0.1</td>\n",
       "      <td>4</td>\n",
       "    </tr>\n",
       "    <tr>\n",
       "      <th>16</th>\n",
       "      <td>82dd5_00013</td>\n",
       "      <td>0.973437</td>\n",
       "      <td>507</td>\n",
       "      <td>0.1</td>\n",
       "      <td>4</td>\n",
       "    </tr>\n",
       "    <tr>\n",
       "      <th>10</th>\n",
       "      <td>82dd5_00011</td>\n",
       "      <td>0.976562</td>\n",
       "      <td>404</td>\n",
       "      <td>0.1</td>\n",
       "      <td>4</td>\n",
       "    </tr>\n",
       "    <tr>\n",
       "      <th>2</th>\n",
       "      <td>82dd5_00000</td>\n",
       "      <td>0.976562</td>\n",
       "      <td>806</td>\n",
       "      <td>0.1</td>\n",
       "      <td>4</td>\n",
       "    </tr>\n",
       "    <tr>\n",
       "      <th>3</th>\n",
       "      <td>82dd5_00006</td>\n",
       "      <td>0.981250</td>\n",
       "      <td>889</td>\n",
       "      <td>0.1</td>\n",
       "      <td>4</td>\n",
       "    </tr>\n",
       "    <tr>\n",
       "      <th>8</th>\n",
       "      <td>82dd5_00016</td>\n",
       "      <td>0.984375</td>\n",
       "      <td>775</td>\n",
       "      <td>0.1</td>\n",
       "      <td>4</td>\n",
       "    </tr>\n",
       "    <tr>\n",
       "      <th>12</th>\n",
       "      <td>82dd5_00001</td>\n",
       "      <td>0.984375</td>\n",
       "      <td>1017</td>\n",
       "      <td>0.1</td>\n",
       "      <td>4</td>\n",
       "    </tr>\n",
       "    <tr>\n",
       "      <th>0</th>\n",
       "      <td>82dd5_00015</td>\n",
       "      <td>0.987500</td>\n",
       "      <td>855</td>\n",
       "      <td>0.1</td>\n",
       "      <td>4</td>\n",
       "    </tr>\n",
       "    <tr>\n",
       "      <th>13</th>\n",
       "      <td>82dd5_00003</td>\n",
       "      <td>0.990625</td>\n",
       "      <td>875</td>\n",
       "      <td>0.1</td>\n",
       "      <td>4</td>\n",
       "    </tr>\n",
       "    <tr>\n",
       "      <th>7</th>\n",
       "      <td>82dd5_00012</td>\n",
       "      <td>0.993750</td>\n",
       "      <td>886</td>\n",
       "      <td>0.1</td>\n",
       "      <td>4</td>\n",
       "    </tr>\n",
       "  </tbody>\n",
       "</table>\n",
       "</div>"
      ],
      "text/plain": [
       "       trial_id  accuracy  config/hidden_size  config/dropout  \\\n",
       "9   82dd5_00008  0.970312                 740             0.1   \n",
       "16  82dd5_00013  0.973437                 507             0.1   \n",
       "10  82dd5_00011  0.976562                 404             0.1   \n",
       "2   82dd5_00000  0.976562                 806             0.1   \n",
       "3   82dd5_00006  0.981250                 889             0.1   \n",
       "8   82dd5_00016  0.984375                 775             0.1   \n",
       "12  82dd5_00001  0.984375                1017             0.1   \n",
       "0   82dd5_00015  0.987500                 855             0.1   \n",
       "13  82dd5_00003  0.990625                 875             0.1   \n",
       "7   82dd5_00012  0.993750                 886             0.1   \n",
       "\n",
       "    config/num_layers  \n",
       "9                   4  \n",
       "16                  4  \n",
       "10                  4  \n",
       "2                   4  \n",
       "3                   4  \n",
       "8                   4  \n",
       "12                  4  \n",
       "0                   4  \n",
       "13                  4  \n",
       "7                   4  "
      ]
     },
     "execution_count": 15,
     "metadata": {},
     "output_type": "execute_result"
    }
   ],
   "source": [
    "p[-10:]\n"
   ]
  },
  {
   "attachments": {},
   "cell_type": "markdown",
   "metadata": {},
   "source": [
    "Or the best config"
   ]
  },
  {
   "cell_type": "code",
   "execution_count": 17,
   "metadata": {},
   "outputs": [
    {
     "data": {
      "text/plain": [
       "{'input_size': 3,\n",
       " 'output_size': 20,\n",
       " 'dropout': 0.1,\n",
       " 'hidden_size': 886,\n",
       " 'num_layers': 4,\n",
       " 'epochs': 5,\n",
       " 'tune_dir': WindowsPath('C:/Users/Francesca/Documents/osint/code_repo/AI/MADS-MachineLearning-FP/dev/notebooks/4_tuning_networks/models/ray'),\n",
       " 'choice': 1}"
      ]
     },
     "execution_count": 17,
     "metadata": {},
     "output_type": "execute_result"
    }
   ],
   "source": [
    "analysis.get_best_config(metric=\"accuracy\", mode=\"max\")\n"
   ]
  },
  {
   "cell_type": "code",
   "execution_count": null,
   "metadata": {},
   "outputs": [],
   "source": []
  }
 ],
 "metadata": {
  "kernelspec": {
   "display_name": "Python 3 (ipykernel)",
   "language": "python",
   "name": "python3"
  },
  "language_info": {
   "codemirror_mode": {
    "name": "ipython",
    "version": 3
   },
   "file_extension": ".py",
   "mimetype": "text/x-python",
   "name": "python",
   "nbconvert_exporter": "python",
   "pygments_lexer": "ipython3",
   "version": "3.10.14"
  },
  "vscode": {
   "interpreter": {
    "hash": "826f7c35c7cb2374ed015b71f995b28d51afc038e74920eb490e51986fe41e8c"
   }
  }
 },
 "nbformat": 4,
 "nbformat_minor": 4
}
