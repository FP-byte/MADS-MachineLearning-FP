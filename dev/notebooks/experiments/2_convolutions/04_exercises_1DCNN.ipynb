{
 "cells": [
  {
   "cell_type": "markdown",
   "metadata": {},
   "source": [
    "# 1. Adding dropout and normalization layers\n",
    "Study the pytorch documentation for:\n",
    "- Dropout https://pytorch.org/docs/stable/generated/torch.nn.Dropout.html\n",
    "- normalization layers https://pytorch.org/docs/stable/nn.html#normalization-layers\n",
    "\n",
    "Experiment with adding dropout and normalization layers to your model. Some rough guidelines where to add them relative to Linear or Conv2d layers:\n",
    "- Dropout: after Linear or Conv2d layers. Often added after the last Linear layer *before* the output layer, but could occur more often.\n",
    "- Normalization layers: right after (blocks of) Linear or Conv2d layers, but before activation functions."
   ]
  },
  {
   "cell_type": "code",
   "execution_count": 1,
   "metadata": {},
   "outputs": [],
   "source": [
    "from pathlib import Path\n",
    "import torch\n",
    "import torch.nn as nn\n",
    "from loguru import logger\n",
    "import warnings\n",
    "warnings.simplefilter(\"ignore\", UserWarning)"
   ]
  },
  {
   "cell_type": "code",
   "execution_count": 2,
   "metadata": {},
   "outputs": [
    {
     "name": "stdout",
     "output_type": "stream",
     "text": [
      "DatasetType.FLOWERS\n",
      "DatasetType.IMDB\n",
      "DatasetType.GESTURES\n",
      "DatasetType.FASHION\n",
      "DatasetType.SUNSPOTS\n",
      "DatasetType.IRIS\n",
      "DatasetType.PENGUINS\n",
      "DatasetType.FAVORITA\n",
      "DatasetType.SECURE\n"
     ]
    }
   ],
   "source": [
    "from mads_datasets import DatasetFactoryProvider, DatasetType\n",
    "from mltrainer.preprocessors import BasePreprocessor\n",
    "\n",
    "for dataset in DatasetType:\n",
    "    print(dataset)"
   ]
  },
  {
   "cell_type": "code",
   "execution_count": 3,
   "metadata": {},
   "outputs": [
    {
     "name": "stderr",
     "output_type": "stream",
     "text": [
      "\u001b[32m2024-12-13 12:13:58.357\u001b[0m | \u001b[1mINFO    \u001b[0m | \u001b[36mmads_datasets.base\u001b[0m:\u001b[36mdownload_data\u001b[0m:\u001b[36m121\u001b[0m - \u001b[1mFolder already exists at C:\\Users\\Francesca\\.cache\\mads_datasets\\gestures\u001b[0m\n",
      "100%|\u001b[38;2;30;71;6m██████████████████████████████████████████████████████████████████████████████████████████████\u001b[0m| 2600/2600 [00:01<00:00, 1354.14it/s]\u001b[0m\n",
      "100%|\u001b[38;2;30;71;6m████████████████████████████████████████████████████████████████████████████████████████████████\u001b[0m| 651/651 [00:00<00:00, 1534.55it/s]\u001b[0m\n"
     ]
    }
   ],
   "source": [
    "from mads_datasets import DatasetFactoryProvider, DatasetType\n",
    "from mltrainer.preprocessors import PaddedPreprocessor\n",
    "preprocessor = PaddedPreprocessor()\n",
    "\n",
    "#fashionfactory = DatasetFactoryProvider.create_factory(DatasetType.FASHION)\n",
    "#streamers = fashionfactory.create_datastreamer(batchsize=64, preprocessor=preprocessor)\n",
    "gesturesfactory = DatasetFactoryProvider.create_factory(DatasetType.GESTURES)\n",
    "streamers = gesturesfactory.create_datastreamer(batchsize=32, preprocessor=preprocessor)\n",
    "train = streamers[\"train\"]\n",
    "valid = streamers[\"valid\"]"
   ]
  },
  {
   "cell_type": "code",
   "execution_count": null,
   "metadata": {},
   "outputs": [],
   "source": []
  },
  {
   "cell_type": "code",
   "execution_count": 43,
   "metadata": {},
   "outputs": [
    {
     "data": {
      "text/plain": [
       "(81, 20)"
      ]
     },
     "execution_count": 43,
     "metadata": {},
     "output_type": "execute_result"
    }
   ],
   "source": [
    "len(train), len(valid)"
   ]
  },
  {
   "cell_type": "code",
   "execution_count": 4,
   "metadata": {},
   "outputs": [
    {
     "data": {
      "text/plain": [
       "(torch.Size([32, 33, 3]), torch.Size([32]))"
      ]
     },
     "execution_count": 4,
     "metadata": {},
     "output_type": "execute_result"
    }
   ],
   "source": [
    "trainstreamer = train.stream()\n",
    "validstreamer = valid.stream()\n",
    "x, y = next(iter(trainstreamer))\n",
    "x.shape, y.shape"
   ]
  },
  {
   "cell_type": "code",
   "execution_count": 70,
   "metadata": {},
   "outputs": [],
   "source": [
    "import torch\n",
    "import torch.nn as nn\n",
    "import torch.optim as optim\n",
    "\n",
    "# Define the 1D CNN model\n",
    "class Gesture1DCNN(nn.Module):\n",
    "    def __init__(self, input_channels, num_classes):\n",
    "        super(Gesture1DCNN, self).__init__()\n",
    "\n",
    "        # First convolutional layer\n",
    "        self.conv1 = nn.Conv1d(in_channels=input_channels, out_channels=64, kernel_size=5, stride=1, padding=2)\n",
    "        self.pool1 = nn.MaxPool1d(kernel_size=2, stride=2)\n",
    "\n",
    "        # # Second convolutional layer\n",
    "        # self.conv2 = nn.Conv1d(in_channels=64, out_channels=128, kernel_size=3, stride=1, padding=1)\n",
    "        # self.pool2 = nn.MaxPool1d(kernel_size=2, stride=2)\n",
    "\n",
    "        # # Third convolutional layer (optional)\n",
    "        # self.conv3 = nn.Conv1d(in_channels=128, out_channels=256, kernel_size=3, stride=1, padding=1)\n",
    "        # self.pool3 = nn.MaxPool1d(kernel_size=2, stride=2)\n",
    "\n",
    "        # Fully connected layers\n",
    "        # The sequence length will reduce by a factor of 8 after 3 pooling layers\n",
    "        self.fc1 = nn.Linear(256 * 3, 128)  # 256 channels, sequence length = 3 after pooling\n",
    "        self.fc2 = nn.Linear(128, num_classes)\n",
    "\n",
    "    def forward(self, x):\n",
    "        # Change the shape of the input tensor to (batch_size, num_channels, sequence_length)\n",
    "        x = x.permute(0, 2, 1)  # Now the shape is (batch_size, 3, 30)\n",
    "        \n",
    "        # Apply first convolutional layer, relu, and max pooling\n",
    "        x = self.pool1(torch.relu(self.conv1(x)))\n",
    "        print(x.shape)\n",
    "        # # Apply second convolutional layer, relu, and max pooling\n",
    "        # x = self.pool2(torch.relu(self.conv2(x)))\n",
    "        # print(x.shape)\n",
    "        # # Apply third convolutional layer, relu, and max pooling\n",
    "        # x = self.pool3(torch.relu(self.conv3(x)))\n",
    "        # print(x.shape)\n",
    "        \n",
    "        # Flatten the output from convolutional layers to feed into fully connected layers\n",
    "        x = x.view(x.size(0), -1)  # Flatten: (batch_size, 256 * 3)\n",
    "        print(x.shape)\n",
    "        # Apply fully connected layers\n",
    "        x = torch.relu(self.fc1(x))  \n",
    "        x = self.fc2(x)  # Output layer (no activation here, will apply softmax during loss computation)\n",
    "        \n",
    "        return x\n"
   ]
  },
  {
   "cell_type": "code",
   "execution_count": 47,
   "metadata": {},
   "outputs": [],
   "source": [
    "import torch\n",
    "import torch.nn as nn\n",
    "import torch.optim as optim\n",
    "\n",
    "# Define the 1D CNN model with one convolutional layer\n",
    "class Gesture1DCNN(nn.Module):\n",
    "    def __init__(self, input_channels, num_classes):\n",
    "        super(Gesture1DCNN, self).__init__()\n",
    "\n",
    "        # Single convolutional layer\n",
    "        self.conv1 = nn.Conv1d(in_channels=input_channels, out_channels=64, kernel_size=5, stride=1, padding=2)  # kernel size 5, stride 1, padding 2 for same length\n",
    "        self.pool1 = nn.MaxPool1d(kernel_size=2, stride=2)  # MaxPool with kernel size 2 and stride 2\n",
    "\n",
    "        # # Second convolutional layer\n",
    "        self.conv2 = nn.Conv1d(in_channels=64, out_channels=128, kernel_size=3, stride=1, padding=1)\n",
    "        self.pool2 = nn.MaxPool1d(kernel_size=2, stride=2)\n",
    "\n",
    "        # Third convolutional layer (optional)\n",
    "        self.conv3 = nn.Conv1d(in_channels=128, out_channels=256, kernel_size=3, stride=1, padding=1)\n",
    "        self.pool3 = nn.MaxPool1d(kernel_size=2, stride=2)\n",
    "        \n",
    "        # Global Max Pooling Layer \n",
    "        self.global_pool = nn.AdaptiveMaxPool1d(1)  # Global max pooling reduces each feature map to a single value\n",
    "\n",
    "        # Fully connected layer\n",
    "        self.fc1 = nn.Linear(256, 128)  \n",
    "        self.fc2 = nn.Linear(128, 64)  \n",
    "        self.fc3 = nn.Linear(64, num_classes)\n",
    "\n",
    "    def forward(self, x):\n",
    "        # Change the shape of the input tensor to (batch_size, num_channels, sequence_length)\n",
    "        x = x.permute(0, 2, 1)  # Now the shape is (batch_size, 3, 30)\n",
    "        \n",
    "        # Apply the convolutional layer, relu activation, and max pooling\n",
    "        x = self.pool1(torch.relu(self.conv1(x)))  # (batch_size, 64, 15) after convolution and pooling\n",
    "\n",
    "        x = self.pool2(torch.relu(self.conv2(x)))  # (batch_size, 64, 15) after convolution and pooling\n",
    "\n",
    "        x = self.pool3(torch.relu(self.conv3(x)))  # (batch_size, 64, 15) after convolution and pooling\n",
    "        \n",
    "        # Apply Global Max Pooling: reduces each feature map to a single value\n",
    "        x = self.global_pool(x)  # (batch_size, 64, 1)\n",
    "\n",
    "        # Remove the last dimension (sequence length is 1) for fully connected layer\n",
    "        x = x.view(x.size(0), -1)  # Flatten to (batch_size, 64)\n",
    "        \n",
    "        # Apply fully connected layers\n",
    "        x = torch.relu(self.fc1(x))  \n",
    "        x = torch.relu(self.fc2(x))  \n",
    "        x = self.fc3(x)  # Output layer (no activation here, will apply softmax during loss computation)\n",
    "        \n",
    "        return x\n",
    "\n"
   ]
  },
  {
   "cell_type": "code",
   "execution_count": 48,
   "metadata": {},
   "outputs": [
    {
     "name": "stdout",
     "output_type": "stream",
     "text": [
      "Gesture1DCNN(\n",
      "  (conv1): Conv1d(3, 64, kernel_size=(5,), stride=(1,), padding=(2,))\n",
      "  (pool1): MaxPool1d(kernel_size=2, stride=2, padding=0, dilation=1, ceil_mode=False)\n",
      "  (conv2): Conv1d(64, 128, kernel_size=(3,), stride=(1,), padding=(1,))\n",
      "  (pool2): MaxPool1d(kernel_size=2, stride=2, padding=0, dilation=1, ceil_mode=False)\n",
      "  (conv3): Conv1d(128, 256, kernel_size=(3,), stride=(1,), padding=(1,))\n",
      "  (pool3): MaxPool1d(kernel_size=2, stride=2, padding=0, dilation=1, ceil_mode=False)\n",
      "  (global_pool): AdaptiveMaxPool1d(output_size=1)\n",
      "  (fc1): Linear(in_features=256, out_features=128, bias=True)\n",
      "  (fc2): Linear(in_features=128, out_features=64, bias=True)\n",
      "  (fc3): Linear(in_features=64, out_features=20, bias=True)\n",
      ")\n",
      "torch.Size([32, 20])\n"
     ]
    }
   ],
   "source": [
    "\n",
    "input_channels = 3  # Number of input channels (e.g., x, y, z accelerometer data)\n",
    "num_classes = 20     # Number of gesture classes\n",
    "\n",
    "# Instantiate the model\n",
    "model = Gesture1DCNN(input_channels=input_channels, num_classes=num_classes)\n",
    "\n",
    "# Print model summary\n",
    "print(model)\n",
    "\n",
    "output = model(x)\n",
    "print(output.shape)  # Should be (32, num_classes) — batch size x number of classes\n"
   ]
  },
  {
   "cell_type": "code",
   "execution_count": 49,
   "metadata": {},
   "outputs": [],
   "source": [
    "import torch.optim as optim\n",
    "from mltrainer import metrics, Trainer\n",
    "optimizer = optim.Adam\n",
    "loss_fn = torch.nn.CrossEntropyLoss()\n",
    "accuracy = metrics.Accuracy()"
   ]
  },
  {
   "cell_type": "code",
   "execution_count": 50,
   "metadata": {},
   "outputs": [],
   "source": [
    "log_dir = Path(\"../../models/cnn\").resolve()\n",
    "if not log_dir.exists():\n",
    "    log_dir.mkdir(parents=True)"
   ]
  },
  {
   "cell_type": "code",
   "execution_count": 68,
   "metadata": {},
   "outputs": [
    {
     "data": {
      "text/plain": [
       "epochs: 5\n",
       "metrics: [Accuracy]\n",
       "logdir: C:\\Users\\Francesca\\Documents\\osint\\code_repo\\AI\\MADS-MachineLearning-FP\\dev\\models\\cnn\n",
       "train_steps: 81\n",
       "valid_steps: 20\n",
       "reporttypes: [<ReportTypes.TENSORBOARD: 2>, <ReportTypes.MLFLOW: 3>]\n",
       "optimizer_kwargs: {'lr': 0.001, 'weight_decay': 1e-05}\n",
       "scheduler_kwargs: {'factor': 0.1, 'patience': 10}\n",
       "earlystop_kwargs: {'save': False, 'verbose': True, 'patience': 10}"
      ]
     },
     "execution_count": 68,
     "metadata": {},
     "output_type": "execute_result"
    }
   ],
   "source": [
    "from mltrainer import TrainerSettings, ReportTypes\n",
    "\n",
    "settings = TrainerSettings(\n",
    "    epochs=5,\n",
    "    metrics=[accuracy],\n",
    "    logdir=log_dir,\n",
    "    train_steps=len(train),\n",
    "    valid_steps=len(valid),\n",
    "    reporttypes=[ReportTypes.TENSORBOARD, ReportTypes.MLFLOW],\n",
    ")\n",
    "settings"
   ]
  },
  {
   "cell_type": "code",
   "execution_count": 73,
   "metadata": {},
   "outputs": [],
   "source": [
    "from hyperopt import fmin, tpe, hp, STATUS_OK, Trials\n",
    "from hyperopt.pyll import scope\n",
    "import mlflow\n",
    "import torch.optim as optim\n",
    "from mltrainer import metrics, Trainer, TrainerSettings, ReportTypes\n",
    "from datetime import datetime\n",
    "experiment_path = \"mlflow_test\"\n",
    "from mads_datasets import DatasetFactoryProvider, DatasetType\n",
    "from mltrainer.preprocessors import BasePreprocessor\n",
    "from loguru import logger"
   ]
  },
  {
   "cell_type": "code",
   "execution_count": 74,
   "metadata": {},
   "outputs": [],
   "source": [
    "experiment_path = \"mlflow_cnn1D-gestures\""
   ]
  },
  {
   "cell_type": "code",
   "execution_count": 75,
   "metadata": {},
   "outputs": [
    {
     "name": "stdout",
     "output_type": "stream",
     "text": [
      "using cuda\n"
     ]
    }
   ],
   "source": [
    "if torch.backends.mps.is_available() and torch.backends.mps.is_built():\n",
    "    device = torch.device(\"mps\")\n",
    "    print(\"Using MPS\")\n",
    "elif torch.cuda.is_available():\n",
    "    device = \"cuda:0\"\n",
    "    print(\"using cuda\")\n",
    "else:\n",
    "    device = \"cpu\"\n",
    "    print(\"using cpu\")"
   ]
  },
  {
   "cell_type": "code",
   "execution_count": 76,
   "metadata": {},
   "outputs": [
    {
     "name": "stderr",
     "output_type": "stream",
     "text": [
      "\u001b[32m2024-12-13 13:43:17.382\u001b[0m | \u001b[1mINFO    \u001b[0m | \u001b[36mmltrainer.trainer\u001b[0m:\u001b[36mdir_add_timestamp\u001b[0m:\u001b[36m29\u001b[0m - \u001b[1mLogging to C:\\Users\\Francesca\\Documents\\osint\\code_repo\\AI\\MADS-MachineLearning-FP\\dev\\models\\cnn\\20241213-134317\u001b[0m\n",
      "\u001b[32m2024-12-13 13:43:17.386\u001b[0m | \u001b[1mINFO    \u001b[0m | \u001b[36mmltrainer.trainer\u001b[0m:\u001b[36m__init__\u001b[0m:\u001b[36m72\u001b[0m - \u001b[1mFound earlystop_kwargs in settings.Set to None if you dont want earlystopping.\u001b[0m\n"
     ]
    }
   ],
   "source": [
    "trainer = Trainer(\n",
    "    model=model,\n",
    "    settings=settings,\n",
    "    loss_fn=loss_fn,\n",
    "    optimizer=optimizer,\n",
    "    traindataloader=trainstreamer,\n",
    "    validdataloader=validstreamer,\n",
    "    scheduler=optim.lr_scheduler.ReduceLROnPlateau,\n",
    "    device=device,\n",
    "    )"
   ]
  },
  {
   "cell_type": "code",
   "execution_count": 65,
   "metadata": {},
   "outputs": [
    {
     "name": "stderr",
     "output_type": "stream",
     "text": [
      "  0%|\u001b[38;2;30;71;6m                                                                                                              \u001b[0m| 0/5 [00:00<?, ?it/s]\u001b[0m\n",
      "  0%|\u001b[38;2;30;71;6m                                                                                                             \u001b[0m| 0/81 [00:00<?, ?it/s]\u001b[0m\u001b[A\n",
      "  2%|\u001b[38;2;30;71;6m██▍                                                                                                  \u001b[0m| 2/81 [00:00<00:06, 11.94it/s]\u001b[0m\u001b[A\n",
      " 12%|\u001b[38;2;30;71;6m████████████▎                                                                                       \u001b[0m| 10/81 [00:00<00:01, 42.96it/s]\u001b[0m\u001b[A\n",
      " 32%|\u001b[38;2;30;71;6m████████████████████████████████                                                                    \u001b[0m| 26/81 [00:00<00:00, 88.46it/s]\u001b[0m\u001b[A\n",
      " 59%|\u001b[38;2;30;71;6m██████████████████████████████████████████████████████████▋                                        \u001b[0m| 48/81 [00:00<00:00, 134.92it/s]\u001b[0m\u001b[A\n",
      "100%|\u001b[38;2;30;71;6m███████████████████████████████████████████████████████████████████████████████████████████████████\u001b[0m| 81/81 [00:00<00:00, 128.46it/s]\u001b[0m\u001b[A\n",
      "\u001b[32m2024-12-13 13:15:08.441\u001b[0m | \u001b[1mINFO    \u001b[0m | \u001b[36mmltrainer.trainer\u001b[0m:\u001b[36mreport\u001b[0m:\u001b[36m191\u001b[0m - \u001b[1mEpoch 0 train 0.0078 test 0.0676 metric ['0.9891']\u001b[0m\n",
      " 20%|\u001b[38;2;30;71;6m████████████████████▍                                                                                 \u001b[0m| 1/5 [00:00<00:02,  1.50it/s]\u001b[0m\n",
      "  0%|\u001b[38;2;30;71;6m                                                                                                             \u001b[0m| 0/81 [00:00<?, ?it/s]\u001b[0m\u001b[A\n",
      " 31%|\u001b[38;2;30;71;6m██████████████████████████████▌                                                                    \u001b[0m| 25/81 [00:00<00:00, 246.51it/s]\u001b[0m\u001b[A\n",
      " 62%|\u001b[38;2;30;71;6m█████████████████████████████████████████████████████████████                                      \u001b[0m| 50/81 [00:00<00:00, 243.96it/s]\u001b[0m\u001b[A\n",
      "100%|\u001b[38;2;30;71;6m███████████████████████████████████████████████████████████████████████████████████████████████████\u001b[0m| 81/81 [00:00<00:00, 244.37it/s]\u001b[0m\u001b[A\n",
      "\u001b[32m2024-12-13 13:15:08.812\u001b[0m | \u001b[1mINFO    \u001b[0m | \u001b[36mmltrainer.trainer\u001b[0m:\u001b[36mreport\u001b[0m:\u001b[36m191\u001b[0m - \u001b[1mEpoch 1 train 0.0373 test 0.1223 metric ['0.9734']\u001b[0m\n",
      "\u001b[32m2024-12-13 13:15:08.813\u001b[0m | \u001b[1mINFO    \u001b[0m | \u001b[36mmltrainer.trainer\u001b[0m:\u001b[36m__call__\u001b[0m:\u001b[36m234\u001b[0m - \u001b[1mbest loss: 0.0676, current loss 0.1223.Counter 1/10.\u001b[0m\n",
      " 40%|\u001b[38;2;30;71;6m████████████████████████████████████████▊                                                             \u001b[0m| 2/5 [00:01<00:01,  2.03it/s]\u001b[0m\n",
      "  0%|\u001b[38;2;30;71;6m                                                                                                             \u001b[0m| 0/81 [00:00<?, ?it/s]\u001b[0m\u001b[A\n",
      " 30%|\u001b[38;2;30;71;6m█████████████████████████████▎                                                                     \u001b[0m| 24/81 [00:00<00:00, 235.60it/s]\u001b[0m\u001b[A\n",
      " 60%|\u001b[38;2;30;71;6m███████████████████████████████████████████████████████████▉                                       \u001b[0m| 49/81 [00:00<00:00, 240.30it/s]\u001b[0m\u001b[A\n",
      "100%|\u001b[38;2;30;71;6m███████████████████████████████████████████████████████████████████████████████████████████████████\u001b[0m| 81/81 [00:00<00:00, 246.15it/s]\u001b[0m\u001b[A\n",
      "\u001b[32m2024-12-13 13:15:09.184\u001b[0m | \u001b[1mINFO    \u001b[0m | \u001b[36mmltrainer.trainer\u001b[0m:\u001b[36mreport\u001b[0m:\u001b[36m191\u001b[0m - \u001b[1mEpoch 2 train 0.0214 test 0.0829 metric ['0.9844']\u001b[0m\n",
      "\u001b[32m2024-12-13 13:15:09.185\u001b[0m | \u001b[1mINFO    \u001b[0m | \u001b[36mmltrainer.trainer\u001b[0m:\u001b[36m__call__\u001b[0m:\u001b[36m234\u001b[0m - \u001b[1mbest loss: 0.0676, current loss 0.0829.Counter 2/10.\u001b[0m\n",
      " 60%|\u001b[38;2;30;71;6m█████████████████████████████████████████████████████████████▏                                        \u001b[0m| 3/5 [00:01<00:00,  2.28it/s]\u001b[0m\n",
      "  0%|\u001b[38;2;30;71;6m                                                                                                             \u001b[0m| 0/81 [00:00<?, ?it/s]\u001b[0m\u001b[A\n",
      " 33%|\u001b[38;2;30;71;6m█████████████████████████████████                                                                  \u001b[0m| 27/81 [00:00<00:00, 263.88it/s]\u001b[0m\u001b[A\n",
      " 67%|\u001b[38;2;30;71;6m██████████████████████████████████████████████████████████████████                                 \u001b[0m| 54/81 [00:00<00:00, 258.51it/s]\u001b[0m\u001b[A\n",
      "100%|\u001b[38;2;30;71;6m███████████████████████████████████████████████████████████████████████████████████████████████████\u001b[0m| 81/81 [00:00<00:00, 247.48it/s]\u001b[0m\u001b[A\n",
      "\u001b[32m2024-12-13 13:15:09.550\u001b[0m | \u001b[1mINFO    \u001b[0m | \u001b[36mmltrainer.trainer\u001b[0m:\u001b[36mreport\u001b[0m:\u001b[36m191\u001b[0m - \u001b[1mEpoch 3 train 0.0086 test 0.0445 metric ['0.9906']\u001b[0m\n",
      " 80%|\u001b[38;2;30;71;6m█████████████████████████████████████████████████████████████████████████████████▌                    \u001b[0m| 4/5 [00:01<00:00,  2.45it/s]\u001b[0m\n",
      "  0%|\u001b[38;2;30;71;6m                                                                                                             \u001b[0m| 0/81 [00:00<?, ?it/s]\u001b[0m\u001b[A\n",
      " 30%|\u001b[38;2;30;71;6m█████████████████████████████▎                                                                     \u001b[0m| 24/81 [00:00<00:00, 231.41it/s]\u001b[0m\u001b[A\n",
      " 60%|\u001b[38;2;30;71;6m███████████████████████████████████████████████████████████▉                                       \u001b[0m| 49/81 [00:00<00:00, 238.28it/s]\u001b[0m\u001b[A\n",
      "100%|\u001b[38;2;30;71;6m███████████████████████████████████████████████████████████████████████████████████████████████████\u001b[0m| 81/81 [00:00<00:00, 238.56it/s]\u001b[0m\u001b[A\n",
      "\u001b[32m2024-12-13 13:15:09.928\u001b[0m | \u001b[1mINFO    \u001b[0m | \u001b[36mmltrainer.trainer\u001b[0m:\u001b[36mreport\u001b[0m:\u001b[36m191\u001b[0m - \u001b[1mEpoch 4 train 0.0027 test 0.0457 metric ['0.9906']\u001b[0m\n",
      "\u001b[32m2024-12-13 13:15:09.929\u001b[0m | \u001b[1mINFO    \u001b[0m | \u001b[36mmltrainer.trainer\u001b[0m:\u001b[36m__call__\u001b[0m:\u001b[36m234\u001b[0m - \u001b[1mbest loss: 0.0445, current loss 0.0457.Counter 1/10.\u001b[0m\n",
      "100%|\u001b[38;2;30;71;6m██████████████████████████████████████████████████████████████████████████████████████████████████████\u001b[0m| 5/5 [00:02<00:00,  2.32it/s]\u001b[0m\n"
     ]
    }
   ],
   "source": [
    "#trainer.loop()"
   ]
  },
  {
   "cell_type": "code",
   "execution_count": null,
   "metadata": {},
   "outputs": [],
   "source": []
  },
  {
   "cell_type": "markdown",
   "metadata": {},
   "source": [
    "# Use MLFLOW\n",
    "Start mlflow with:\n",
    "\n",
    "```\n",
    "mlflow server     --backend-store-uri sqlite:///mlflow.db     --default-artifact-root ./mlruns     --host 127.0.0.1:5000\n",
    "```"
   ]
  },
  {
   "cell_type": "code",
   "execution_count": 77,
   "metadata": {},
   "outputs": [],
   "source": [
    "from hyperopt import fmin, tpe, hp, STATUS_OK, Trials\n",
    "from hyperopt.pyll import scope\n",
    "import mlflow\n",
    "from datetime import datetime\n",
    "import torch.optim as optim\n",
    "from mltrainer import metrics, Trainer, TrainerSettings, ReportTypes\n",
    "from datetime import datetime\n",
    "experiment_path = \"mlflow_test\"\n",
    "from mads_datasets import DatasetFactoryProvider, DatasetType\n",
    "from mltrainer.preprocessors import BasePreprocessor\n",
    "from loguru import logger"
   ]
  },
  {
   "cell_type": "code",
   "execution_count": null,
   "metadata": {},
   "outputs": [],
   "source": [
    "\n",
    "\n",
    "mlflow.set_tracking_uri(uri=\"http://127.0.0.1:5000\")\n",
    "mlflow.set_experiment(\"gestures_1Dconv\")\n",
    "modeldir = Path(\"../../models/gestures/\").resolve()\n",
    "if not modeldir.exists():\n",
    "    modeldir.mkdir(parents=True)\n",
    "\n",
    "#gin.parse_config_file(\"gestures_gru.gin\")\n",
    "model = Gesture1DCNN()\n",
    "\n",
    "with mlflow.start_run():\n",
    "    mlflow.set_tag(\"model\", \"Gesture1DCNN\")\n",
    "    mlflow.set_tag(\"dev\", \"francesca\")\n",
    "    mlflow.log_params(gin.get_bindings(\"Gesture1DCNN\"))\n",
    "\n",
    "    model = rnn_models.GRUmodel()\n",
    "\n",
    "    trainer = Trainer(\n",
    "        model=model,\n",
    "        settings=settings,\n",
    "        loss_fn=loss_fn,\n",
    "        optimizer=optim.Adam,\n",
    "        traindataloader=trainstreamer,\n",
    "        validdataloader=validstreamer,\n",
    "        scheduler=optim.lr_scheduler.ReduceLROnPlateau,\n",
    "        device=device,\n",
    "    )\n",
    "    trainer.loop()\n",
    "\n",
    "    tag = datetime.now().strftime(\"%Y%m%d-%H%M\")\n",
    "    modelpath = modeldir / (tag + \"model.pt\")\n",
    "    torch.save(model, modelpath)"
   ]
  },
  {
   "cell_type": "code",
   "execution_count": null,
   "metadata": {},
   "outputs": [],
   "source": []
  }
 ],
 "metadata": {
  "kernelspec": {
   "display_name": "Python 3 (ipykernel)",
   "language": "python",
   "name": "python3"
  },
  "language_info": {
   "codemirror_mode": {
    "name": "ipython",
    "version": 3
   },
   "file_extension": ".py",
   "mimetype": "text/x-python",
   "name": "python",
   "nbconvert_exporter": "python",
   "pygments_lexer": "ipython3",
   "version": "3.10.14"
  }
 },
 "nbformat": 4,
 "nbformat_minor": 4
}
