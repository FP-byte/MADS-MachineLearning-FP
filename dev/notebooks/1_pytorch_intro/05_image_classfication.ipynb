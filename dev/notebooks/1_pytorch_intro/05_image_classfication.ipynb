{
 "cells": [
  {
   "cell_type": "markdown",
   "metadata": {},
   "source": [
    "The workflow for a data science project will follow these lines:\n",
    "\n",
    "1. Get and explore the data\n",
    "2. Build a model \n",
    "3. Train the model\n",
    "4. Save and predict\n",
    "\n",
    "## 1. Get and Explore the Data\n",
    "The first step can take quite some time; data quality is often something that needs to be checked, and correlations between data should often be explored and visualized.\n",
    "\n",
    "This step can be a full project on its own: you clean the data, make sure you can access it properly, and create visualizations and hypothesis to gain insight into the data that can be shown in a dashboard.\n",
    "\n",
    "The insight in the data is an essential ingredient for deciding on a model.\n",
    "\n",
    "## 2. Build a model\n",
    "Based on domain knowledge and a first exploration of the data, a model can be selected.\n",
    "\n",
    "Sometimes, the relation between features and outcome is very obvious. You might have features that\n",
    "correlate very high with the outcome variable, and a domain expert confirms that the correlations make sense.\n",
    "\n",
    "If this is the case, you can often build a simple model. If you expect to have non-linear and complex interactions between the features,\n",
    "you could use a model that works with non-linear data like a SVM plus kernel, or a random forest.\n",
    "\n",
    "If you have enough data (as a rule of thumb, a lower threshold of 1000 observations) you can consider a neural network architecture.\n",
    "If the expected complexity of the data is low, you can use a relative small network.\n",
    "If you have lots and lots of data with a high complexity, you should consider to increase the complexity of your model too.\n",
    "\n",
    "How you can build a model, and what suitable models are for different datatypes and situations, will be the subject of the whole course.\n",
    "\n",
    "## 3. Train the model\n",
    "Once you created a model, it hasnt learned anything yet. The model must be trained to learn the right connections, a bit like a baby that has to learn about what works and what doesn't.\n",
    "\n",
    "In this notebook, I will introduce you to PyTorch. Another high level library is Tensorflow, which is used a lot too.\n",
    "While the interface is comparable, the Tensorflow syntax is a bit more high-level. While this can be an advantage, \n",
    "it also has a downside: at the moment you ever need to dive a bit deeper into the architecture itself, it is much harder to\n",
    "add something new with TensorFlow, compared to PyTorch.\n",
    "\n",
    "## 4. Save and predict\n",
    "Finally, you will want to use the trained model to predict new observations."
   ]
  },
  {
   "cell_type": "markdown",
   "metadata": {},
   "source": [
    "# Load the data\n",
    "We will use the fashion MNIST dataset. You will find this dataset a lot in machine learning tutorials. It are small (28x28) images of clothing."
   ]
  },
  {
   "cell_type": "code",
   "execution_count": 1,
   "metadata": {},
   "outputs": [
    {
     "data": {
      "text/plain": [
       "'0.3.12'"
      ]
     },
     "execution_count": 1,
     "metadata": {},
     "output_type": "execute_result"
    }
   ],
   "source": [
    "from pathlib import Path\n",
    "import mads_datasets\n",
    "from mads_datasets import DatasetFactoryProvider, DatasetType\n",
    "import warnings\n",
    "warnings.simplefilter(\"ignore\", UserWarning)\n",
    "fashionfactory = DatasetFactoryProvider.create_factory(DatasetType.FASHION)\n",
    "\n",
    "mads_datasets.__version__"
   ]
  },
  {
   "cell_type": "code",
   "execution_count": 2,
   "metadata": {},
   "outputs": [
    {
     "name": "stderr",
     "output_type": "stream",
     "text": [
      "\u001b[32m2024-11-19 19:58:03.696\u001b[0m | \u001b[1mINFO    \u001b[0m | \u001b[36mmads_datasets.base\u001b[0m:\u001b[36mdownload_data\u001b[0m:\u001b[36m121\u001b[0m - \u001b[1mFolder already exists at C:\\Users\\Francesca\\.cache\\mads_datasets\\fashionmnist\u001b[0m\n",
      "\u001b[32m2024-11-19 19:58:03.698\u001b[0m | \u001b[1mINFO    \u001b[0m | \u001b[36mmads_datasets.base\u001b[0m:\u001b[36mdownload_data\u001b[0m:\u001b[36m124\u001b[0m - \u001b[1mFile already exists at C:\\Users\\Francesca\\.cache\\mads_datasets\\fashionmnist\\fashionmnist.pt\u001b[0m\n",
      "C:\\Users\\Francesca\\Documents\\osint\\code_repo\\AI\\MADS-MachineLearning-course\\.venv\\Lib\\site-packages\\mads_datasets\\factories\\torchfactories.py:71: FutureWarning: You are using `torch.load` with `weights_only=False` (the current default value), which uses the default pickle module implicitly. It is possible to construct malicious pickle data which will execute arbitrary code during unpickling (See https://github.com/pytorch/pytorch/blob/main/SECURITY.md#untrusted-models for more details). In a future release, the default value for `weights_only` will be flipped to `True`. This limits the functions that could be executed during unpickling. Arbitrary objects will no longer be allowed to be loaded via this mode unless they are explicitly allowlisted by the user via `torch.serialization.add_safe_globals`. We recommend you start setting `weights_only=True` for any use case where you don't have full control of the loaded file. Please open an issue on GitHub for any issues related to this experimental feature.\n",
      "  data = torch.load(self.filepath)  # type: ignore\n"
     ]
    }
   ],
   "source": [
    "datasets = fashionfactory.create_dataset()"
   ]
  },
  {
   "cell_type": "code",
   "execution_count": 50,
   "metadata": {},
   "outputs": [
    {
     "data": {
      "text/plain": [
       "{'train': MNISTDataset (len 60000), 'valid': MNISTDataset (len 10000)}"
      ]
     },
     "execution_count": 50,
     "metadata": {},
     "output_type": "execute_result"
    }
   ],
   "source": [
    "datasets"
   ]
  },
  {
   "cell_type": "markdown",
   "metadata": {},
   "source": [
    "We now have a `Dataset`. They implement at minimum an `.__getitem__` and `.__len__` function."
   ]
  },
  {
   "cell_type": "code",
   "execution_count": 3,
   "metadata": {},
   "outputs": [
    {
     "data": {
      "text/plain": [
       "MNISTDataset (len 60000)"
      ]
     },
     "execution_count": 3,
     "metadata": {},
     "output_type": "execute_result"
    }
   ],
   "source": [
    "datasets[\"train\"]"
   ]
  },
  {
   "cell_type": "markdown",
   "metadata": {},
   "source": [
    "To get the data, we can use the `__getitem__` method by calling an index, just like you would do with a list or array."
   ]
  },
  {
   "cell_type": "code",
   "execution_count": 4,
   "metadata": {},
   "outputs": [
    {
     "data": {
      "text/plain": [
       "(tuple, torch.Tensor, torch.Tensor, tensor(1.), tensor(0.), torch.float32)"
      ]
     },
     "execution_count": 4,
     "metadata": {},
     "output_type": "execute_result"
    }
   ],
   "source": [
    "x = datasets[\"train\"][0]\n",
    "type(x), type(x[0]), type(x[1]), x[0].max(), x[0].min(), x[0].dtype"
   ]
  },
  {
   "cell_type": "markdown",
   "metadata": {},
   "source": [
    "This is equivalent to this (but no one does that, obviously. We implement the dunder method to make life easier, not more complex...):\n"
   ]
  },
  {
   "cell_type": "code",
   "execution_count": 5,
   "metadata": {},
   "outputs": [],
   "source": [
    "x = datasets[\"train\"].__getitem__(0)"
   ]
  },
  {
   "cell_type": "markdown",
   "metadata": {},
   "source": [
    "X is a tuple. We can check the length:"
   ]
  },
  {
   "cell_type": "code",
   "execution_count": 6,
   "metadata": {},
   "outputs": [
    {
     "data": {
      "text/plain": [
       "2"
      ]
     },
     "execution_count": 6,
     "metadata": {},
     "output_type": "execute_result"
    }
   ],
   "source": [
    "len(x)"
   ]
  },
  {
   "cell_type": "markdown",
   "metadata": {},
   "source": [
    "We can get the 0th item, which is the image (tensor). The other item is the label (int)"
   ]
  },
  {
   "cell_type": "code",
   "execution_count": 7,
   "metadata": {},
   "outputs": [
    {
     "data": {
      "text/plain": [
       "torch.Size([1, 28, 28])"
      ]
     },
     "execution_count": 7,
     "metadata": {},
     "output_type": "execute_result"
    }
   ],
   "source": [
    "img = x[0]\n",
    "img.shape"
   ]
  },
  {
   "cell_type": "markdown",
   "metadata": {},
   "source": [
    "You can see the image has a channel-first convention: it is a 28x28 pixel image, and it has 1 channel (grey). Look into the official documentation if you want to know more about datasets and how to build your own: [docs](https://pytorch.org/tutorials/beginner/basics/data_tutorial.html)\n",
    "\n",
    "Ok, we want to batch this into a dataloader. From the documentation:\n",
    "\n",
    "> The Dataset retrieves our dataset’s features and labels one sample at a time. While training a model, we typically want to pass samples in “minibatches”, reshuffle the data at every epoch to reduce model overfitting, and use Python’s multiprocessing to speed up data retrieval"
   ]
  },
  {
   "cell_type": "markdown",
   "metadata": {},
   "source": [
    "Why is the length of the dataloader different from the dataset? We had 60000 items before..."
   ]
  },
  {
   "cell_type": "code",
   "execution_count": 8,
   "metadata": {},
   "outputs": [
    {
     "data": {
      "text/plain": [
       "938"
      ]
     },
     "execution_count": 8,
     "metadata": {},
     "output_type": "execute_result"
    }
   ],
   "source": [
    "# we can either use pytorches DataLoader\n",
    "from torch.utils.data import DataLoader\n",
    "trainloader = DataLoader(datasets[\"train\"], batch_size=64, shuffle=True)\n",
    "testloader = DataLoader(datasets[\"valid\"], batch_size=64, shuffle=True)\n",
    "len(trainloader)"
   ]
  },
  {
   "cell_type": "code",
   "execution_count": 9,
   "metadata": {},
   "outputs": [
    {
     "data": {
      "text/plain": [
       "True"
      ]
     },
     "execution_count": 9,
     "metadata": {},
     "output_type": "execute_result"
    }
   ],
   "source": [
    "import torch\n",
    "torch.cuda.is_available()"
   ]
  },
  {
   "cell_type": "code",
   "execution_count": 10,
   "metadata": {},
   "outputs": [
    {
     "name": "stdout",
     "output_type": "stream",
     "text": [
      "5.71 ms ± 481 µs per loop (mean ± std. dev. of 7 runs, 100 loops each)\n"
     ]
    }
   ],
   "source": [
    "%timeit X, y = next(iter(trainloader))"
   ]
  },
  {
   "cell_type": "code",
   "execution_count": 11,
   "metadata": {},
   "outputs": [],
   "source": [
    "from mltrainer.preprocessors import BasePreprocessor\n",
    "preprocessor = BasePreprocessor()"
   ]
  },
  {
   "cell_type": "code",
   "execution_count": 12,
   "metadata": {},
   "outputs": [
    {
     "name": "stderr",
     "output_type": "stream",
     "text": [
      "\u001b[32m2024-11-19 19:58:12.039\u001b[0m | \u001b[1mINFO    \u001b[0m | \u001b[36mmads_datasets.base\u001b[0m:\u001b[36mdownload_data\u001b[0m:\u001b[36m121\u001b[0m - \u001b[1mFolder already exists at C:\\Users\\Francesca\\.cache\\mads_datasets\\fashionmnist\u001b[0m\n",
      "\u001b[32m2024-11-19 19:58:12.040\u001b[0m | \u001b[1mINFO    \u001b[0m | \u001b[36mmads_datasets.base\u001b[0m:\u001b[36mdownload_data\u001b[0m:\u001b[36m124\u001b[0m - \u001b[1mFile already exists at C:\\Users\\Francesca\\.cache\\mads_datasets\\fashionmnist\\fashionmnist.pt\u001b[0m\n",
      "C:\\Users\\Francesca\\Documents\\osint\\code_repo\\AI\\MADS-MachineLearning-course\\.venv\\Lib\\site-packages\\mads_datasets\\factories\\torchfactories.py:71: FutureWarning: You are using `torch.load` with `weights_only=False` (the current default value), which uses the default pickle module implicitly. It is possible to construct malicious pickle data which will execute arbitrary code during unpickling (See https://github.com/pytorch/pytorch/blob/main/SECURITY.md#untrusted-models for more details). In a future release, the default value for `weights_only` will be flipped to `True`. This limits the functions that could be executed during unpickling. Arbitrary objects will no longer be allowed to be loaded via this mode unless they are explicitly allowlisted by the user via `torch.serialization.add_safe_globals`. We recommend you start setting `weights_only=True` for any use case where you don't have full control of the loaded file. Please open an issue on GitHub for any issues related to this experimental feature.\n",
      "  data = torch.load(self.filepath)  # type: ignore\n"
     ]
    }
   ],
   "source": [
    "# or the BaseDatastreamer from the datasetfactory. Check out which one is faster\n",
    "\n",
    "streamers = fashionfactory.create_datastreamer(batchsize=64, preprocessor=preprocessor )\n",
    "train = streamers[\"train\"]\n",
    "valid = streamers[\"valid\"]\n",
    "trainstreamer = train.stream()\n",
    "validstreamer = valid.stream()"
   ]
  },
  {
   "cell_type": "code",
   "execution_count": 13,
   "metadata": {},
   "outputs": [
    {
     "data": {
      "text/plain": [
       "torch.Size([64, 1, 28, 28])"
      ]
     },
     "execution_count": 13,
     "metadata": {},
     "output_type": "execute_result"
    }
   ],
   "source": [
    "X, y = next(iter(trainstreamer))\n",
    "X.shape"
   ]
  },
  {
   "cell_type": "code",
   "execution_count": 14,
   "metadata": {},
   "outputs": [
    {
     "name": "stdout",
     "output_type": "stream",
     "text": [
      "2.31 ms ± 47 µs per loop (mean ± std. dev. of 7 runs, 100 loops each)\n"
     ]
    }
   ],
   "source": [
    "%timeit X, y = next(iter(trainstreamer))"
   ]
  },
  {
   "cell_type": "code",
   "execution_count": 15,
   "metadata": {},
   "outputs": [
    {
     "data": {
      "text/plain": [
       "(937, 156)"
      ]
     },
     "execution_count": 15,
     "metadata": {},
     "output_type": "execute_result"
    }
   ],
   "source": [
    "len(train), len(valid)"
   ]
  },
  {
   "cell_type": "code",
   "execution_count": 16,
   "metadata": {},
   "outputs": [],
   "source": [
    "X, y = next(iter(trainstreamer))"
   ]
  },
  {
   "cell_type": "code",
   "execution_count": 17,
   "metadata": {},
   "outputs": [
    {
     "data": {
      "text/plain": [
       "(torch.Size([64, 1, 28, 28]), torch.Size([64]))"
      ]
     },
     "execution_count": 17,
     "metadata": {},
     "output_type": "execute_result"
    }
   ],
   "source": [
    "X.shape, y.shape"
   ]
  },
  {
   "cell_type": "code",
   "execution_count": 18,
   "metadata": {},
   "outputs": [
    {
     "data": {
      "text/plain": [
       "torch.Tensor"
      ]
     },
     "execution_count": 18,
     "metadata": {},
     "output_type": "execute_result"
    }
   ],
   "source": [
    "type(X[0])"
   ]
  },
  {
   "cell_type": "markdown",
   "metadata": {},
   "source": [
    "So, what do we see here? Our datashape has four dimensions:\n",
    "\n",
    "- 64: this is the batch size. Every batch has 64 observations; in this case 64 images\n",
    "- 1: this is the channel. Colorimages typically have 3 channels. Our images have just one color, and thus 1 channel. So images can have more channels (e.g. infrared etc)\n",
    "- (28,28) : this is the actual image, with dimensions 28x28\n",
    "\n",
    "Lets visualize the first example, the first image:"
   ]
  },
  {
   "cell_type": "code",
   "execution_count": 19,
   "metadata": {},
   "outputs": [
    {
     "data": {
      "text/plain": [
       "torch.Size([1, 28, 28])"
      ]
     },
     "execution_count": 19,
     "metadata": {},
     "output_type": "execute_result"
    }
   ],
   "source": [
    "img = X[1]\n",
    "img.shape"
   ]
  },
  {
   "cell_type": "code",
   "execution_count": 20,
   "metadata": {},
   "outputs": [
    {
     "data": {
      "text/plain": [
       "<matplotlib.image.AxesImage at 0x21211102f10>"
      ]
     },
     "execution_count": 20,
     "metadata": {},
     "output_type": "execute_result"
    },
    {
     "data": {
      "image/png": "[encoded data removed]",
      "text/plain": [
       "<Figure size 640x480 with 1 Axes>"
      ]
     },
     "metadata": {},
     "output_type": "display_data"
    }
   ],
   "source": [
    "import matplotlib.pyplot as plt\n",
    "plt.imshow(img.squeeze(), cmap=\"gray\")"
   ]
  },
  {
   "cell_type": "markdown",
   "metadata": {},
   "source": [
    "# Create a model"
   ]
  },
  {
   "cell_type": "code",
   "execution_count": 21,
   "metadata": {},
   "outputs": [
    {
     "name": "stdout",
     "output_type": "stream",
     "text": [
      "using cuda\n"
     ]
    }
   ],
   "source": [
    "import torch\n",
    "if torch.backends.mps.is_available() and torch.backends.mps.is_built():\n",
    "    device = torch.device(\"mps\")\n",
    "    print(\"Using MPS\")\n",
    "elif torch.cuda.is_available():\n",
    "    device = \"cuda:0\"\n",
    "    print(\"using cuda\")\n",
    "else:\n",
    "    device = \"cpu\"\n",
    "    print(\"using cpu\")"
   ]
  },
  {
   "cell_type": "code",
   "execution_count": 22,
   "metadata": {},
   "outputs": [
    {
     "name": "stderr",
     "output_type": "stream",
     "text": [
      "\u001b[32m2024-11-19 19:58:14.700\u001b[0m | \u001b[1mINFO    \u001b[0m | \u001b[36m__main__\u001b[0m:\u001b[36m<module>\u001b[0m:\u001b[36m4\u001b[0m - \u001b[1mUsing cuda:0 device\u001b[0m\n"
     ]
    }
   ],
   "source": [
    "from torch import nn\n",
    "from loguru import logger\n",
    "\n",
    "logger.info(f\"Using {device} device\")\n",
    "\n",
    "# Define model\n",
    "class NeuralNetwork(nn.Module):\n",
    "    def __init__(self):\n",
    "        super(NeuralNetwork, self).__init__()\n",
    "        self.flatten = nn.Flatten()\n",
    "        self.linear_relu_stack = nn.Sequential(\n",
    "            nn.Linear(28*28, 512),\n",
    "            nn.ReLU(),\n",
    "            nn.Linear(512, 256),\n",
    "            nn.ReLU(),\n",
    "            nn.Linear(256, 10)\n",
    "        )\n",
    "\n",
    "    def forward(self, x):\n",
    "        x = self.flatten(x)\n",
    "        logits = self.linear_relu_stack(x)\n",
    "        return logits\n",
    "\n"
   ]
  },
  {
   "cell_type": "code",
   "execution_count": 51,
   "metadata": {},
   "outputs": [],
   "source": [
    "# Define model\n",
    "class NeuralNetwork(nn.Module):\n",
    "    def __init__(self):\n",
    "        super(NeuralNetwork, self).__init__()\n",
    "        self.flatten = nn.Flatten()\n",
    "        self.linear_relu_stack = nn.Sequential(\n",
    "            nn.Linear(28*28, 512),\n",
    "            nn.ReLU(),\n",
    "            nn.Linear(512, 256),\n",
    "            nn.ReLU6(),\n",
    "            nn.Linear(256, 100),\n",
    "            nn.ReLU(),\n",
    "            nn.Linear(100, 10)\n",
    "        )\n",
    "\n",
    "    def forward(self, x):\n",
    "        x = self.flatten(x)\n",
    "        logits = self.linear_relu_stack(x)\n",
    "        return logits"
   ]
  },
  {
   "cell_type": "code",
   "execution_count": 52,
   "metadata": {},
   "outputs": [
    {
     "name": "stdout",
     "output_type": "stream",
     "text": [
      "----------------------------------------------------------------\n",
      "        Layer (type)               Output Shape         Param #\n",
      "================================================================\n",
      "           Flatten-1                  [-1, 784]               0\n",
      "            Linear-2                  [-1, 512]         401,920\n",
      "              ReLU-3                  [-1, 512]               0\n",
      "            Linear-4                  [-1, 256]         131,328\n",
      "             ReLU6-5                  [-1, 256]               0\n",
      "            Linear-6                  [-1, 100]          25,700\n",
      "              ReLU-7                  [-1, 100]               0\n",
      "            Linear-8                   [-1, 10]           1,010\n",
      "================================================================\n",
      "Total params: 559,958\n",
      "Trainable params: 559,958\n",
      "Non-trainable params: 0\n",
      "----------------------------------------------------------------\n",
      "Input size (MB): 0.00\n",
      "Forward/backward pass size (MB): 0.02\n",
      "Params size (MB): 2.14\n",
      "Estimated Total Size (MB): 2.16\n",
      "----------------------------------------------------------------\n"
     ]
    }
   ],
   "source": [
    "model = NeuralNetwork().to(device)\n",
    "from torchsummary import summary\n",
    "summary(model, input_size=(1, 28, 28))"
   ]
  },
  {
   "cell_type": "markdown",
   "metadata": {},
   "source": [
    "Hopefully, you recognize the setup from the `linearmodel` notebook. \n",
    "\n",
    "- We will `Flatten` the image. That means we will transform our (64, 1, 28, 28) data into (64, 784) shaped data. What we do here, is flattening the image into a one dimensional vector.\n",
    "- We have a stack of hidden layers. These are essentially dotproducts. Our vector of 784 (28*28) elements is transformed into 512 elements, and then into 10 elements because we have 10 classes.\n",
    "- in between the linear transformations you can see the activation functions,here a `ReLu` \n",
    "- The `forward` method is what is called during training. This gives you control over the flow of information: it is easy to create some parallel flow of data if you want to do something like that."
   ]
  },
  {
   "cell_type": "markdown",
   "metadata": {},
   "source": [
    "# Optimizer"
   ]
  },
  {
   "cell_type": "markdown",
   "metadata": {},
   "source": [
    "We need an optimizer. We will dive into this in later lessons.\n",
    "\n",
    "For now, it is enough to know this:\n",
    "\n",
    "Your model makes a prediction. But how does the model know if it is right, or wrong?\n",
    "And, more specific: how does the model know which weights it needs to modify in order"
   ]
  },
  {
   "cell_type": "code",
   "execution_count": 62,
   "metadata": {},
   "outputs": [],
   "source": [
    "import torch.optim as optim\n",
    "loss_fn = torch.nn.CrossEntropyLoss()\n",
    "#loss_fn = torch.nn.L1Loss()"
   ]
  },
  {
   "cell_type": "code",
   "execution_count": 63,
   "metadata": {},
   "outputs": [
    {
     "data": {
      "text/plain": [
       "True"
      ]
     },
     "execution_count": 63,
     "metadata": {},
     "output_type": "execute_result"
    }
   ],
   "source": [
    "X, y = next(iter(trainstreamer))\n",
    "model.to(device)\n",
    "next(model.parameters()).is_cuda\n"
   ]
  },
  {
   "cell_type": "code",
   "execution_count": null,
   "metadata": {},
   "outputs": [],
   "source": []
  },
  {
   "cell_type": "code",
   "execution_count": 64,
   "metadata": {},
   "outputs": [],
   "source": [
    "yhat = model(X.to(device))"
   ]
  },
  {
   "cell_type": "code",
   "execution_count": 65,
   "metadata": {},
   "outputs": [
    {
     "data": {
      "text/plain": [
       "tensor(2.2911, device='cuda:0', grad_fn=<NllLossBackward0>)"
      ]
     },
     "execution_count": 65,
     "metadata": {},
     "output_type": "execute_result"
    }
   ],
   "source": [
    "loss_fn(yhat, y.to(device))"
   ]
  },
  {
   "cell_type": "markdown",
   "metadata": {},
   "source": [
    "# Learn the weights"
   ]
  },
  {
   "cell_type": "code",
   "execution_count": 66,
   "metadata": {},
   "outputs": [
    {
     "data": {
      "text/plain": [
       "WindowsPath('C:/Users/Francesca/Documents/osint/code_repo/AI/MADS-MachineLearning-course/notebooks/1_pytorch_intro/logs')"
      ]
     },
     "execution_count": 66,
     "metadata": {},
     "output_type": "execute_result"
    }
   ],
   "source": [
    "log_dir=Path(\"logs\").absolute()\n",
    "log_dir"
   ]
  },
  {
   "cell_type": "code",
   "execution_count": 67,
   "metadata": {},
   "outputs": [],
   "source": [
    "from mltrainer import metrics\n",
    "accuracy = metrics.Accuracy()"
   ]
  },
  {
   "cell_type": "code",
   "execution_count": 79,
   "metadata": {},
   "outputs": [
    {
     "data": {
      "text/plain": [
       "epochs: 8\n",
       "metrics: [Accuracy]\n",
       "logdir: C:\\Users\\Francesca\\Documents\\osint\\code_repo\\AI\\MADS-MachineLearning-course\\notebooks\\1_pytorch_intro\\logs\n",
       "train_steps: 937\n",
       "valid_steps: 156\n",
       "reporttypes: [<ReportTypes.TENSORBOARD: 2>]\n",
       "optimizer_kwargs: {'lr': 0.001, 'weight_decay': 1e-05}\n",
       "scheduler_kwargs: {'factor': 0.1, 'patience': 10}\n",
       "earlystop_kwargs: {'save': False, 'verbose': True, 'patience': 10}"
      ]
     },
     "execution_count": 79,
     "metadata": {},
     "output_type": "execute_result"
    }
   ],
   "source": [
    "from mltrainer import TrainerSettings, ReportTypes, Trainer\n",
    "\n",
    "settings = TrainerSettings(\n",
    "    epochs=8,\n",
    "    metrics=[accuracy],\n",
    "    logdir=log_dir,\n",
    "    train_steps=len(train),\n",
    "    valid_steps=len(valid),\n",
    "    reporttypes=[ReportTypes.TENSORBOARD],\n",
    ")\n",
    "settings"
   ]
  },
  {
   "cell_type": "code",
   "execution_count": 80,
   "metadata": {},
   "outputs": [
    {
     "data": {
      "text/plain": [
       "device(type='cuda', index=0)"
      ]
     },
     "execution_count": 80,
     "metadata": {},
     "output_type": "execute_result"
    }
   ],
   "source": [
    "next(model.parameters()).device"
   ]
  },
  {
   "cell_type": "code",
   "execution_count": 81,
   "metadata": {},
   "outputs": [
    {
     "name": "stderr",
     "output_type": "stream",
     "text": [
      "\u001b[32m2024-11-19 20:18:50.885\u001b[0m | \u001b[1mINFO    \u001b[0m | \u001b[36mmltrainer.trainer\u001b[0m:\u001b[36mdir_add_timestamp\u001b[0m:\u001b[36m29\u001b[0m - \u001b[1mLogging to C:\\Users\\Francesca\\Documents\\osint\\code_repo\\AI\\MADS-MachineLearning-course\\notebooks\\1_pytorch_intro\\logs\\20241119-201850\u001b[0m\n",
      "\u001b[32m2024-11-19 20:18:50.888\u001b[0m | \u001b[1mINFO    \u001b[0m | \u001b[36mmltrainer.trainer\u001b[0m:\u001b[36m__init__\u001b[0m:\u001b[36m72\u001b[0m - \u001b[1mFound earlystop_kwargs in settings.Set to None if you dont want earlystopping.\u001b[0m\n"
     ]
    }
   ],
   "source": [
    "trainer = Trainer(\n",
    "    model=model,\n",
    "    settings=settings,\n",
    "    loss_fn=loss_fn,\n",
    "    #optimizer=optim.Adam,\n",
    "    optimizer=optim.SGD,\n",
    "    traindataloader=trainstreamer,\n",
    "    validdataloader=validstreamer,\n",
    "    scheduler=optim.lr_scheduler.ReduceLROnPlateau,\n",
    "    device=device,\n",
    "    )"
   ]
  },
  {
   "cell_type": "code",
   "execution_count": 82,
   "metadata": {},
   "outputs": [
    {
     "name": "stderr",
     "output_type": "stream",
     "text": [
      "  0%|\u001b[38;2;30;71;6m                                                                                            \u001b[0m| 0/8 [00:00<?, ?it/s]\u001b[0m\n",
      "  0%|\u001b[38;2;30;71;6m                                                                                          \u001b[0m| 0/937 [00:00<?, ?it/s]\u001b[0m\u001b[A\n",
      "  0%|\u001b[38;2;30;71;6m▎                                                                                 \u001b[0m| 4/937 [00:00<00:28, 32.77it/s]\u001b[0m\u001b[A\n",
      "  1%|\u001b[38;2;30;71;6m█▏                                                                               \u001b[0m| 14/937 [00:00<00:13, 68.47it/s]\u001b[0m\u001b[A\n",
      "  3%|\u001b[38;2;30;71;6m██▋                                                                             \u001b[0m| 31/937 [00:00<00:08, 112.39it/s]\u001b[0m\u001b[A\n",
      "  5%|\u001b[38;2;30;71;6m████▎                                                                           \u001b[0m| 51/937 [00:00<00:06, 144.17it/s]\u001b[0m\u001b[A\n",
      "  8%|\u001b[38;2;30;71;6m██████                                                                          \u001b[0m| 71/937 [00:00<00:05, 162.50it/s]\u001b[0m\u001b[A\n",
      " 10%|\u001b[38;2;30;71;6m███████▊                                                                        \u001b[0m| 91/937 [00:00<00:04, 174.31it/s]\u001b[0m\u001b[A\n",
      " 12%|\u001b[38;2;30;71;6m█████████▌                                                                     \u001b[0m| 113/937 [00:00<00:04, 186.88it/s]\u001b[0m\u001b[A\n",
      " 15%|\u001b[38;2;30;71;6m███████████▍                                                                   \u001b[0m| 136/937 [00:00<00:04, 199.38it/s]\u001b[0m\u001b[A\n",
      " 17%|\u001b[38;2;30;71;6m█████████████▍                                                                 \u001b[0m| 159/937 [00:00<00:03, 207.95it/s]\u001b[0m\u001b[A\n",
      " 19%|\u001b[38;2;30;71;6m███████████████▎                                                               \u001b[0m| 182/937 [00:01<00:03, 213.68it/s]\u001b[0m\u001b[A\n",
      " 22%|\u001b[38;2;30;71;6m█████████████████▎                                                             \u001b[0m| 205/937 [00:01<00:03, 216.31it/s]\u001b[0m\u001b[A\n",
      " 24%|\u001b[38;2;30;71;6m███████████████████▏                                                           \u001b[0m| 227/937 [00:01<00:03, 214.50it/s]\u001b[0m\u001b[A\n",
      " 27%|\u001b[38;2;30;71;6m████████████████████▉                                                          \u001b[0m| 249/937 [00:01<00:03, 215.31it/s]\u001b[0m\u001b[A\n",
      " 29%|\u001b[38;2;30;71;6m███████████████████████                                                        \u001b[0m| 273/937 [00:01<00:03, 220.34it/s]\u001b[0m\u001b[A\n",
      " 32%|\u001b[38;2;30;71;6m█████████████████████████                                                      \u001b[0m| 297/937 [00:01<00:02, 224.48it/s]\u001b[0m\u001b[A\n",
      " 34%|\u001b[38;2;30;71;6m██████████████████████████▉                                                    \u001b[0m| 320/937 [00:01<00:02, 222.49it/s]\u001b[0m\u001b[A\n",
      " 37%|\u001b[38;2;30;71;6m████████████████████████████▉                                                  \u001b[0m| 343/937 [00:01<00:02, 221.76it/s]\u001b[0m\u001b[A\n",
      " 39%|\u001b[38;2;30;71;6m██████████████████████████████▊                                                \u001b[0m| 366/937 [00:01<00:02, 223.57it/s]\u001b[0m\u001b[A\n",
      " 42%|\u001b[38;2;30;71;6m████████████████████████████████▊                                              \u001b[0m| 389/937 [00:01<00:02, 222.53it/s]\u001b[0m\u001b[A\n",
      " 44%|\u001b[38;2;30;71;6m██████████████████████████████████▋                                            \u001b[0m| 412/937 [00:02<00:02, 218.62it/s]\u001b[0m\u001b[A\n",
      " 46%|\u001b[38;2;30;71;6m████████████████████████████████████▌                                          \u001b[0m| 434/937 [00:02<00:02, 214.97it/s]\u001b[0m\u001b[A\n",
      " 49%|\u001b[38;2;30;71;6m██████████████████████████████████████▍                                        \u001b[0m| 456/937 [00:02<00:02, 210.63it/s]\u001b[0m\u001b[A\n",
      " 51%|\u001b[38;2;30;71;6m████████████████████████████████████████▎                                      \u001b[0m| 478/937 [00:02<00:02, 203.24it/s]\u001b[0m\u001b[A\n",
      " 53%|\u001b[38;2;30;71;6m██████████████████████████████████████████                                     \u001b[0m| 499/937 [00:02<00:02, 178.99it/s]\u001b[0m\u001b[A\n",
      " 55%|\u001b[38;2;30;71;6m███████████████████████████████████████████▋                                   \u001b[0m| 518/937 [00:02<00:02, 178.57it/s]\u001b[0m\u001b[A\n",
      " 58%|\u001b[38;2;30;71;6m█████████████████████████████████████████████▍                                 \u001b[0m| 539/937 [00:02<00:02, 185.22it/s]\u001b[0m\u001b[A\n",
      " 60%|\u001b[38;2;30;71;6m███████████████████████████████████████████████▏                               \u001b[0m| 559/937 [00:02<00:02, 186.95it/s]\u001b[0m\u001b[A\n",
      " 62%|\u001b[38;2;30;71;6m████████████████████████████████████████████████▋                              \u001b[0m| 578/937 [00:03<00:02, 176.51it/s]\u001b[0m\u001b[A\n",
      " 64%|\u001b[38;2;30;71;6m██████████████████████████████████████████████████▎                            \u001b[0m| 597/937 [00:03<00:01, 177.96it/s]\u001b[0m\u001b[A\n",
      " 66%|\u001b[38;2;30;71;6m████████████████████████████████████████████████████                           \u001b[0m| 617/937 [00:03<00:01, 181.81it/s]\u001b[0m\u001b[A\n",
      " 68%|\u001b[38;2;30;71;6m█████████████████████████████████████████████████████▌                         \u001b[0m| 636/937 [00:03<00:01, 169.32it/s]\u001b[0m\u001b[A\n",
      " 70%|\u001b[38;2;30;71;6m███████████████████████████████████████████████████████▎                       \u001b[0m| 656/937 [00:03<00:01, 175.45it/s]\u001b[0m\u001b[A\n",
      " 72%|\u001b[38;2;30;71;6m████████████████████████████████████████████████████████▉                      \u001b[0m| 675/937 [00:03<00:01, 179.23it/s]\u001b[0m\u001b[A\n",
      " 74%|\u001b[38;2;30;71;6m██████████████████████████████████████████████████████████▌                    \u001b[0m| 695/937 [00:03<00:01, 182.77it/s]\u001b[0m\u001b[A\n",
      " 76%|\u001b[38;2;30;71;6m████████████████████████████████████████████████████████████▏                  \u001b[0m| 714/937 [00:03<00:01, 184.02it/s]\u001b[0m\u001b[A\n",
      " 78%|\u001b[38;2;30;71;6m█████████████████████████████████████████████████████████████▊                 \u001b[0m| 733/937 [00:03<00:01, 184.83it/s]\u001b[0m\u001b[A\n",
      " 80%|\u001b[38;2;30;71;6m███████████████████████████████████████████████████████████████▍               \u001b[0m| 752/937 [00:03<00:01, 184.40it/s]\u001b[0m\u001b[A\n",
      " 82%|\u001b[38;2;30;71;6m█████████████████████████████████████████████████████████████████              \u001b[0m| 771/937 [00:04<00:00, 184.15it/s]\u001b[0m\u001b[A\n",
      " 84%|\u001b[38;2;30;71;6m██████████████████████████████████████████████████████████████████▌            \u001b[0m| 790/937 [00:04<00:00, 185.54it/s]\u001b[0m\u001b[A\n",
      " 86%|\u001b[38;2;30;71;6m████████████████████████████████████████████████████████████████████▏          \u001b[0m| 809/937 [00:04<00:00, 186.03it/s]\u001b[0m\u001b[A\n",
      " 88%|\u001b[38;2;30;71;6m█████████████████████████████████████████████████████████████████████▊         \u001b[0m| 828/937 [00:04<00:00, 184.69it/s]\u001b[0m\u001b[A\n",
      " 90%|\u001b[38;2;30;71;6m███████████████████████████████████████████████████████████████████████▍       \u001b[0m| 847/937 [00:04<00:00, 184.84it/s]\u001b[0m\u001b[A\n",
      " 93%|\u001b[38;2;30;71;6m█████████████████████████████████████████████████████████████████████████      \u001b[0m| 867/937 [00:04<00:00, 187.38it/s]\u001b[0m\u001b[A\n",
      " 95%|\u001b[38;2;30;71;6m██████████████████████████████████████████████████████████████████████████▋    \u001b[0m| 886/937 [00:04<00:00, 186.77it/s]\u001b[0m\u001b[A\n",
      " 97%|\u001b[38;2;30;71;6m████████████████████████████████████████████████████████████████████████████▎  \u001b[0m| 905/937 [00:04<00:00, 187.08it/s]\u001b[0m\u001b[A\n",
      "100%|\u001b[38;2;30;71;6m███████████████████████████████████████████████████████████████████████████████\u001b[0m| 937/937 [00:04<00:00, 188.30it/s]\u001b[0m\u001b[A\n",
      "\u001b[32m2024-11-19 20:18:57.635\u001b[0m | \u001b[1mINFO    \u001b[0m | \u001b[36mmltrainer.trainer\u001b[0m:\u001b[36mreport\u001b[0m:\u001b[36m191\u001b[0m - \u001b[1mEpoch 0 train 0.2253 test 0.3121 metric ['0.8893']\u001b[0m\n",
      " 12%|\u001b[38;2;30;71;6m██████████▌                                                                         \u001b[0m| 1/8 [00:05<00:39,  5.67s/it]\u001b[0m\n",
      "  0%|\u001b[38;2;30;71;6m                                                                                          \u001b[0m| 0/937 [00:00<?, ?it/s]\u001b[0m\u001b[A\n",
      "  2%|\u001b[38;2;30;71;6m█▊                                                                              \u001b[0m| 21/937 [00:00<00:04, 204.17it/s]\u001b[0m\u001b[A\n",
      "  4%|\u001b[38;2;30;71;6m███▌                                                                            \u001b[0m| 42/937 [00:00<00:04, 205.75it/s]\u001b[0m\u001b[A\n",
      "  7%|\u001b[38;2;30;71;6m█████▍                                                                          \u001b[0m| 63/937 [00:00<00:04, 202.62it/s]\u001b[0m\u001b[A\n",
      "  9%|\u001b[38;2;30;71;6m███████▏                                                                        \u001b[0m| 84/937 [00:00<00:04, 194.92it/s]\u001b[0m\u001b[A\n",
      " 11%|\u001b[38;2;30;71;6m████████▊                                                                      \u001b[0m| 104/937 [00:00<00:04, 190.43it/s]\u001b[0m\u001b[A\n",
      " 13%|\u001b[38;2;30;71;6m██████████▍                                                                    \u001b[0m| 124/937 [00:00<00:04, 190.74it/s]\u001b[0m\u001b[A\n",
      " 15%|\u001b[38;2;30;71;6m████████████▏                                                                  \u001b[0m| 144/937 [00:00<00:04, 189.00it/s]\u001b[0m\u001b[A\n",
      " 17%|\u001b[38;2;30;71;6m█████████████▋                                                                 \u001b[0m| 163/937 [00:00<00:04, 187.45it/s]\u001b[0m\u001b[A\n",
      " 19%|\u001b[38;2;30;71;6m███████████████▎                                                               \u001b[0m| 182/937 [00:00<00:04, 187.40it/s]\u001b[0m\u001b[A\n",
      " 21%|\u001b[38;2;30;71;6m████████████████▉                                                              \u001b[0m| 201/937 [00:01<00:04, 181.90it/s]\u001b[0m\u001b[A\n",
      " 23%|\u001b[38;2;30;71;6m██████████████████▌                                                            \u001b[0m| 220/937 [00:01<00:04, 178.54it/s]\u001b[0m\u001b[A\n",
      " 25%|\u001b[38;2;30;71;6m████████████████████                                                           \u001b[0m| 238/937 [00:01<00:03, 175.19it/s]\u001b[0m\u001b[A\n",
      " 27%|\u001b[38;2;30;71;6m█████████████████████▌                                                         \u001b[0m| 256/937 [00:01<00:03, 173.33it/s]\u001b[0m\u001b[A\n",
      " 29%|\u001b[38;2;30;71;6m███████████████████████                                                        \u001b[0m| 274/937 [00:01<00:03, 171.99it/s]\u001b[0m\u001b[A\n",
      " 31%|\u001b[38;2;30;71;6m████████████████████████▌                                                      \u001b[0m| 292/937 [00:01<00:03, 171.58it/s]\u001b[0m\u001b[A\n",
      " 33%|\u001b[38;2;30;71;6m██████████████████████████▏                                                    \u001b[0m| 310/937 [00:01<00:03, 161.97it/s]\u001b[0m\u001b[A\n",
      " 35%|\u001b[38;2;30;71;6m███████████████████████████▌                                                   \u001b[0m| 327/937 [00:01<00:03, 155.03it/s]\u001b[0m\u001b[A\n",
      " 37%|\u001b[38;2;30;71;6m█████████████████████████████                                                  \u001b[0m| 345/937 [00:01<00:03, 160.25it/s]\u001b[0m\u001b[A\n",
      " 39%|\u001b[38;2;30;71;6m██████████████████████████████▌                                                \u001b[0m| 362/937 [00:02<00:03, 150.22it/s]\u001b[0m\u001b[A\n",
      " 41%|\u001b[38;2;30;71;6m████████████████████████████████                                               \u001b[0m| 380/937 [00:02<00:03, 156.30it/s]\u001b[0m\u001b[A\n",
      " 42%|\u001b[38;2;30;71;6m█████████████████████████████████▌                                             \u001b[0m| 398/937 [00:02<00:03, 160.38it/s]\u001b[0m\u001b[A\n",
      " 44%|\u001b[38;2;30;71;6m██████████████████████████████████▉                                            \u001b[0m| 415/937 [00:02<00:03, 162.58it/s]\u001b[0m\u001b[A\n",
      " 46%|\u001b[38;2;30;71;6m████████████████████████████████████▍                                          \u001b[0m| 432/937 [00:02<00:03, 156.47it/s]\u001b[0m\u001b[A\n",
      " 48%|\u001b[38;2;30;71;6m█████████████████████████████████████▊                                         \u001b[0m| 448/937 [00:02<00:03, 145.50it/s]\u001b[0m\u001b[A\n",
      " 50%|\u001b[38;2;30;71;6m███████████████████████████████████████                                        \u001b[0m| 464/937 [00:02<00:03, 148.00it/s]\u001b[0m\u001b[A\n",
      " 51%|\u001b[38;2;30;71;6m████████████████████████████████████████▌                                      \u001b[0m| 481/937 [00:02<00:03, 151.72it/s]\u001b[0m\u001b[A\n",
      " 53%|\u001b[38;2;30;71;6m██████████████████████████████████████████▏                                    \u001b[0m| 500/937 [00:02<00:02, 161.72it/s]\u001b[0m\u001b[A\n",
      " 56%|\u001b[38;2;30;71;6m███████████████████████████████████████████▉                                   \u001b[0m| 521/937 [00:03<00:02, 173.69it/s]\u001b[0m\u001b[A\n",
      " 58%|\u001b[38;2;30;71;6m█████████████████████████████████████████████▌                                 \u001b[0m| 541/937 [00:03<00:02, 179.67it/s]\u001b[0m\u001b[A\n",
      " 60%|\u001b[38;2;30;71;6m███████████████████████████████████████████████▎                               \u001b[0m| 561/937 [00:03<00:02, 183.94it/s]\u001b[0m\u001b[A\n",
      " 62%|\u001b[38;2;30;71;6m████████████████████████████████████████████████▉                              \u001b[0m| 580/937 [00:03<00:01, 181.73it/s]\u001b[0m\u001b[A\n",
      " 64%|\u001b[38;2;30;71;6m██████████████████████████████████████████████████▌                            \u001b[0m| 599/937 [00:03<00:01, 173.47it/s]\u001b[0m\u001b[A\n",
      " 66%|\u001b[38;2;30;71;6m████████████████████████████████████████████████████                           \u001b[0m| 617/937 [00:03<00:01, 166.72it/s]\u001b[0m\u001b[A\n",
      " 68%|\u001b[38;2;30;71;6m█████████████████████████████████████████████████████▍                         \u001b[0m| 634/937 [00:03<00:01, 162.03it/s]\u001b[0m\u001b[A\n",
      " 70%|\u001b[38;2;30;71;6m██████████████████████████████████████████████████████▉                        \u001b[0m| 652/937 [00:03<00:01, 166.07it/s]\u001b[0m\u001b[A\n",
      " 72%|\u001b[38;2;30;71;6m████████████████████████████████████████████████████████▋                      \u001b[0m| 672/937 [00:03<00:01, 174.49it/s]\u001b[0m\u001b[A\n",
      " 74%|\u001b[38;2;30;71;6m██████████████████████████████████████████████████████████▎                    \u001b[0m| 692/937 [00:04<00:01, 181.49it/s]\u001b[0m\u001b[A\n",
      " 76%|\u001b[38;2;30;71;6m████████████████████████████████████████████████████████████                   \u001b[0m| 712/937 [00:04<00:01, 184.73it/s]\u001b[0m\u001b[A\n",
      " 78%|\u001b[38;2;30;71;6m█████████████████████████████████████████████████████████████▋                 \u001b[0m| 732/937 [00:04<00:01, 189.15it/s]\u001b[0m\u001b[A\n",
      " 80%|\u001b[38;2;30;71;6m███████████████████████████████████████████████████████████████▍               \u001b[0m| 752/937 [00:04<00:00, 191.47it/s]\u001b[0m\u001b[A\n",
      " 82%|\u001b[38;2;30;71;6m█████████████████████████████████████████████████████████████████              \u001b[0m| 772/937 [00:04<00:00, 175.83it/s]\u001b[0m\u001b[A\n",
      " 84%|\u001b[38;2;30;71;6m██████████████████████████████████████████████████████████████████▌            \u001b[0m| 790/937 [00:04<00:00, 156.73it/s]\u001b[0m\u001b[A\n",
      " 86%|\u001b[38;2;30;71;6m████████████████████████████████████████████████████████████████████           \u001b[0m| 807/937 [00:04<00:00, 154.52it/s]\u001b[0m\u001b[A\n",
      " 88%|\u001b[38;2;30;71;6m█████████████████████████████████████████████████████████████████████▌         \u001b[0m| 825/937 [00:04<00:00, 158.91it/s]\u001b[0m\u001b[A\n",
      " 90%|\u001b[38;2;30;71;6m███████████████████████████████████████████████████████████████████████        \u001b[0m| 843/937 [00:04<00:00, 163.50it/s]\u001b[0m\u001b[A\n",
      " 92%|\u001b[38;2;30;71;6m████████████████████████████████████████████████████████████████████████▌      \u001b[0m| 860/937 [00:05<00:00, 152.99it/s]\u001b[0m\u001b[A\n",
      " 94%|\u001b[38;2;30;71;6m██████████████████████████████████████████████████████████████████████████     \u001b[0m| 878/937 [00:05<00:00, 158.92it/s]\u001b[0m\u001b[A\n",
      " 96%|\u001b[38;2;30;71;6m███████████████████████████████████████████████████████████████████████████▌   \u001b[0m| 896/937 [00:05<00:00, 164.23it/s]\u001b[0m\u001b[A\n",
      " 98%|\u001b[38;2;30;71;6m█████████████████████████████████████████████████████████████████████████████  \u001b[0m| 914/937 [00:05<00:00, 167.48it/s]\u001b[0m\u001b[A\n",
      "100%|\u001b[38;2;30;71;6m███████████████████████████████████████████████████████████████████████████████\u001b[0m| 937/937 [00:05<00:00, 170.31it/s]\u001b[0m\u001b[A\n",
      "\u001b[32m2024-11-19 20:19:03.732\u001b[0m | \u001b[1mINFO    \u001b[0m | \u001b[36mmltrainer.trainer\u001b[0m:\u001b[36mreport\u001b[0m:\u001b[36m191\u001b[0m - \u001b[1mEpoch 1 train 0.2253 test 0.3109 metric ['0.8900']\u001b[0m\n",
      " 25%|\u001b[38;2;30;71;6m█████████████████████                                                               \u001b[0m| 2/8 [00:11<00:35,  5.92s/it]\u001b[0m\n",
      "  0%|\u001b[38;2;30;71;6m                                                                                          \u001b[0m| 0/937 [00:00<?, ?it/s]\u001b[0m\u001b[A\n",
      "  2%|\u001b[38;2;30;71;6m█▎                                                                              \u001b[0m| 16/937 [00:00<00:05, 159.47it/s]\u001b[0m\u001b[A\n",
      "  4%|\u001b[38;2;30;71;6m██▉                                                                             \u001b[0m| 34/937 [00:00<00:05, 169.04it/s]\u001b[0m\u001b[A\n",
      "  6%|\u001b[38;2;30;71;6m████▍                                                                           \u001b[0m| 52/937 [00:00<00:05, 172.82it/s]\u001b[0m\u001b[A\n",
      "  7%|\u001b[38;2;30;71;6m█████▉                                                                          \u001b[0m| 70/937 [00:00<00:05, 166.19it/s]\u001b[0m\u001b[A\n",
      "  9%|\u001b[38;2;30;71;6m███████▍                                                                        \u001b[0m| 87/937 [00:00<00:05, 155.41it/s]\u001b[0m\u001b[A\n",
      " 11%|\u001b[38;2;30;71;6m████████▊                                                                      \u001b[0m| 105/937 [00:00<00:05, 162.36it/s]\u001b[0m\u001b[A\n",
      " 13%|\u001b[38;2;30;71;6m██████████▎                                                                    \u001b[0m| 123/937 [00:00<00:04, 165.50it/s]\u001b[0m\u001b[A\n",
      " 15%|\u001b[38;2;30;71;6m███████████▊                                                                   \u001b[0m| 140/937 [00:00<00:04, 166.10it/s]\u001b[0m\u001b[A\n",
      " 17%|\u001b[38;2;30;71;6m█████████████▏                                                                 \u001b[0m| 157/937 [00:00<00:04, 165.84it/s]\u001b[0m\u001b[A\n",
      " 19%|\u001b[38;2;30;71;6m██████████████▋                                                                \u001b[0m| 174/937 [00:01<00:04, 166.83it/s]\u001b[0m\u001b[A\n",
      " 20%|\u001b[38;2;30;71;6m████████████████▏                                                              \u001b[0m| 192/937 [00:01<00:04, 170.24it/s]\u001b[0m\u001b[A\n",
      " 22%|\u001b[38;2;30;71;6m█████████████████▋                                                             \u001b[0m| 210/937 [00:01<00:04, 163.84it/s]\u001b[0m\u001b[A\n",
      " 24%|\u001b[38;2;30;71;6m███████████████████▏                                                           \u001b[0m| 228/937 [00:01<00:04, 167.54it/s]\u001b[0m\u001b[A\n",
      " 26%|\u001b[38;2;30;71;6m████████████████████▋                                                          \u001b[0m| 246/937 [00:01<00:04, 170.91it/s]\u001b[0m\u001b[A\n",
      " 28%|\u001b[38;2;30;71;6m██████████████████████▎                                                        \u001b[0m| 264/937 [00:01<00:03, 172.75it/s]\u001b[0m\u001b[A\n",
      " 30%|\u001b[38;2;30;71;6m███████████████████████▊                                                       \u001b[0m| 282/937 [00:01<00:03, 173.60it/s]\u001b[0m\u001b[A\n",
      " 32%|\u001b[38;2;30;71;6m█████████████████████████▎                                                     \u001b[0m| 300/937 [00:01<00:03, 162.16it/s]\u001b[0m\u001b[A\n",
      " 34%|\u001b[38;2;30;71;6m██████████████████████████▊                                                    \u001b[0m| 318/937 [00:01<00:03, 166.00it/s]\u001b[0m\u001b[A\n",
      " 36%|\u001b[38;2;30;71;6m████████████████████████████▎                                                  \u001b[0m| 336/937 [00:02<00:03, 169.25it/s]\u001b[0m\u001b[A\n",
      " 38%|\u001b[38;2;30;71;6m█████████████████████████████▊                                                 \u001b[0m| 354/937 [00:02<00:03, 171.35it/s]\u001b[0m\u001b[A\n",
      " 40%|\u001b[38;2;30;71;6m███████████████████████████████▎                                               \u001b[0m| 372/937 [00:02<00:03, 172.71it/s]\u001b[0m\u001b[A\n",
      " 42%|\u001b[38;2;30;71;6m████████████████████████████████▉                                              \u001b[0m| 390/937 [00:02<00:03, 173.21it/s]\u001b[0m\u001b[A\n",
      " 44%|\u001b[38;2;30;71;6m██████████████████████████████████▍                                            \u001b[0m| 408/937 [00:02<00:03, 170.45it/s]\u001b[0m\u001b[A\n",
      " 45%|\u001b[38;2;30;71;6m███████████████████████████████████▉                                           \u001b[0m| 426/937 [00:02<00:03, 162.19it/s]\u001b[0m\u001b[A\n",
      " 47%|\u001b[38;2;30;71;6m█████████████████████████████████████▎                                         \u001b[0m| 443/937 [00:02<00:03, 158.19it/s]\u001b[0m\u001b[A\n",
      " 49%|\u001b[38;2;30;71;6m██████████████████████████████████████▋                                        \u001b[0m| 459/937 [00:02<00:03, 154.71it/s]\u001b[0m\u001b[A\n",
      " 51%|\u001b[38;2;30;71;6m████████████████████████████████████████▏                                      \u001b[0m| 477/937 [00:02<00:02, 160.63it/s]\u001b[0m\u001b[A\n",
      " 53%|\u001b[38;2;30;71;6m█████████████████████████████████████████▋                                     \u001b[0m| 494/937 [00:02<00:02, 161.66it/s]\u001b[0m\u001b[A\n",
      " 55%|\u001b[38;2;30;71;6m███████████████████████████████████████████▏                                   \u001b[0m| 512/937 [00:03<00:02, 165.11it/s]\u001b[0m\u001b[A\n",
      " 57%|\u001b[38;2;30;71;6m████████████████████████████████████████████▋                                  \u001b[0m| 530/937 [00:03<00:02, 169.16it/s]\u001b[0m\u001b[A\n",
      " 59%|\u001b[38;2;30;71;6m██████████████████████████████████████████████▎                                \u001b[0m| 549/937 [00:03<00:02, 173.97it/s]\u001b[0m\u001b[A\n",
      " 61%|\u001b[38;2;30;71;6m███████████████████████████████████████████████▉                               \u001b[0m| 568/937 [00:03<00:02, 177.31it/s]\u001b[0m\u001b[A\n",
      " 63%|\u001b[38;2;30;71;6m█████████████████████████████████████████████████▍                             \u001b[0m| 586/937 [00:03<00:02, 174.77it/s]\u001b[0m\u001b[A\n",
      " 64%|\u001b[38;2;30;71;6m██████████████████████████████████████████████████▉                            \u001b[0m| 604/937 [00:03<00:01, 173.00it/s]\u001b[0m\u001b[A\n",
      " 66%|\u001b[38;2;30;71;6m████████████████████████████████████████████████████▌                          \u001b[0m| 623/937 [00:03<00:01, 176.15it/s]\u001b[0m\u001b[A\n",
      " 68%|\u001b[38;2;30;71;6m██████████████████████████████████████████████████████                         \u001b[0m| 641/937 [00:03<00:01, 177.00it/s]\u001b[0m\u001b[A\n",
      " 70%|\u001b[38;2;30;71;6m███████████████████████████████████████████████████████▋                       \u001b[0m| 660/937 [00:03<00:01, 179.49it/s]\u001b[0m\u001b[A\n",
      " 72%|\u001b[38;2;30;71;6m█████████████████████████████████████████████████████████▏                     \u001b[0m| 678/937 [00:04<00:01, 178.39it/s]\u001b[0m\u001b[A\n",
      " 74%|\u001b[38;2;30;71;6m██████████████████████████████████████████████████████████▋                    \u001b[0m| 696/937 [00:04<00:01, 162.38it/s]\u001b[0m\u001b[A\n",
      " 76%|\u001b[38;2;30;71;6m████████████████████████████████████████████████████████████                   \u001b[0m| 713/937 [00:04<00:01, 164.24it/s]\u001b[0m\u001b[A\n",
      " 78%|\u001b[38;2;30;71;6m█████████████████████████████████████████████████████████████▌                 \u001b[0m| 730/937 [00:04<00:01, 157.38it/s]\u001b[0m\u001b[A\n",
      " 80%|\u001b[38;2;30;71;6m██████████████████████████████████████████████████████████████▉                \u001b[0m| 747/937 [00:04<00:01, 158.48it/s]\u001b[0m\u001b[A\n",
      " 82%|\u001b[38;2;30;71;6m████████████████████████████████████████████████████████████████▍              \u001b[0m| 765/937 [00:04<00:01, 164.07it/s]\u001b[0m\u001b[A\n",
      " 83%|\u001b[38;2;30;71;6m█████████████████████████████████████████████████████████████████▉             \u001b[0m| 782/937 [00:04<00:00, 160.02it/s]\u001b[0m\u001b[A\n",
      " 85%|\u001b[38;2;30;71;6m███████████████████████████████████████████████████████████████████▎           \u001b[0m| 799/937 [00:04<00:00, 157.10it/s]\u001b[0m\u001b[A\n",
      " 87%|\u001b[38;2;30;71;6m████████████████████████████████████████████████████████████████████▋          \u001b[0m| 815/937 [00:04<00:00, 155.73it/s]\u001b[0m\u001b[A\n",
      " 89%|\u001b[38;2;30;71;6m██████████████████████████████████████████████████████████████████████         \u001b[0m| 831/937 [00:05<00:00, 154.32it/s]\u001b[0m\u001b[A\n",
      " 91%|\u001b[38;2;30;71;6m███████████████████████████████████████████████████████████████████████▌       \u001b[0m| 849/937 [00:05<00:00, 159.53it/s]\u001b[0m\u001b[A\n",
      " 92%|\u001b[38;2;30;71;6m█████████████████████████████████████████████████████████████████████████      \u001b[0m| 866/937 [00:05<00:00, 161.44it/s]\u001b[0m\u001b[A\n",
      " 94%|\u001b[38;2;30;71;6m██████████████████████████████████████████████████████████████████████████▌    \u001b[0m| 885/937 [00:05<00:00, 168.54it/s]\u001b[0m\u001b[A\n",
      " 96%|\u001b[38;2;30;71;6m████████████████████████████████████████████████████████████████████████████▏  \u001b[0m| 904/937 [00:05<00:00, 173.51it/s]\u001b[0m\u001b[A\n",
      "100%|\u001b[38;2;30;71;6m███████████████████████████████████████████████████████████████████████████████\u001b[0m| 937/937 [00:05<00:00, 167.17it/s]\u001b[0m\u001b[A\n",
      "\u001b[32m2024-11-19 20:19:09.931\u001b[0m | \u001b[1mINFO    \u001b[0m | \u001b[36mmltrainer.trainer\u001b[0m:\u001b[36mreport\u001b[0m:\u001b[36m191\u001b[0m - \u001b[1mEpoch 2 train 0.2246 test 0.3114 metric ['0.8894']\u001b[0m\n",
      "\u001b[32m2024-11-19 20:19:09.932\u001b[0m | \u001b[1mINFO    \u001b[0m | \u001b[36mmltrainer.trainer\u001b[0m:\u001b[36m__call__\u001b[0m:\u001b[36m234\u001b[0m - \u001b[1mbest loss: 0.3109, current loss 0.3114.Counter 1/10.\u001b[0m\n",
      " 38%|\u001b[38;2;30;71;6m███████████████████████████████▌                                                    \u001b[0m| 3/8 [00:17<00:30,  6.05s/it]\u001b[0m\n",
      "  0%|\u001b[38;2;30;71;6m                                                                                          \u001b[0m| 0/937 [00:00<?, ?it/s]\u001b[0m\u001b[A\n",
      "  2%|\u001b[38;2;30;71;6m█▌                                                                              \u001b[0m| 18/937 [00:00<00:05, 173.88it/s]\u001b[0m\u001b[A\n",
      "  4%|\u001b[38;2;30;71;6m███                                                                             \u001b[0m| 36/937 [00:00<00:06, 147.12it/s]\u001b[0m\u001b[A\n",
      "  6%|\u001b[38;2;30;71;6m████▋                                                                           \u001b[0m| 55/937 [00:00<00:05, 160.20it/s]\u001b[0m\u001b[A\n",
      "  8%|\u001b[38;2;30;71;6m██████▏                                                                         \u001b[0m| 72/937 [00:00<00:05, 161.69it/s]\u001b[0m\u001b[A\n",
      " 10%|\u001b[38;2;30;71;6m███████▊                                                                        \u001b[0m| 91/937 [00:00<00:05, 168.83it/s]\u001b[0m\u001b[A\n",
      " 12%|\u001b[38;2;30;71;6m█████████▏                                                                     \u001b[0m| 109/937 [00:00<00:04, 167.39it/s]\u001b[0m\u001b[A\n",
      " 13%|\u001b[38;2;30;71;6m██████████▌                                                                    \u001b[0m| 126/937 [00:00<00:05, 160.17it/s]\u001b[0m\u001b[A\n",
      " 15%|\u001b[38;2;30;71;6m████████████                                                                   \u001b[0m| 143/937 [00:00<00:05, 156.69it/s]\u001b[0m\u001b[A\n",
      " 17%|\u001b[38;2;30;71;6m█████████████▍                                                                 \u001b[0m| 159/937 [00:01<00:05, 152.52it/s]\u001b[0m\u001b[A\n",
      " 19%|\u001b[38;2;30;71;6m██████████████▊                                                                \u001b[0m| 175/937 [00:01<00:04, 152.69it/s]\u001b[0m\u001b[A\n",
      " 21%|\u001b[38;2;30;71;6m████████████████▎                                                              \u001b[0m| 193/937 [00:01<00:04, 159.83it/s]\u001b[0m\u001b[A\n",
      " 23%|\u001b[38;2;30;71;6m█████████████████▊                                                             \u001b[0m| 211/937 [00:01<00:04, 165.42it/s]\u001b[0m\u001b[A\n",
      " 24%|\u001b[38;2;30;71;6m███████████████████▎                                                           \u001b[0m| 229/937 [00:01<00:04, 167.60it/s]\u001b[0m\u001b[A\n",
      " 26%|\u001b[38;2;30;71;6m████████████████████▊                                                          \u001b[0m| 247/937 [00:01<00:04, 171.19it/s]\u001b[0m\u001b[A\n",
      " 28%|\u001b[38;2;30;71;6m██████████████████████▍                                                        \u001b[0m| 266/937 [00:01<00:03, 176.46it/s]\u001b[0m\u001b[A\n",
      " 31%|\u001b[38;2;30;71;6m████████████████████████                                                       \u001b[0m| 286/937 [00:01<00:03, 181.00it/s]\u001b[0m\u001b[A\n",
      " 33%|\u001b[38;2;30;71;6m█████████████████████████▋                                                     \u001b[0m| 305/937 [00:01<00:03, 183.40it/s]\u001b[0m\u001b[A\n",
      " 35%|\u001b[38;2;30;71;6m███████████████████████████▎                                                   \u001b[0m| 324/937 [00:01<00:03, 185.10it/s]\u001b[0m\u001b[A\n",
      " 37%|\u001b[38;2;30;71;6m████████████████████████████▉                                                  \u001b[0m| 343/937 [00:02<00:03, 170.57it/s]\u001b[0m\u001b[A\n",
      " 39%|\u001b[38;2;30;71;6m██████████████████████████████▌                                                \u001b[0m| 362/937 [00:02<00:03, 174.24it/s]\u001b[0m\u001b[A\n",
      " 41%|\u001b[38;2;30;71;6m████████████████████████████████                                               \u001b[0m| 381/937 [00:02<00:03, 176.97it/s]\u001b[0m\u001b[A\n",
      " 43%|\u001b[38;2;30;71;6m█████████████████████████████████▋                                             \u001b[0m| 400/937 [00:02<00:02, 179.82it/s]\u001b[0m\u001b[A\n",
      " 45%|\u001b[38;2;30;71;6m███████████████████████████████████▎                                           \u001b[0m| 419/937 [00:02<00:02, 181.76it/s]\u001b[0m\u001b[A\n",
      " 47%|\u001b[38;2;30;71;6m████████████████████████████████████▉                                          \u001b[0m| 438/937 [00:02<00:02, 184.05it/s]\u001b[0m\u001b[A\n",
      " 49%|\u001b[38;2;30;71;6m██████████████████████████████████████▌                                        \u001b[0m| 457/937 [00:02<00:02, 185.56it/s]\u001b[0m\u001b[A\n",
      " 51%|\u001b[38;2;30;71;6m████████████████████████████████████████▏                                      \u001b[0m| 476/937 [00:02<00:02, 186.04it/s]\u001b[0m\u001b[A\n",
      " 53%|\u001b[38;2;30;71;6m█████████████████████████████████████████▋                                     \u001b[0m| 495/937 [00:02<00:02, 182.82it/s]\u001b[0m\u001b[A\n",
      " 55%|\u001b[38;2;30;71;6m███████████████████████████████████████████▎                                   \u001b[0m| 514/937 [00:02<00:02, 174.01it/s]\u001b[0m\u001b[A\n",
      " 57%|\u001b[38;2;30;71;6m████████████████████████████████████████████▊                                  \u001b[0m| 532/937 [00:03<00:02, 167.72it/s]\u001b[0m\u001b[A\n",
      " 59%|\u001b[38;2;30;71;6m██████████████████████████████████████████████▎                                \u001b[0m| 549/937 [00:03<00:02, 165.25it/s]\u001b[0m\u001b[A\n",
      " 60%|\u001b[38;2;30;71;6m███████████████████████████████████████████████▋                               \u001b[0m| 566/937 [00:03<00:02, 161.87it/s]\u001b[0m\u001b[A\n",
      " 62%|\u001b[38;2;30;71;6m█████████████████████████████████████████████████▏                             \u001b[0m| 583/937 [00:03<00:02, 161.22it/s]\u001b[0m\u001b[A\n",
      " 64%|\u001b[38;2;30;71;6m██████████████████████████████████████████████████▌                            \u001b[0m| 600/937 [00:03<00:02, 160.71it/s]\u001b[0m\u001b[A\n",
      " 66%|\u001b[38;2;30;71;6m████████████████████████████████████████████████████                           \u001b[0m| 617/937 [00:03<00:02, 159.96it/s]\u001b[0m\u001b[A\n",
      " 68%|\u001b[38;2;30;71;6m█████████████████████████████████████████████████████▍                         \u001b[0m| 634/937 [00:03<00:02, 146.54it/s]\u001b[0m\u001b[A\n",
      " 69%|\u001b[38;2;30;71;6m██████████████████████████████████████████████████████▊                        \u001b[0m| 650/937 [00:03<00:01, 148.63it/s]\u001b[0m\u001b[A\n",
      " 71%|\u001b[38;2;30;71;6m████████████████████████████████████████████████████████▏                      \u001b[0m| 666/937 [00:03<00:01, 151.10it/s]\u001b[0m\u001b[A\n",
      " 73%|\u001b[38;2;30;71;6m█████████████████████████████████████████████████████████▌                     \u001b[0m| 682/937 [00:04<00:01, 152.54it/s]\u001b[0m\u001b[A\n",
      " 74%|\u001b[38;2;30;71;6m██████████████████████████████████████████████████████████▊                    \u001b[0m| 698/937 [00:04<00:01, 154.44it/s]\u001b[0m\u001b[A\n",
      " 76%|\u001b[38;2;30;71;6m████████████████████████████████████████████████████████████▏                  \u001b[0m| 714/937 [00:04<00:01, 155.48it/s]\u001b[0m\u001b[A\n",
      " 78%|\u001b[38;2;30;71;6m█████████████████████████████████████████████████████████████▋                 \u001b[0m| 731/937 [00:04<00:01, 157.62it/s]\u001b[0m\u001b[A\n",
      " 80%|\u001b[38;2;30;71;6m██████████████████████████████████████████████████████████████▉                \u001b[0m| 747/937 [00:04<00:01, 156.71it/s]\u001b[0m\u001b[A\n",
      " 81%|\u001b[38;2;30;71;6m████████████████████████████████████████████████████████████████▎              \u001b[0m| 763/937 [00:04<00:01, 156.98it/s]\u001b[0m\u001b[A\n",
      " 83%|\u001b[38;2;30;71;6m█████████████████████████████████████████████████████████████████▋             \u001b[0m| 779/937 [00:04<00:01, 157.16it/s]\u001b[0m\u001b[A\n",
      " 85%|\u001b[38;2;30;71;6m███████████████████████████████████████████████████████████████████            \u001b[0m| 795/937 [00:04<00:00, 157.18it/s]\u001b[0m\u001b[A\n",
      " 87%|\u001b[38;2;30;71;6m████████████████████████████████████████████████████████████████████▍          \u001b[0m| 811/937 [00:04<00:00, 154.96it/s]\u001b[0m\u001b[A\n",
      " 88%|\u001b[38;2;30;71;6m█████████████████████████████████████████████████████████████████████▋         \u001b[0m| 827/937 [00:05<00:00, 155.44it/s]\u001b[0m\u001b[A\n",
      " 90%|\u001b[38;2;30;71;6m███████████████████████████████████████████████████████████████████████        \u001b[0m| 843/937 [00:05<00:00, 154.69it/s]\u001b[0m\u001b[A\n",
      " 92%|\u001b[38;2;30;71;6m████████████████████████████████████████████████████████████████████████▌      \u001b[0m| 860/937 [00:05<00:00, 156.46it/s]\u001b[0m\u001b[A\n",
      " 93%|\u001b[38;2;30;71;6m█████████████████████████████████████████████████████████████████████████▊     \u001b[0m| 876/937 [00:05<00:00, 156.78it/s]\u001b[0m\u001b[A\n",
      " 95%|\u001b[38;2;30;71;6m███████████████████████████████████████████████████████████████████████████▏   \u001b[0m| 892/937 [00:05<00:00, 144.76it/s]\u001b[0m\u001b[A\n",
      " 97%|\u001b[38;2;30;71;6m████████████████████████████████████████████████████████████████████████████▍  \u001b[0m| 907/937 [00:05<00:00, 146.00it/s]\u001b[0m\u001b[A\n",
      "100%|\u001b[38;2;30;71;6m███████████████████████████████████████████████████████████████████████████████\u001b[0m| 937/937 [00:05<00:00, 162.88it/s]\u001b[0m\u001b[A\n",
      "\u001b[32m2024-11-19 20:19:16.296\u001b[0m | \u001b[1mINFO    \u001b[0m | \u001b[36mmltrainer.trainer\u001b[0m:\u001b[36mreport\u001b[0m:\u001b[36m191\u001b[0m - \u001b[1mEpoch 3 train 0.2246 test 0.3109 metric ['0.8901']\u001b[0m\n",
      "\u001b[32m2024-11-19 20:19:16.297\u001b[0m | \u001b[1mINFO    \u001b[0m | \u001b[36mmltrainer.trainer\u001b[0m:\u001b[36m__call__\u001b[0m:\u001b[36m234\u001b[0m - \u001b[1mbest loss: 0.3109, current loss 0.3109.Counter 2/10.\u001b[0m\n",
      " 50%|\u001b[38;2;30;71;6m██████████████████████████████████████████                                          \u001b[0m| 4/8 [00:24<00:24,  6.17s/it]\u001b[0m\n",
      "  0%|\u001b[38;2;30;71;6m                                                                                          \u001b[0m| 0/937 [00:00<?, ?it/s]\u001b[0m\u001b[A\n",
      "  2%|\u001b[38;2;30;71;6m█▎                                                                              \u001b[0m| 16/937 [00:00<00:05, 153.51it/s]\u001b[0m\u001b[A\n",
      "  3%|\u001b[38;2;30;71;6m██▋                                                                             \u001b[0m| 32/937 [00:00<00:05, 157.03it/s]\u001b[0m\u001b[A\n",
      "  5%|\u001b[38;2;30;71;6m████                                                                            \u001b[0m| 48/937 [00:00<00:05, 158.09it/s]\u001b[0m\u001b[A\n",
      "  7%|\u001b[38;2;30;71;6m█████▍                                                                          \u001b[0m| 64/937 [00:00<00:05, 157.90it/s]\u001b[0m\u001b[A\n",
      "  9%|\u001b[38;2;30;71;6m██████▊                                                                         \u001b[0m| 80/937 [00:00<00:05, 155.59it/s]\u001b[0m\u001b[A\n",
      " 10%|\u001b[38;2;30;71;6m████████▎                                                                       \u001b[0m| 97/937 [00:00<00:05, 158.02it/s]\u001b[0m\u001b[A\n",
      " 12%|\u001b[38;2;30;71;6m█████████▌                                                                     \u001b[0m| 113/937 [00:00<00:05, 157.39it/s]\u001b[0m\u001b[A\n",
      " 14%|\u001b[38;2;30;71;6m██████████▉                                                                    \u001b[0m| 130/937 [00:00<00:05, 158.59it/s]\u001b[0m\u001b[A\n",
      " 16%|\u001b[38;2;30;71;6m████████████▎                                                                  \u001b[0m| 146/937 [00:00<00:05, 147.55it/s]\u001b[0m\u001b[A\n",
      " 17%|\u001b[38;2;30;71;6m█████████████▌                                                                 \u001b[0m| 161/937 [00:01<00:05, 146.30it/s]\u001b[0m\u001b[A\n",
      " 19%|\u001b[38;2;30;71;6m██████████████▉                                                                \u001b[0m| 177/937 [00:01<00:05, 150.24it/s]\u001b[0m\u001b[A\n",
      " 21%|\u001b[38;2;30;71;6m████████████████▎                                                              \u001b[0m| 193/937 [00:01<00:04, 151.97it/s]\u001b[0m\u001b[A\n",
      " 22%|\u001b[38;2;30;71;6m█████████████████▌                                                             \u001b[0m| 209/937 [00:01<00:04, 153.64it/s]\u001b[0m\u001b[A\n",
      " 24%|\u001b[38;2;30;71;6m██████████████████▉                                                            \u001b[0m| 225/937 [00:01<00:04, 155.28it/s]\u001b[0m\u001b[A\n",
      " 26%|\u001b[38;2;30;71;6m████████████████████▎                                                          \u001b[0m| 241/937 [00:01<00:04, 155.85it/s]\u001b[0m\u001b[A\n",
      " 27%|\u001b[38;2;30;71;6m█████████████████████▋                                                         \u001b[0m| 257/937 [00:01<00:04, 156.84it/s]\u001b[0m\u001b[A\n",
      " 29%|\u001b[38;2;30;71;6m███████████████████████                                                        \u001b[0m| 273/937 [00:01<00:04, 156.32it/s]\u001b[0m\u001b[A\n",
      " 31%|\u001b[38;2;30;71;6m████████████████████████▎                                                      \u001b[0m| 289/937 [00:01<00:04, 156.70it/s]\u001b[0m\u001b[A\n",
      " 33%|\u001b[38;2;30;71;6m█████████████████████████▊                                                     \u001b[0m| 306/937 [00:01<00:03, 158.06it/s]\u001b[0m\u001b[A\n",
      " 34%|\u001b[38;2;30;71;6m███████████████████████████▏                                                   \u001b[0m| 322/937 [00:02<00:03, 158.47it/s]\u001b[0m\u001b[A\n",
      " 36%|\u001b[38;2;30;71;6m████████████████████████████▌                                                  \u001b[0m| 339/937 [00:02<00:03, 159.28it/s]\u001b[0m\u001b[A\n",
      " 38%|\u001b[38;2;30;71;6m█████████████████████████████▉                                                 \u001b[0m| 355/937 [00:02<00:04, 145.39it/s]\u001b[0m\u001b[A\n",
      " 40%|\u001b[38;2;30;71;6m███████████████████████████████▎                                               \u001b[0m| 371/937 [00:02<00:03, 148.19it/s]\u001b[0m\u001b[A\n",
      " 41%|\u001b[38;2;30;71;6m████████████████████████████████▋                                              \u001b[0m| 387/937 [00:02<00:03, 150.45it/s]\u001b[0m\u001b[A\n",
      " 43%|\u001b[38;2;30;71;6m█████████████████████████████████▉                                             \u001b[0m| 403/937 [00:02<00:03, 152.95it/s]\u001b[0m\u001b[A\n",
      " 45%|\u001b[38;2;30;71;6m███████████████████████████████████▎                                           \u001b[0m| 419/937 [00:02<00:03, 153.43it/s]\u001b[0m\u001b[A\n",
      " 46%|\u001b[38;2;30;71;6m████████████████████████████████████▋                                          \u001b[0m| 435/937 [00:02<00:03, 155.11it/s]\u001b[0m\u001b[A\n",
      " 48%|\u001b[38;2;30;71;6m██████████████████████████████████████                                         \u001b[0m| 451/937 [00:02<00:03, 155.26it/s]\u001b[0m\u001b[A\n",
      " 50%|\u001b[38;2;30;71;6m███████████████████████████████████████▎                                       \u001b[0m| 467/937 [00:03<00:03, 154.16it/s]\u001b[0m\u001b[A\n",
      " 52%|\u001b[38;2;30;71;6m████████████████████████████████████████▋                                      \u001b[0m| 483/937 [00:03<00:03, 150.93it/s]\u001b[0m\u001b[A\n",
      " 53%|\u001b[38;2;30;71;6m██████████████████████████████████████████                                     \u001b[0m| 499/937 [00:03<00:02, 150.72it/s]\u001b[0m\u001b[A\n",
      " 55%|\u001b[38;2;30;71;6m███████████████████████████████████████████▍                                   \u001b[0m| 515/937 [00:03<00:02, 150.17it/s]\u001b[0m\u001b[A\n",
      " 57%|\u001b[38;2;30;71;6m████████████████████████████████████████████▊                                  \u001b[0m| 531/937 [00:03<00:02, 150.20it/s]\u001b[0m\u001b[A\n",
      " 58%|\u001b[38;2;30;71;6m██████████████████████████████████████████████                                 \u001b[0m| 547/937 [00:03<00:02, 148.48it/s]\u001b[0m\u001b[A\n",
      " 60%|\u001b[38;2;30;71;6m███████████████████████████████████████████████▍                               \u001b[0m| 562/937 [00:03<00:02, 140.67it/s]\u001b[0m\u001b[A\n",
      " 62%|\u001b[38;2;30;71;6m████████████████████████████████████████████████▋                              \u001b[0m| 577/937 [00:03<00:02, 139.38it/s]\u001b[0m\u001b[A\n",
      " 63%|\u001b[38;2;30;71;6m█████████████████████████████████████████████████▉                             \u001b[0m| 592/937 [00:03<00:02, 140.18it/s]\u001b[0m\u001b[A\n",
      " 65%|\u001b[38;2;30;71;6m███████████████████████████████████████████████████▏                           \u001b[0m| 607/937 [00:04<00:02, 141.93it/s]\u001b[0m\u001b[A\n",
      " 66%|\u001b[38;2;30;71;6m████████████████████████████████████████████████████▍                          \u001b[0m| 622/937 [00:04<00:02, 143.20it/s]\u001b[0m\u001b[A\n",
      " 68%|\u001b[38;2;30;71;6m█████████████████████████████████████████████████████▋                         \u001b[0m| 637/937 [00:04<00:02, 144.12it/s]\u001b[0m\u001b[A\n",
      " 70%|\u001b[38;2;30;71;6m██████████████████████████████████████████████████████▉                        \u001b[0m| 652/937 [00:04<00:01, 145.45it/s]\u001b[0m\u001b[A\n",
      " 71%|\u001b[38;2;30;71;6m████████████████████████████████████████████████████████▏                      \u001b[0m| 667/937 [00:04<00:01, 146.55it/s]\u001b[0m\u001b[A\n",
      " 73%|\u001b[38;2;30;71;6m█████████████████████████████████████████████████████████▌                     \u001b[0m| 682/937 [00:04<00:01, 147.34it/s]\u001b[0m\u001b[A\n",
      " 74%|\u001b[38;2;30;71;6m██████████████████████████████████████████████████████████▊                    \u001b[0m| 697/937 [00:04<00:01, 147.67it/s]\u001b[0m\u001b[A\n",
      " 76%|\u001b[38;2;30;71;6m████████████████████████████████████████████████████████████                   \u001b[0m| 712/937 [00:04<00:01, 147.26it/s]\u001b[0m\u001b[A\n",
      " 78%|\u001b[38;2;30;71;6m█████████████████████████████████████████████████████████████▎                 \u001b[0m| 727/937 [00:04<00:01, 147.41it/s]\u001b[0m\u001b[A\n",
      " 79%|\u001b[38;2;30;71;6m██████████████████████████████████████████████████████████████▌                \u001b[0m| 742/937 [00:04<00:01, 137.76it/s]\u001b[0m\u001b[A\n",
      " 81%|\u001b[38;2;30;71;6m███████████████████████████████████████████████████████████████▊               \u001b[0m| 757/937 [00:05<00:01, 138.66it/s]\u001b[0m\u001b[A\n",
      " 82%|\u001b[38;2;30;71;6m█████████████████████████████████████████████████████████████████              \u001b[0m| 772/937 [00:05<00:01, 140.87it/s]\u001b[0m\u001b[A\n",
      " 84%|\u001b[38;2;30;71;6m██████████████████████████████████████████████████████████████████▎            \u001b[0m| 787/937 [00:05<00:01, 141.65it/s]\u001b[0m\u001b[A\n",
      " 86%|\u001b[38;2;30;71;6m███████████████████████████████████████████████████████████████████▌           \u001b[0m| 802/937 [00:05<00:00, 142.95it/s]\u001b[0m\u001b[A\n",
      " 87%|\u001b[38;2;30;71;6m████████████████████████████████████████████████████████████████████▉          \u001b[0m| 817/937 [00:05<00:00, 144.80it/s]\u001b[0m\u001b[A\n",
      " 89%|\u001b[38;2;30;71;6m██████████████████████████████████████████████████████████████████████▏        \u001b[0m| 832/937 [00:05<00:00, 146.10it/s]\u001b[0m\u001b[A\n",
      " 90%|\u001b[38;2;30;71;6m███████████████████████████████████████████████████████████████████████▍       \u001b[0m| 847/937 [00:05<00:00, 146.46it/s]\u001b[0m\u001b[A\n",
      " 92%|\u001b[38;2;30;71;6m████████████████████████████████████████████████████████████████████████▋      \u001b[0m| 862/937 [00:05<00:00, 145.74it/s]\u001b[0m\u001b[A\n",
      " 94%|\u001b[38;2;30;71;6m█████████████████████████████████████████████████████████████████████████▉     \u001b[0m| 877/937 [00:05<00:00, 145.92it/s]\u001b[0m\u001b[A\n",
      " 95%|\u001b[38;2;30;71;6m███████████████████████████████████████████████████████████████████████████▏   \u001b[0m| 892/937 [00:05<00:00, 144.32it/s]\u001b[0m\u001b[A\n",
      " 97%|\u001b[38;2;30;71;6m████████████████████████████████████████████████████████████████████████████▍  \u001b[0m| 907/937 [00:06<00:00, 144.91it/s]\u001b[0m\u001b[A\n",
      " 98%|\u001b[38;2;30;71;6m█████████████████████████████████████████████████████████████████████████████▋ \u001b[0m| 922/937 [00:06<00:00, 137.91it/s]\u001b[0m\u001b[A\n",
      "100%|\u001b[38;2;30;71;6m███████████████████████████████████████████████████████████████████████████████\u001b[0m| 937/937 [00:06<00:00, 148.36it/s]\u001b[0m\u001b[A\n",
      "\u001b[32m2024-11-19 20:19:23.289\u001b[0m | \u001b[1mINFO    \u001b[0m | \u001b[36mmltrainer.trainer\u001b[0m:\u001b[36mreport\u001b[0m:\u001b[36m191\u001b[0m - \u001b[1mEpoch 4 train 0.2214 test 0.3104 metric ['0.8898']\u001b[0m\n",
      " 62%|\u001b[38;2;30;71;6m████████████████████████████████████████████████████▌                               \u001b[0m| 5/8 [00:31<00:19,  6.47s/it]\u001b[0m\n",
      "  0%|\u001b[38;2;30;71;6m                                                                                          \u001b[0m| 0/937 [00:00<?, ?it/s]\u001b[0m\u001b[A\n",
      "  2%|\u001b[38;2;30;71;6m█▎                                                                              \u001b[0m| 16/937 [00:00<00:06, 151.64it/s]\u001b[0m\u001b[A\n",
      "  3%|\u001b[38;2;30;71;6m██▋                                                                             \u001b[0m| 32/937 [00:00<00:05, 152.49it/s]\u001b[0m\u001b[A\n",
      "  5%|\u001b[38;2;30;71;6m████                                                                            \u001b[0m| 48/937 [00:00<00:05, 151.11it/s]\u001b[0m\u001b[A\n",
      "  7%|\u001b[38;2;30;71;6m█████▍                                                                          \u001b[0m| 64/937 [00:00<00:06, 143.29it/s]\u001b[0m\u001b[A\n",
      "  8%|\u001b[38;2;30;71;6m██████▋                                                                         \u001b[0m| 79/937 [00:00<00:05, 143.02it/s]\u001b[0m\u001b[A\n",
      " 10%|\u001b[38;2;30;71;6m████████                                                                        \u001b[0m| 94/937 [00:00<00:05, 141.58it/s]\u001b[0m\u001b[A\n",
      " 12%|\u001b[38;2;30;71;6m█████████▏                                                                     \u001b[0m| 109/937 [00:00<00:05, 140.50it/s]\u001b[0m\u001b[A\n",
      " 13%|\u001b[38;2;30;71;6m██████████▍                                                                    \u001b[0m| 124/937 [00:00<00:05, 141.02it/s]\u001b[0m\u001b[A\n",
      " 15%|\u001b[38;2;30;71;6m███████████▋                                                                   \u001b[0m| 139/937 [00:00<00:05, 134.68it/s]\u001b[0m\u001b[A\n",
      " 16%|\u001b[38;2;30;71;6m████████████▉                                                                  \u001b[0m| 153/937 [00:01<00:06, 114.66it/s]\u001b[0m\u001b[A\n",
      " 18%|\u001b[38;2;30;71;6m██████████████                                                                 \u001b[0m| 167/937 [00:01<00:06, 119.74it/s]\u001b[0m\u001b[A\n",
      " 20%|\u001b[38;2;30;71;6m███████████████▍                                                               \u001b[0m| 183/937 [00:01<00:05, 129.73it/s]\u001b[0m\u001b[A\n",
      " 21%|\u001b[38;2;30;71;6m████████████████▊                                                              \u001b[0m| 200/937 [00:01<00:05, 139.41it/s]\u001b[0m\u001b[A\n",
      " 23%|\u001b[38;2;30;71;6m██████████████████▏                                                            \u001b[0m| 216/937 [00:01<00:04, 145.03it/s]\u001b[0m\u001b[A\n",
      " 25%|\u001b[38;2;30;71;6m███████████████████▋                                                           \u001b[0m| 233/937 [00:01<00:04, 151.06it/s]\u001b[0m\u001b[A\n",
      " 27%|\u001b[38;2;30;71;6m█████████████████████▏                                                         \u001b[0m| 251/937 [00:01<00:04, 157.13it/s]\u001b[0m\u001b[A\n",
      " 29%|\u001b[38;2;30;71;6m██████████████████████▋                                                        \u001b[0m| 269/937 [00:01<00:04, 162.08it/s]\u001b[0m\u001b[A\n",
      " 31%|\u001b[38;2;30;71;6m████████████████████████                                                       \u001b[0m| 286/937 [00:01<00:03, 164.11it/s]\u001b[0m\u001b[A\n",
      " 32%|\u001b[38;2;30;71;6m█████████████████████████▋                                                     \u001b[0m| 304/937 [00:02<00:03, 166.56it/s]\u001b[0m\u001b[A\n",
      " 34%|\u001b[38;2;30;71;6m███████████████████████████                                                    \u001b[0m| 321/937 [00:02<00:03, 160.51it/s]\u001b[0m\u001b[A\n",
      " 36%|\u001b[38;2;30;71;6m████████████████████████████▍                                                  \u001b[0m| 338/937 [00:02<00:03, 151.30it/s]\u001b[0m\u001b[A\n",
      " 38%|\u001b[38;2;30;71;6m█████████████████████████████▊                                                 \u001b[0m| 354/937 [00:02<00:03, 152.17it/s]\u001b[0m\u001b[A\n",
      " 40%|\u001b[38;2;30;71;6m███████████████████████████████▎                                               \u001b[0m| 371/937 [00:02<00:03, 155.63it/s]\u001b[0m\u001b[A\n",
      " 41%|\u001b[38;2;30;71;6m████████████████████████████████▋                                              \u001b[0m| 388/937 [00:02<00:03, 158.68it/s]\u001b[0m\u001b[A\n",
      " 43%|\u001b[38;2;30;71;6m██████████████████████████████████▏                                            \u001b[0m| 405/937 [00:02<00:03, 159.83it/s]\u001b[0m\u001b[A\n",
      " 45%|\u001b[38;2;30;71;6m███████████████████████████████████▋                                           \u001b[0m| 423/937 [00:02<00:03, 163.98it/s]\u001b[0m\u001b[A\n",
      " 47%|\u001b[38;2;30;71;6m█████████████████████████████████████▏                                         \u001b[0m| 441/937 [00:02<00:02, 166.89it/s]\u001b[0m\u001b[A\n",
      " 49%|\u001b[38;2;30;71;6m██████████████████████████████████████▌                                        \u001b[0m| 458/937 [00:03<00:02, 161.44it/s]\u001b[0m\u001b[A\n",
      " 51%|\u001b[38;2;30;71;6m████████████████████████████████████████                                       \u001b[0m| 475/937 [00:03<00:02, 156.08it/s]\u001b[0m\u001b[A\n",
      " 52%|\u001b[38;2;30;71;6m█████████████████████████████████████████▍                                     \u001b[0m| 491/937 [00:03<00:02, 152.69it/s]\u001b[0m\u001b[A\n",
      " 54%|\u001b[38;2;30;71;6m██████████████████████████████████████████▋                                    \u001b[0m| 507/937 [00:03<00:03, 142.73it/s]\u001b[0m\u001b[A\n",
      " 56%|\u001b[38;2;30;71;6m████████████████████████████████████████████                                   \u001b[0m| 522/937 [00:03<00:02, 141.04it/s]\u001b[0m\u001b[A\n",
      " 57%|\u001b[38;2;30;71;6m█████████████████████████████████████████████▎                                 \u001b[0m| 537/937 [00:03<00:02, 141.12it/s]\u001b[0m\u001b[A\n",
      " 59%|\u001b[38;2;30;71;6m██████████████████████████████████████████████▌                                \u001b[0m| 552/937 [00:03<00:02, 139.14it/s]\u001b[0m\u001b[A\n",
      " 60%|\u001b[38;2;30;71;6m███████████████████████████████████████████████▋                               \u001b[0m| 566/937 [00:03<00:02, 138.42it/s]\u001b[0m\u001b[A\n",
      " 62%|\u001b[38;2;30;71;6m████████████████████████████████████████████████▉                              \u001b[0m| 581/937 [00:03<00:02, 139.51it/s]\u001b[0m\u001b[A\n",
      " 64%|\u001b[38;2;30;71;6m██████████████████████████████████████████████████▏                            \u001b[0m| 596/937 [00:04<00:02, 140.69it/s]\u001b[0m\u001b[A\n",
      " 65%|\u001b[38;2;30;71;6m███████████████████████████████████████████████████▌                           \u001b[0m| 611/937 [00:04<00:02, 140.93it/s]\u001b[0m\u001b[A\n",
      " 67%|\u001b[38;2;30;71;6m████████████████████████████████████████████████████▊                          \u001b[0m| 626/937 [00:04<00:02, 141.70it/s]\u001b[0m\u001b[A\n",
      " 68%|\u001b[38;2;30;71;6m██████████████████████████████████████████████████████                         \u001b[0m| 641/937 [00:04<00:02, 137.29it/s]\u001b[0m\u001b[A\n",
      " 70%|\u001b[38;2;30;71;6m███████████████████████████████████████████████████████▎                       \u001b[0m| 656/937 [00:04<00:02, 138.33it/s]\u001b[0m\u001b[A\n",
      " 72%|\u001b[38;2;30;71;6m████████████████████████████████████████████████████████▍                      \u001b[0m| 670/937 [00:04<00:02, 131.53it/s]\u001b[0m\u001b[A\n",
      " 73%|\u001b[38;2;30;71;6m█████████████████████████████████████████████████████████▋                     \u001b[0m| 684/937 [00:04<00:01, 132.95it/s]\u001b[0m\u001b[A\n",
      " 74%|\u001b[38;2;30;71;6m██████████████████████████████████████████████████████████▊                    \u001b[0m| 698/937 [00:04<00:01, 134.74it/s]\u001b[0m\u001b[A\n",
      " 76%|\u001b[38;2;30;71;6m████████████████████████████████████████████████████████████                   \u001b[0m| 713/937 [00:04<00:01, 137.14it/s]\u001b[0m\u001b[A\n",
      " 78%|\u001b[38;2;30;71;6m█████████████████████████████████████████████████████████████▍                 \u001b[0m| 728/937 [00:05<00:01, 139.04it/s]\u001b[0m\u001b[A\n",
      " 79%|\u001b[38;2;30;71;6m██████████████████████████████████████████████████████████████▋                \u001b[0m| 743/937 [00:05<00:01, 140.58it/s]\u001b[0m\u001b[A\n",
      " 81%|\u001b[38;2;30;71;6m███████████████████████████████████████████████████████████████▉               \u001b[0m| 758/937 [00:05<00:01, 141.85it/s]\u001b[0m\u001b[A\n",
      " 82%|\u001b[38;2;30;71;6m█████████████████████████████████████████████████████████████████▏             \u001b[0m| 773/937 [00:05<00:01, 142.76it/s]\u001b[0m\u001b[A\n",
      " 84%|\u001b[38;2;30;71;6m██████████████████████████████████████████████████████████████████▍            \u001b[0m| 788/937 [00:05<00:01, 142.64it/s]\u001b[0m\u001b[A\n",
      " 86%|\u001b[38;2;30;71;6m███████████████████████████████████████████████████████████████████▋           \u001b[0m| 803/937 [00:05<00:00, 142.89it/s]\u001b[0m\u001b[A\n",
      " 87%|\u001b[38;2;30;71;6m████████████████████████████████████████████████████████████████████▉          \u001b[0m| 818/937 [00:05<00:00, 134.21it/s]\u001b[0m\u001b[A\n",
      " 89%|\u001b[38;2;30;71;6m██████████████████████████████████████████████████████████████████████▏        \u001b[0m| 832/937 [00:05<00:00, 135.05it/s]\u001b[0m\u001b[A\n",
      " 90%|\u001b[38;2;30;71;6m███████████████████████████████████████████████████████████████████████▍       \u001b[0m| 847/937 [00:05<00:00, 136.90it/s]\u001b[0m\u001b[A\n",
      " 92%|\u001b[38;2;30;71;6m████████████████████████████████████████████████████████████████████████▌      \u001b[0m| 861/937 [00:05<00:00, 137.74it/s]\u001b[0m\u001b[A\n",
      " 93%|\u001b[38;2;30;71;6m█████████████████████████████████████████████████████████████████████████▊     \u001b[0m| 876/937 [00:06<00:00, 139.65it/s]\u001b[0m\u001b[A\n",
      " 95%|\u001b[38;2;30;71;6m███████████████████████████████████████████████████████████████████████████    \u001b[0m| 891/937 [00:06<00:00, 140.81it/s]\u001b[0m\u001b[A\n",
      " 97%|\u001b[38;2;30;71;6m████████████████████████████████████████████████████████████████████████████▍  \u001b[0m| 906/937 [00:06<00:00, 142.03it/s]\u001b[0m\u001b[A\n",
      " 98%|\u001b[38;2;30;71;6m█████████████████████████████████████████████████████████████████████████████▋ \u001b[0m| 921/937 [00:06<00:00, 143.30it/s]\u001b[0m\u001b[A\n",
      "100%|\u001b[38;2;30;71;6m███████████████████████████████████████████████████████████████████████████████\u001b[0m| 937/937 [00:06<00:00, 144.08it/s]\u001b[0m\u001b[A\n",
      "\u001b[32m2024-11-19 20:19:30.571\u001b[0m | \u001b[1mINFO    \u001b[0m | \u001b[36mmltrainer.trainer\u001b[0m:\u001b[36mreport\u001b[0m:\u001b[36m191\u001b[0m - \u001b[1mEpoch 5 train 0.2236 test 0.3099 metric ['0.8903']\u001b[0m\n",
      " 75%|\u001b[38;2;30;71;6m███████████████████████████████████████████████████████████████                     \u001b[0m| 6/8 [00:38<00:13,  6.74s/it]\u001b[0m\n",
      "  0%|\u001b[38;2;30;71;6m                                                                                          \u001b[0m| 0/937 [00:00<?, ?it/s]\u001b[0m\u001b[A\n",
      "  2%|\u001b[38;2;30;71;6m█▌                                                                              \u001b[0m| 18/937 [00:00<00:05, 172.11it/s]\u001b[0m\u001b[A\n",
      "  4%|\u001b[38;2;30;71;6m███                                                                             \u001b[0m| 36/937 [00:00<00:05, 171.21it/s]\u001b[0m\u001b[A\n",
      "  6%|\u001b[38;2;30;71;6m████▌                                                                           \u001b[0m| 54/937 [00:00<00:05, 169.46it/s]\u001b[0m\u001b[A\n",
      "  8%|\u001b[38;2;30;71;6m██████                                                                          \u001b[0m| 71/937 [00:00<00:05, 169.01it/s]\u001b[0m\u001b[A\n",
      "  9%|\u001b[38;2;30;71;6m███████▌                                                                        \u001b[0m| 88/937 [00:00<00:05, 167.88it/s]\u001b[0m\u001b[A\n",
      " 11%|\u001b[38;2;30;71;6m████████▊                                                                      \u001b[0m| 105/937 [00:00<00:04, 167.74it/s]\u001b[0m\u001b[A\n",
      " 13%|\u001b[38;2;30;71;6m██████████▎                                                                    \u001b[0m| 122/937 [00:00<00:04, 168.18it/s]\u001b[0m\u001b[A\n",
      " 15%|\u001b[38;2;30;71;6m███████████▋                                                                   \u001b[0m| 139/937 [00:00<00:04, 168.48it/s]\u001b[0m\u001b[A\n",
      " 17%|\u001b[38;2;30;71;6m█████████████▏                                                                 \u001b[0m| 156/937 [00:00<00:04, 165.11it/s]\u001b[0m\u001b[A\n",
      " 18%|\u001b[38;2;30;71;6m██████████████▌                                                                \u001b[0m| 173/937 [00:01<00:04, 156.68it/s]\u001b[0m\u001b[A\n",
      " 20%|\u001b[38;2;30;71;6m████████████████                                                               \u001b[0m| 190/937 [00:01<00:04, 158.00it/s]\u001b[0m\u001b[A\n",
      " 22%|\u001b[38;2;30;71;6m█████████████████▍                                                             \u001b[0m| 207/937 [00:01<00:04, 160.30it/s]\u001b[0m\u001b[A\n",
      " 24%|\u001b[38;2;30;71;6m██████████████████▉                                                            \u001b[0m| 224/937 [00:01<00:04, 157.84it/s]\u001b[0m\u001b[A\n",
      " 26%|\u001b[38;2;30;71;6m████████████████████▏                                                          \u001b[0m| 240/937 [00:01<00:04, 152.51it/s]\u001b[0m\u001b[A\n",
      " 27%|\u001b[38;2;30;71;6m█████████████████████▌                                                         \u001b[0m| 256/937 [00:01<00:04, 148.94it/s]\u001b[0m\u001b[A\n",
      " 29%|\u001b[38;2;30;71;6m██████████████████████▊                                                        \u001b[0m| 271/937 [00:01<00:04, 146.97it/s]\u001b[0m\u001b[A\n",
      " 31%|\u001b[38;2;30;71;6m████████████████████████                                                       \u001b[0m| 286/937 [00:01<00:04, 142.38it/s]\u001b[0m\u001b[A\n",
      " 32%|\u001b[38;2;30;71;6m█████████████████████████▍                                                     \u001b[0m| 301/937 [00:01<00:04, 136.48it/s]\u001b[0m\u001b[A\n",
      " 34%|\u001b[38;2;30;71;6m██████████████████████████▌                                                    \u001b[0m| 315/937 [00:02<00:04, 132.54it/s]\u001b[0m\u001b[A\n",
      " 35%|\u001b[38;2;30;71;6m███████████████████████████▋                                                   \u001b[0m| 329/937 [00:02<00:04, 131.87it/s]\u001b[0m\u001b[A\n",
      " 37%|\u001b[38;2;30;71;6m████████████████████████████▉                                                  \u001b[0m| 343/937 [00:02<00:04, 133.42it/s]\u001b[0m\u001b[A\n",
      " 38%|\u001b[38;2;30;71;6m██████████████████████████████▏                                                \u001b[0m| 358/937 [00:02<00:04, 136.36it/s]\u001b[0m\u001b[A\n",
      " 40%|\u001b[38;2;30;71;6m███████████████████████████████▎                                               \u001b[0m| 372/937 [00:02<00:04, 135.66it/s]\u001b[0m\u001b[A\n",
      " 41%|\u001b[38;2;30;71;6m████████████████████████████████▌                                              \u001b[0m| 386/937 [00:02<00:04, 133.26it/s]\u001b[0m\u001b[A\n",
      " 43%|\u001b[38;2;30;71;6m█████████████████████████████████▋                                             \u001b[0m| 400/937 [00:02<00:04, 134.22it/s]\u001b[0m\u001b[A\n",
      " 44%|\u001b[38;2;30;71;6m██████████████████████████████████▉                                            \u001b[0m| 415/937 [00:02<00:03, 136.21it/s]\u001b[0m\u001b[A\n",
      " 46%|\u001b[38;2;30;71;6m████████████████████████████████████▏                                          \u001b[0m| 429/937 [00:02<00:03, 137.03it/s]\u001b[0m\u001b[A\n",
      " 47%|\u001b[38;2;30;71;6m█████████████████████████████████████▎                                         \u001b[0m| 443/937 [00:03<00:03, 128.48it/s]\u001b[0m\u001b[A\n",
      " 49%|\u001b[38;2;30;71;6m██████████████████████████████████████▍                                        \u001b[0m| 456/937 [00:03<00:03, 127.64it/s]\u001b[0m\u001b[A\n",
      " 50%|\u001b[38;2;30;71;6m███████████████████████████████████████▋                                       \u001b[0m| 470/937 [00:03<00:03, 130.21it/s]\u001b[0m\u001b[A\n",
      " 52%|\u001b[38;2;30;71;6m████████████████████████████████████████▊                                      \u001b[0m| 484/937 [00:03<00:03, 132.44it/s]\u001b[0m\u001b[A\n",
      " 53%|\u001b[38;2;30;71;6m█████████████████████████████████████████▉                                     \u001b[0m| 498/937 [00:03<00:03, 133.27it/s]\u001b[0m\u001b[A\n",
      " 55%|\u001b[38;2;30;71;6m███████████████████████████████████████████▏                                   \u001b[0m| 512/937 [00:03<00:03, 134.30it/s]\u001b[0m\u001b[A\n",
      " 56%|\u001b[38;2;30;71;6m████████████████████████████████████████████▎                                  \u001b[0m| 526/937 [00:03<00:03, 134.07it/s]\u001b[0m\u001b[A\n",
      " 58%|\u001b[38;2;30;71;6m█████████████████████████████████████████████▌                                 \u001b[0m| 540/937 [00:03<00:03, 130.99it/s]\u001b[0m\u001b[A\n",
      " 59%|\u001b[38;2;30;71;6m██████████████████████████████████████████████▋                                \u001b[0m| 554/937 [00:03<00:02, 133.36it/s]\u001b[0m\u001b[A\n",
      " 61%|\u001b[38;2;30;71;6m███████████████████████████████████████████████▉                               \u001b[0m| 568/937 [00:03<00:02, 126.99it/s]\u001b[0m\u001b[A\n",
      " 62%|\u001b[38;2;30;71;6m█████████████████████████████████████████████████                              \u001b[0m| 582/937 [00:04<00:02, 127.94it/s]\u001b[0m\u001b[A\n",
      " 64%|\u001b[38;2;30;71;6m██████████████████████████████████████████████████▏                            \u001b[0m| 596/937 [00:04<00:02, 131.31it/s]\u001b[0m\u001b[A\n",
      " 65%|\u001b[38;2;30;71;6m███████████████████████████████████████████████████▍                           \u001b[0m| 610/937 [00:04<00:02, 131.72it/s]\u001b[0m\u001b[A\n",
      " 67%|\u001b[38;2;30;71;6m████████████████████████████████████████████████████▌                          \u001b[0m| 624/937 [00:04<00:02, 132.00it/s]\u001b[0m\u001b[A\n",
      " 68%|\u001b[38;2;30;71;6m█████████████████████████████████████████████████████▊                         \u001b[0m| 638/937 [00:04<00:02, 133.72it/s]\u001b[0m\u001b[A\n",
      " 70%|\u001b[38;2;30;71;6m███████████████████████████████████████████████████████                        \u001b[0m| 653/937 [00:04<00:02, 135.49it/s]\u001b[0m\u001b[A\n",
      " 71%|\u001b[38;2;30;71;6m████████████████████████████████████████████████████████▏                      \u001b[0m| 667/937 [00:04<00:01, 136.72it/s]\u001b[0m\u001b[A\n",
      " 73%|\u001b[38;2;30;71;6m█████████████████████████████████████████████████████████▍                     \u001b[0m| 681/937 [00:04<00:01, 128.27it/s]\u001b[0m\u001b[A\n",
      " 74%|\u001b[38;2;30;71;6m██████████████████████████████████████████████████████████▌                    \u001b[0m| 694/937 [00:04<00:01, 128.21it/s]\u001b[0m\u001b[A\n",
      " 76%|\u001b[38;2;30;71;6m███████████████████████████████████████████████████████████▋                   \u001b[0m| 708/937 [00:05<00:01, 130.52it/s]\u001b[0m\u001b[A\n",
      " 77%|\u001b[38;2;30;71;6m████████████████████████████████████████████████████████████▉                  \u001b[0m| 723/937 [00:05<00:01, 133.62it/s]\u001b[0m\u001b[A\n",
      " 79%|\u001b[38;2;30;71;6m██████████████████████████████████████████████████████████████▏                \u001b[0m| 737/937 [00:05<00:01, 133.30it/s]\u001b[0m\u001b[A\n",
      " 80%|\u001b[38;2;30;71;6m███████████████████████████████████████████████████████████████▍               \u001b[0m| 752/937 [00:05<00:01, 136.01it/s]\u001b[0m\u001b[A\n",
      " 82%|\u001b[38;2;30;71;6m████████████████████████████████████████████████████████████████▋              \u001b[0m| 767/937 [00:05<00:01, 137.46it/s]\u001b[0m\u001b[A\n",
      " 83%|\u001b[38;2;30;71;6m█████████████████████████████████████████████████████████████████▊             \u001b[0m| 781/937 [00:05<00:01, 129.78it/s]\u001b[0m\u001b[A\n",
      " 85%|\u001b[38;2;30;71;6m███████████████████████████████████████████████████████████████████            \u001b[0m| 795/937 [00:05<00:01, 105.09it/s]\u001b[0m\u001b[A\n",
      " 86%|\u001b[38;2;30;71;6m████████████████████████████████████████████████████████████████████▏          \u001b[0m| 809/937 [00:05<00:01, 113.32it/s]\u001b[0m\u001b[A\n",
      " 88%|\u001b[38;2;30;71;6m█████████████████████████████████████████████████████████████████████▋         \u001b[0m| 826/937 [00:05<00:00, 127.59it/s]\u001b[0m\u001b[A\n",
      " 90%|\u001b[38;2;30;71;6m███████████████████████████████████████████████████████████████████████▏       \u001b[0m| 844/937 [00:06<00:00, 141.35it/s]\u001b[0m\u001b[A\n",
      " 92%|\u001b[38;2;30;71;6m████████████████████████████████████████████████████████████████████████▊      \u001b[0m| 863/937 [00:06<00:00, 152.43it/s]\u001b[0m\u001b[A\n",
      " 94%|\u001b[38;2;30;71;6m██████████████████████████████████████████████████████████████████████████▎    \u001b[0m| 882/937 [00:06<00:00, 161.83it/s]\u001b[0m\u001b[A\n",
      " 96%|\u001b[38;2;30;71;6m███████████████████████████████████████████████████████████████████████████▉   \u001b[0m| 901/937 [00:06<00:00, 167.98it/s]\u001b[0m\u001b[A\n",
      "100%|\u001b[38;2;30;71;6m███████████████████████████████████████████████████████████████████████████████\u001b[0m| 937/937 [00:06<00:00, 142.02it/s]\u001b[0m\u001b[A\n",
      "\u001b[32m2024-11-19 20:19:37.764\u001b[0m | \u001b[1mINFO    \u001b[0m | \u001b[36mmltrainer.trainer\u001b[0m:\u001b[36mreport\u001b[0m:\u001b[36m191\u001b[0m - \u001b[1mEpoch 6 train 0.2228 test 0.3101 metric ['0.8903']\u001b[0m\n",
      "\u001b[32m2024-11-19 20:19:37.765\u001b[0m | \u001b[1mINFO    \u001b[0m | \u001b[36mmltrainer.trainer\u001b[0m:\u001b[36m__call__\u001b[0m:\u001b[36m234\u001b[0m - \u001b[1mbest loss: 0.3099, current loss 0.3101.Counter 1/10.\u001b[0m\n",
      " 88%|\u001b[38;2;30;71;6m█████████████████████████████████████████████████████████████████████████▌          \u001b[0m| 7/8 [00:45<00:06,  6.89s/it]\u001b[0m\n",
      "  0%|\u001b[38;2;30;71;6m                                                                                          \u001b[0m| 0/937 [00:00<?, ?it/s]\u001b[0m\u001b[A\n",
      "  2%|\u001b[38;2;30;71;6m█▊                                                                              \u001b[0m| 21/937 [00:00<00:04, 200.60it/s]\u001b[0m\u001b[A\n",
      "  4%|\u001b[38;2;30;71;6m███▌                                                                            \u001b[0m| 42/937 [00:00<00:04, 198.56it/s]\u001b[0m\u001b[A\n",
      "  7%|\u001b[38;2;30;71;6m█████▎                                                                          \u001b[0m| 62/937 [00:00<00:04, 195.26it/s]\u001b[0m\u001b[A\n",
      "  9%|\u001b[38;2;30;71;6m███████                                                                         \u001b[0m| 82/937 [00:00<00:04, 186.02it/s]\u001b[0m\u001b[A\n",
      " 11%|\u001b[38;2;30;71;6m████████▌                                                                      \u001b[0m| 101/937 [00:00<00:04, 172.98it/s]\u001b[0m\u001b[A\n",
      " 13%|\u001b[38;2;30;71;6m██████████                                                                     \u001b[0m| 119/937 [00:00<00:04, 166.13it/s]\u001b[0m\u001b[A\n",
      " 15%|\u001b[38;2;30;71;6m███████████▍                                                                   \u001b[0m| 136/937 [00:00<00:05, 152.19it/s]\u001b[0m\u001b[A\n",
      " 16%|\u001b[38;2;30;71;6m████████████▊                                                                  \u001b[0m| 152/937 [00:00<00:05, 145.91it/s]\u001b[0m\u001b[A\n",
      " 18%|\u001b[38;2;30;71;6m██████████████                                                                 \u001b[0m| 167/937 [00:01<00:05, 146.58it/s]\u001b[0m\u001b[A\n",
      " 19%|\u001b[38;2;30;71;6m███████████████▎                                                               \u001b[0m| 182/937 [00:01<00:05, 144.30it/s]\u001b[0m\u001b[A\n",
      " 21%|\u001b[38;2;30;71;6m████████████████▌                                                              \u001b[0m| 197/937 [00:01<00:05, 142.06it/s]\u001b[0m\u001b[A\n",
      " 23%|\u001b[38;2;30;71;6m█████████████████▊                                                             \u001b[0m| 212/937 [00:01<00:05, 140.53it/s]\u001b[0m\u001b[A\n",
      " 24%|\u001b[38;2;30;71;6m███████████████████▏                                                           \u001b[0m| 227/937 [00:01<00:05, 140.21it/s]\u001b[0m\u001b[A\n",
      " 26%|\u001b[38;2;30;71;6m████████████████████▍                                                          \u001b[0m| 242/937 [00:01<00:04, 140.36it/s]\u001b[0m\u001b[A\n",
      " 27%|\u001b[38;2;30;71;6m█████████████████████▋                                                         \u001b[0m| 257/937 [00:01<00:04, 138.58it/s]\u001b[0m\u001b[A\n",
      " 29%|\u001b[38;2;30;71;6m██████████████████████▊                                                        \u001b[0m| 271/937 [00:01<00:05, 132.08it/s]\u001b[0m\u001b[A\n",
      " 30%|\u001b[38;2;30;71;6m████████████████████████                                                       \u001b[0m| 285/937 [00:01<00:04, 133.59it/s]\u001b[0m\u001b[A\n",
      " 32%|\u001b[38;2;30;71;6m█████████████████████████▎                                                     \u001b[0m| 300/937 [00:02<00:04, 135.72it/s]\u001b[0m\u001b[A\n",
      " 34%|\u001b[38;2;30;71;6m██████████████████████████▌                                                    \u001b[0m| 315/937 [00:02<00:04, 137.62it/s]\u001b[0m\u001b[A\n",
      " 35%|\u001b[38;2;30;71;6m███████████████████████████▋                                                   \u001b[0m| 329/937 [00:02<00:04, 136.72it/s]\u001b[0m\u001b[A\n",
      " 37%|\u001b[38;2;30;71;6m████████████████████████████▉                                                  \u001b[0m| 343/937 [00:02<00:04, 136.37it/s]\u001b[0m\u001b[A\n",
      " 38%|\u001b[38;2;30;71;6m██████████████████████████████                                                 \u001b[0m| 357/937 [00:02<00:04, 136.02it/s]\u001b[0m\u001b[A\n",
      " 40%|\u001b[38;2;30;71;6m███████████████████████████████▎                                               \u001b[0m| 371/937 [00:02<00:04, 136.97it/s]\u001b[0m\u001b[A\n",
      " 41%|\u001b[38;2;30;71;6m████████████████████████████████▍                                              \u001b[0m| 385/937 [00:02<00:04, 130.49it/s]\u001b[0m\u001b[A\n",
      " 43%|\u001b[38;2;30;71;6m█████████████████████████████████▋                                             \u001b[0m| 399/937 [00:02<00:04, 130.40it/s]\u001b[0m\u001b[A\n",
      " 44%|\u001b[38;2;30;71;6m██████████████████████████████████▊                                            \u001b[0m| 413/937 [00:02<00:04, 129.79it/s]\u001b[0m\u001b[A\n",
      " 46%|\u001b[38;2;30;71;6m████████████████████████████████████                                           \u001b[0m| 427/937 [00:02<00:03, 131.74it/s]\u001b[0m\u001b[A\n",
      " 47%|\u001b[38;2;30;71;6m█████████████████████████████████████▎                                         \u001b[0m| 442/937 [00:03<00:03, 134.84it/s]\u001b[0m\u001b[A\n",
      " 49%|\u001b[38;2;30;71;6m██████████████████████████████████████▌                                        \u001b[0m| 457/937 [00:03<00:03, 137.22it/s]\u001b[0m\u001b[A\n",
      " 50%|\u001b[38;2;30;71;6m███████████████████████████████████████▊                                       \u001b[0m| 472/937 [00:03<00:03, 138.67it/s]\u001b[0m\u001b[A\n",
      " 52%|\u001b[38;2;30;71;6m█████████████████████████████████████████                                      \u001b[0m| 487/937 [00:03<00:03, 139.32it/s]\u001b[0m\u001b[A\n",
      " 53%|\u001b[38;2;30;71;6m██████████████████████████████████████████▏                                    \u001b[0m| 501/937 [00:03<00:03, 136.94it/s]\u001b[0m\u001b[A\n",
      " 55%|\u001b[38;2;30;71;6m███████████████████████████████████████████▍                                   \u001b[0m| 515/937 [00:03<00:03, 127.04it/s]\u001b[0m\u001b[A\n",
      " 56%|\u001b[38;2;30;71;6m████████████████████████████████████████████▌                                  \u001b[0m| 528/937 [00:03<00:03, 127.29it/s]\u001b[0m\u001b[A\n",
      " 58%|\u001b[38;2;30;71;6m█████████████████████████████████████████████▋                                 \u001b[0m| 542/937 [00:03<00:03, 128.51it/s]\u001b[0m\u001b[A\n",
      " 59%|\u001b[38;2;30;71;6m██████████████████████████████████████████████▉                                \u001b[0m| 556/937 [00:03<00:02, 130.07it/s]\u001b[0m\u001b[A\n",
      " 61%|\u001b[38;2;30;71;6m████████████████████████████████████████████████                               \u001b[0m| 570/937 [00:04<00:02, 131.57it/s]\u001b[0m\u001b[A\n",
      " 62%|\u001b[38;2;30;71;6m█████████████████████████████████████████████████▏                             \u001b[0m| 584/937 [00:04<00:02, 131.70it/s]\u001b[0m\u001b[A\n",
      " 64%|\u001b[38;2;30;71;6m██████████████████████████████████████████████████▍                            \u001b[0m| 598/937 [00:04<00:02, 132.37it/s]\u001b[0m\u001b[A\n",
      " 65%|\u001b[38;2;30;71;6m███████████████████████████████████████████████████▌                           \u001b[0m| 612/937 [00:04<00:02, 133.96it/s]\u001b[0m\u001b[A\n",
      " 67%|\u001b[38;2;30;71;6m████████████████████████████████████████████████████▊                          \u001b[0m| 626/937 [00:04<00:02, 134.69it/s]\u001b[0m\u001b[A\n",
      " 68%|\u001b[38;2;30;71;6m█████████████████████████████████████████████████████▉                         \u001b[0m| 640/937 [00:04<00:02, 127.82it/s]\u001b[0m\u001b[A\n",
      " 70%|\u001b[38;2;30;71;6m███████████████████████████████████████████████████████▏                       \u001b[0m| 654/937 [00:04<00:02, 129.78it/s]\u001b[0m\u001b[A\n",
      " 71%|\u001b[38;2;30;71;6m████████████████████████████████████████████████████████▎                      \u001b[0m| 668/937 [00:04<00:02, 127.07it/s]\u001b[0m\u001b[A\n",
      " 73%|\u001b[38;2;30;71;6m█████████████████████████████████████████████████████████▌                     \u001b[0m| 682/937 [00:04<00:01, 129.74it/s]\u001b[0m\u001b[A\n",
      " 74%|\u001b[38;2;30;71;6m██████████████████████████████████████████████████████████▋                    \u001b[0m| 696/937 [00:04<00:01, 132.59it/s]\u001b[0m\u001b[A\n",
      " 76%|\u001b[38;2;30;71;6m███████████████████████████████████████████████████████████▊                   \u001b[0m| 710/937 [00:05<00:01, 133.75it/s]\u001b[0m\u001b[A\n",
      " 77%|\u001b[38;2;30;71;6m█████████████████████████████████████████████████████████████                  \u001b[0m| 724/937 [00:05<00:01, 133.79it/s]\u001b[0m\u001b[A\n",
      " 79%|\u001b[38;2;30;71;6m██████████████████████████████████████████████████████████████▏                \u001b[0m| 738/937 [00:05<00:01, 133.19it/s]\u001b[0m\u001b[A\n",
      " 80%|\u001b[38;2;30;71;6m███████████████████████████████████████████████████████████████▍               \u001b[0m| 752/937 [00:05<00:01, 126.54it/s]\u001b[0m\u001b[A\n",
      " 82%|\u001b[38;2;30;71;6m████████████████████████████████████████████████████████████████▍              \u001b[0m| 765/937 [00:05<00:01, 111.88it/s]\u001b[0m\u001b[A\n",
      " 83%|\u001b[38;2;30;71;6m█████████████████████████████████████████████████████████████████▌             \u001b[0m| 777/937 [00:05<00:01, 112.38it/s]\u001b[0m\u001b[A\n",
      " 85%|\u001b[38;2;30;71;6m██████████████████████████████████████████████████████████████████▊            \u001b[0m| 792/937 [00:05<00:01, 122.26it/s]\u001b[0m\u001b[A\n",
      " 86%|\u001b[38;2;30;71;6m████████████████████████████████████████████████████████████████████           \u001b[0m| 807/937 [00:05<00:01, 129.74it/s]\u001b[0m\u001b[A\n",
      " 88%|\u001b[38;2;30;71;6m█████████████████████████████████████████████████████████████████████▍         \u001b[0m| 823/937 [00:05<00:00, 136.37it/s]\u001b[0m\u001b[A\n",
      " 90%|\u001b[38;2;30;71;6m██████████████████████████████████████████████████████████████████████▋        \u001b[0m| 839/937 [00:06<00:00, 142.05it/s]\u001b[0m\u001b[A\n",
      " 91%|\u001b[38;2;30;71;6m████████████████████████████████████████████████████████████████████████       \u001b[0m| 855/937 [00:06<00:00, 146.58it/s]\u001b[0m\u001b[A\n",
      " 93%|\u001b[38;2;30;71;6m█████████████████████████████████████████████████████████████████████████▎     \u001b[0m| 870/937 [00:06<00:00, 145.66it/s]\u001b[0m\u001b[A\n",
      " 94%|\u001b[38;2;30;71;6m██████████████████████████████████████████████████████████████████████████▌    \u001b[0m| 885/937 [00:06<00:00, 141.37it/s]\u001b[0m\u001b[A\n",
      " 96%|\u001b[38;2;30;71;6m███████████████████████████████████████████████████████████████████████████▉   \u001b[0m| 900/937 [00:06<00:00, 143.60it/s]\u001b[0m\u001b[A\n",
      " 98%|\u001b[38;2;30;71;6m█████████████████████████████████████████████████████████████████████████████▏ \u001b[0m| 916/937 [00:06<00:00, 146.78it/s]\u001b[0m\u001b[A\n",
      "100%|\u001b[38;2;30;71;6m███████████████████████████████████████████████████████████████████████████████\u001b[0m| 937/937 [00:06<00:00, 138.67it/s]\u001b[0m\u001b[A\n",
      "\u001b[32m2024-11-19 20:19:45.238\u001b[0m | \u001b[1mINFO    \u001b[0m | \u001b[36mmltrainer.trainer\u001b[0m:\u001b[36mreport\u001b[0m:\u001b[36m191\u001b[0m - \u001b[1mEpoch 7 train 0.2209 test 0.3104 metric ['0.8903']\u001b[0m\n",
      "\u001b[32m2024-11-19 20:19:45.239\u001b[0m | \u001b[1mINFO    \u001b[0m | \u001b[36mmltrainer.trainer\u001b[0m:\u001b[36m__call__\u001b[0m:\u001b[36m234\u001b[0m - \u001b[1mbest loss: 0.3099, current loss 0.3104.Counter 2/10.\u001b[0m\n",
      "100%|\u001b[38;2;30;71;6m████████████████████████████████████████████████████████████████████████████████████\u001b[0m| 8/8 [00:53<00:00,  6.66s/it]\u001b[0m\n"
     ]
    }
   ],
   "source": [
    "trainer.loop()"
   ]
  },
  {
   "cell_type": "markdown",
   "metadata": {},
   "source": [
    "# Save the model"
   ]
  },
  {
   "cell_type": "markdown",
   "metadata": {},
   "source": [
    "You will have the latest model at trainer.model, or just use the old model (which is the same)"
   ]
  },
  {
   "cell_type": "markdown",
   "metadata": {},
   "source": [
    "If you have a look at the settings.earlystop_kwargs, you can see that save is by default false. If you change this to true, the trainer would have kept track of the best model so far and saved it in between. Because this can take up additional time and in a learning setting like we are in we typically dont really want to save the model for later use, we dont need it here.\n",
    "\n",
    "However, in a real life setting you probably want the best model!"
   ]
  },
  {
   "cell_type": "code",
   "execution_count": 83,
   "metadata": {},
   "outputs": [
    {
     "data": {
      "text/plain": [
       "{'save': False, 'verbose': True, 'patience': 10}"
      ]
     },
     "execution_count": 83,
     "metadata": {},
     "output_type": "execute_result"
    }
   ],
   "source": [
    "settings.earlystop_kwargs"
   ]
  },
  {
   "cell_type": "markdown",
   "metadata": {},
   "source": [
    "You can save it manually"
   ]
  },
  {
   "cell_type": "code",
   "execution_count": 84,
   "metadata": {},
   "outputs": [
    {
     "name": "stdout",
     "output_type": "stream",
     "text": [
      "modeldir exists: True\n"
     ]
    }
   ],
   "source": [
    "model_dir = Path(\"../../models\").resolve()\n",
    "print(f'modeldir exists: {model_dir.exists()}')\n",
    "modelpath = model_dir / \"trained_model\"\n",
    "torch.save(model, modelpath)"
   ]
  },
  {
   "cell_type": "markdown",
   "metadata": {},
   "source": [
    "In the case you would have set the earlystop.save to true like this:"
   ]
  },
  {
   "cell_type": "code",
   "execution_count": 85,
   "metadata": {},
   "outputs": [],
   "source": [
    "settings = TrainerSettings(\n",
    "    epochs=10,\n",
    "    metrics=[accuracy],\n",
    "    logdir=log_dir,\n",
    "    train_steps=len(train),\n",
    "    valid_steps=len(valid),\n",
    "    reporttypes=[ReportTypes.TENSORBOARD],\n",
    "    earlystop_kwargs={'save': True, 'verbose': True, 'patience': 10}\n",
    ")"
   ]
  },
  {
   "cell_type": "markdown",
   "metadata": {},
   "source": [
    "The trainer would have saved checkpoints of the last best model. You can obtain the location of the checkpoint with `trainer.early_stopping.path`"
   ]
  },
  {
   "cell_type": "code",
   "execution_count": 86,
   "metadata": {},
   "outputs": [
    {
     "data": {
      "text/plain": [
       "WindowsPath('C:/Users/Francesca/Documents/osint/code_repo/AI/MADS-MachineLearning-course/notebooks/1_pytorch_intro/logs/20241119-201850/checkpoint.pt')"
      ]
     },
     "execution_count": 86,
     "metadata": {},
     "output_type": "execute_result"
    }
   ],
   "source": [
    "trainer.early_stopping.path"
   ]
  },
  {
   "cell_type": "markdown",
   "metadata": {},
   "source": [
    "# load the model"
   ]
  },
  {
   "cell_type": "code",
   "execution_count": 88,
   "metadata": {},
   "outputs": [
    {
     "data": {
      "text/plain": [
       "WindowsPath('C:/Users/Francesca/Documents/osint/code_repo/AI/MADS-MachineLearning-course/models/trained_model')"
      ]
     },
     "execution_count": 88,
     "metadata": {},
     "output_type": "execute_result"
    }
   ],
   "source": [
    "modelpath"
   ]
  },
  {
   "cell_type": "code",
   "execution_count": 87,
   "metadata": {},
   "outputs": [
    {
     "name": "stdout",
     "output_type": "stream",
     "text": [
      "using cuda:0\n"
     ]
    },
    {
     "name": "stderr",
     "output_type": "stream",
     "text": [
      "C:\\Users\\Francesca\\AppData\\Local\\Temp\\ipykernel_25876\\2419944736.py:5: FutureWarning: You are using `torch.load` with `weights_only=False` (the current default value), which uses the default pickle module implicitly. It is possible to construct malicious pickle data which will execute arbitrary code during unpickling (See https://github.com/pytorch/pytorch/blob/main/SECURITY.md#untrusted-models for more details). In a future release, the default value for `weights_only` will be flipped to `True`. This limits the functions that could be executed during unpickling. Arbitrary objects will no longer be allowed to be loaded via this mode unless they are explicitly allowlisted by the user via `torch.serialization.add_safe_globals`. We recommend you start setting `weights_only=True` for any use case where you don't have full control of the loaded file. Please open an issue on GitHub for any issues related to this experimental feature.\n",
      "  loaded_model = torch.load(modelpath, map_location=device)\n"
     ]
    }
   ],
   "source": [
    "# note that I would expect the loaded model to run on mps, but that doesnt work as expected\n",
    "if device == \"mps\":\n",
    "    device = \"cpu\"\n",
    "print(f\"using {device}\")\n",
    "loaded_model = torch.load(modelpath, map_location=device)"
   ]
  },
  {
   "cell_type": "code",
   "execution_count": 44,
   "metadata": {},
   "outputs": [
    {
     "name": "stdout",
     "output_type": "stream",
     "text": [
      "cuda:0\n",
      "cuda:0\n",
      "cuda:0\n",
      "cuda:0\n",
      "cuda:0\n",
      "cuda:0\n",
      "cuda:0\n",
      "cuda:0\n"
     ]
    }
   ],
   "source": [
    "for param in loaded_model.parameters():\n",
    "    print(param.device)"
   ]
  },
  {
   "cell_type": "markdown",
   "metadata": {},
   "source": [
    "Get a batch $X$, $y$ and make a prediction $\\hat{y}$"
   ]
  },
  {
   "cell_type": "code",
   "execution_count": 45,
   "metadata": {},
   "outputs": [],
   "source": [
    "X, y = next(iter(testloader))"
   ]
  },
  {
   "cell_type": "code",
   "execution_count": 48,
   "metadata": {},
   "outputs": [
    {
     "data": {
      "text/plain": [
       "tensor(0.3396, device='cuda:0', grad_fn=<NllLossBackward0>)"
      ]
     },
     "execution_count": 48,
     "metadata": {},
     "output_type": "execute_result"
    }
   ],
   "source": [
    "yhat = loaded_model(X.to(device))\n",
    "loss_fn(yhat, y.to(device))"
   ]
  },
  {
   "cell_type": "markdown",
   "metadata": {},
   "source": [
    "Check the accuracy:\n",
    "- for every example we have 10 numbers\n",
    "- the location with the highest value is the prediction\n",
    "- we can get the index with `argmax` over dimension 1\n",
    "- we compare that index with the original number\n",
    "- This gives us a count of all the correct predictions\n",
    "- dividing that through the total length gives us the accuracy percentage. "
   ]
  },
  {
   "cell_type": "code",
   "execution_count": 49,
   "metadata": {},
   "outputs": [
    {
     "data": {
      "text/plain": [
       "87.5"
      ]
     },
     "execution_count": 49,
     "metadata": {},
     "output_type": "execute_result"
    }
   ],
   "source": [
    "acc = (yhat.argmax(dim=1) == y.to(device)).sum() / len(y.to(device))\n",
    "acc.item() * 100"
   ]
  },
  {
   "cell_type": "markdown",
   "metadata": {},
   "source": [
    "Note that this is the accuracy for a single batch! \n",
    "Get another batch by running next() in the cell above, and calculate the accuracy again."
   ]
  }
 ],
 "metadata": {
  "kernelspec": {
   "display_name": "Python 3 (ipykernel)",
   "language": "python",
   "name": "python3"
  },
  "language_info": {
   "codemirror_mode": {
    "name": "ipython",
    "version": 3
   },
   "file_extension": ".py",
   "mimetype": "text/x-python",
   "name": "python",
   "nbconvert_exporter": "python",
   "pygments_lexer": "ipython3",
   "version": "3.11.9"
  },
  "vscode": {
   "interpreter": {
    "hash": "45c41bdaf5373703b03bba2d9bd89c97dc8ee5add9f1112e039ff04603b8e2ee"
   }
  }
 },
 "nbformat": 4,
 "nbformat_minor": 4
}
